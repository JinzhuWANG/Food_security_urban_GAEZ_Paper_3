{
 "cells": [
  {
   "cell_type": "code",
   "execution_count": 1,
   "id": "13380c0b",
   "metadata": {},
   "outputs": [],
   "source": [
    "import pandas as pd\n",
    "import numpy as np\n",
    "import seaborn as sns\n",
    "\n",
    "from ast import literal_eval\n",
    "from dfply import *\n",
    "\n",
    "import geopandas as gpd\n",
    "\n",
    "import plotnine\n",
    "from plotnine import *\n",
    "import matplotlib.pyplot as plt\n",
    "\n",
    "from tqdm.auto import tqdm\n",
    "import itertools"
   ]
  },
  {
   "cell_type": "code",
   "execution_count": null,
   "id": "ed4ce007",
   "metadata": {},
   "outputs": [],
   "source": []
  },
  {
   "cell_type": "code",
   "execution_count": 2,
   "id": "62b3a9c6",
   "metadata": {},
   "outputs": [],
   "source": [
    "# copose the rules to select valid SSP-RCP combinations\n",
    "rules = '''((X.ssp == 'SSP1')&(X.rcp == '26'))|\n",
    "       ((X.ssp == 'SSP2')&(X.rcp == '45'))|\n",
    "       ((X.ssp == 'SSP3')&(X.rcp == '60'))|\n",
    "       ((X.ssp == 'SSP5')&(X.rcp == '85'))'''\n",
    "\n",
    "rules = rules.replace('\\n','').replace(' ','')"
   ]
  },
  {
   "cell_type": "code",
   "execution_count": null,
   "id": "f37224c3",
   "metadata": {},
   "outputs": [],
   "source": []
  },
  {
   "cell_type": "code",
   "execution_count": null,
   "id": "32b3b5f6",
   "metadata": {},
   "outputs": [],
   "source": []
  },
  {
   "cell_type": "code",
   "execution_count": 3,
   "id": "06af510b",
   "metadata": {},
   "outputs": [],
   "source": [
    "# # final productoin\n",
    "# pred_actual_production_df_cities = pd.read_csv('../Step_2_Sort_GAEZ_layers/result_csv_with_CO2/pred_actual_production_df_cities.csv')\\\n",
    "#                   >> rename(Predict_production = 'Total Production',Predict_production_sd = 'Total Production sd')\n",
    "# # the climate impacts\n",
    "# climate_production_df_cites = pd.read_csv('../Step_2_Sort_GAEZ_layers/result_csv_with_CO2/climate_production_df_cites.csv')\\\n",
    "#                   >> rename(Climate_gap = 'Gap Production',Climate_gap_sd = 'Gap Production sd')\n",
    "# # the technology impacts\n",
    "# tech_production_df_cites = pd.read_csv('../Step_2_Sort_GAEZ_layers/result_csv_with_CO2/tech_production_df_cites.csv')\\\n",
    "#                   >> rename(Tech_gap = 'Gap Production', Tech_gap_sd = 'Gap Production sd')\n",
    "# # the reclamation impacts\n",
    "# reclamation_production_df_cites = pd.read_csv('../Step_2_Sort_GAEZ_layers/result_csv_with_CO2/reclamation_production_df_cites.csv')\\\n",
    "#                   >> rename(Reclamation_gap = 'Gap Production', Reclamation_gap_sd = 'Gap Production sd')\n",
    "# # the urbanization impacts\n",
    "# urban_production_df_cites = pd.read_csv('../Step_2_Sort_GAEZ_layers/result_csv_with_CO2/urban_production_df_cites.csv')\\\n",
    "#                   >> rename(Urban_gap = 'Gap Production', Urban_gap_sd = 'Gap Production sd')\n",
    "\n",
    "# #  urban_gap: make the gap negative\n",
    "# urban_production_df_cites['Urban_gap'] = -urban_production_df_cites['Urban_gap']\n",
    "\n",
    "# # merge all production dfs\n",
    "# production_with_impact_gaps = pred_actual_production_df_cities\\\n",
    "#                 .merge(climate_production_df_cites)\\\n",
    "#                 .merge(tech_production_df_cites)\\\n",
    "#                 .merge(reclamation_production_df_cites)\\\n",
    "#                 .merge(urban_production_df_cites)\n",
    "           "
   ]
  },
  {
   "cell_type": "code",
   "execution_count": null,
   "id": "77c2ab2d",
   "metadata": {},
   "outputs": [],
   "source": []
  },
  {
   "cell_type": "code",
   "execution_count": 4,
   "id": "30242761",
   "metadata": {},
   "outputs": [
    {
     "data": {
      "application/vnd.jupyter.widget-view+json": {
       "model_id": "62351f3a5e1443359c79a9451082959a",
       "version_major": 2,
       "version_minor": 0
      },
      "text/plain": [
       "  0%|          | 0/9120 [00:00<?, ?it/s]"
      ]
     },
     "metadata": {},
     "output_type": "display_data"
    }
   ],
   "source": [
    "# out_dfs = []\n",
    "# grouped_df = production_with_impact_gaps.groupby(['Province','crop','water','rcp','ssp'])\n",
    "\n",
    "# for idx,df in tqdm(grouped_df,total=len(grouped_df)):\n",
    "\n",
    "#   # copy input_df\n",
    "#   out_df = df.copy().sort_values('year')\n",
    "#   out_df['final_year'] = df['year'] + 5\n",
    "\n",
    "#   # get the production in 2020\n",
    "#   prod_2020 = df[df['year']==2020]['Predict_production'].tolist()[0]\n",
    "\n",
    "#   # compute the accumulate climate/tech impacts\n",
    "#   out_df['accum_climate'] = out_df['Climate_gap'].cumsum()\n",
    "#   out_df['accum_tech'] = out_df['Tech_gap'].cumsum()\n",
    "#   out_df['accum_reclamation'] = out_df['Reclamation_gap'].cumsum()\n",
    "#   out_df['accum_urban'] = out_df['Urban_gap'].cumsum()\n",
    "  \n",
    "\n",
    "#   # compute the confidence interval of accumulated impacts\n",
    "#   out_df['accum_climate_bot'] = out_df['accum_climate'] - out_df['Climate_gap_sd']\n",
    "#   out_df['accum_climate_top'] = out_df['accum_climate'] + out_df['Climate_gap_sd']\n",
    "#   out_df['accum_tech_bot'] = out_df['accum_tech'] - out_df['Tech_gap_sd']\n",
    "#   out_df['accum_tech_top'] = out_df['accum_tech'] + out_df['Tech_gap_sd']\n",
    "#   out_df['accum_reclamation_bot'] = out_df['accum_reclamation'] - out_df['Reclamation_gap_sd']\n",
    "#   out_df['accum_reclamation_top'] = out_df['accum_reclamation'] + out_df['Reclamation_gap_sd']\n",
    "#   out_df['accum_urban_bot'] = out_df['accum_urban'] - out_df['Urban_gap_sd']\n",
    "#   out_df['accum_urban_top'] = out_df['accum_urban'] + out_df['Urban_gap_sd']\n",
    "\n",
    "\n",
    "#   # compute the final values imposed by climate/tech/urban/reclamation chronologicall\n",
    "#   gaps_all = np.array([list(pair) for pair in zip(out_df['Climate_gap'],out_df['Tech_gap'],\n",
    "#                              out_df['Urban_gap'],out_df['Reclamation_gap'])]).flatten()\n",
    "#   gaps_all = np.insert(gaps_all,0,prod_2020)\n",
    "\n",
    "#   gaps_chronologically = np.cumsum(gaps_all).tolist()[1:]\n",
    "\n",
    "#   out_df['final_climate'] = gaps_chronologically[0::4]\n",
    "#   out_df['final_tech'] = gaps_chronologically[1::4]\n",
    "#   out_df['final_urban'] = gaps_chronologically[2::4]\n",
    "#   out_df['final_reclamation'] = gaps_chronologically[3::4]\n",
    "\n",
    "#   # get the uncertianties\n",
    "#   out_df['final_climate_bot'] = out_df['final_climate'] - out_df['Climate_gap_sd']\n",
    "#   out_df['final_climate_top'] = out_df['final_climate'] + out_df['Climate_gap_sd']\n",
    "#   out_df['final_tech_bot'] = out_df['final_tech'] - out_df['Tech_gap_sd']\n",
    "#   out_df['final_tech_top'] = out_df['final_tech'] + out_df['Tech_gap_sd']\n",
    "#   out_df['final_reclamation_bot'] = out_df['final_reclamation'] - out_df['Reclamation_gap_sd']\n",
    "#   out_df['final_reclamation_top'] = out_df['final_reclamation'] + out_df['Reclamation_gap_sd']\n",
    "#   out_df['final_urban_bot'] = out_df['final_urban'] - out_df['Urban_gap_sd']\n",
    "#   out_df['final_urban_top'] = out_df['final_urban'] + out_df['Urban_gap_sd']\n",
    "  \n",
    "#   # record the columns\n",
    "#   out_df = out_df[['crop','water','Province','rcp', 'ssp', 'year','final_year',\n",
    "#             'accum_climate','accum_climate_bot','accum_climate_top',\n",
    "#             'accum_tech','accum_tech_bot','accum_tech_top',\n",
    "#             'accum_urban','accum_urban_bot','accum_urban_top',\n",
    "#             'accum_reclamation','accum_reclamation_bot','accum_reclamation_top',\n",
    "#             'final_climate','final_climate_bot','final_climate_top',\n",
    "#             'final_tech','final_tech_bot','final_tech_top',\n",
    "#             'final_reclamation','final_reclamation_bot','final_reclamation_top',\n",
    "#             'final_urban','final_urban_bot','final_urban_top']]\n",
    "\n",
    "#   out_dfs.append(out_df)\n",
    "\n",
    "  \n",
    "# # concat all dfs in the list and save to disk\n",
    "# production_city_crop_water_without_2020 = pd.concat(out_dfs).reset_index(drop=True)"
   ]
  },
  {
   "cell_type": "code",
   "execution_count": null,
   "id": "1e4b63c3",
   "metadata": {},
   "outputs": [],
   "source": []
  },
  {
   "cell_type": "code",
   "execution_count": 5,
   "id": "c02569e7",
   "metadata": {},
   "outputs": [],
   "source": [
    "# # get the production in 2020\n",
    "# production_with_impact_gaps_2020 = production_with_impact_gaps \\\n",
    "#                     >> mask(X.year == 2020)\\\n",
    "#                     >> select(['crop','water','Province','rcp', 'ssp', 'year',\n",
    "#                           'Predict_production','Predict_production_sd'])\\\n",
    "#                     >> mutate(final_urban=X.Predict_production,\n",
    "#                        final_urban_bot = X.Predict_production - X.Predict_production_sd,\n",
    "#                        final_urban_top = X.Predict_production + X.Predict_production_sd)\\\n",
    "#                     >> rename(final_year = 'year') >> drop(['Predict_production','Predict_production_sd'])\n",
    "\n",
    "# # append 2020 records to the production_city_crop_water\n",
    "# production_city_crop_water = pd.concat([production_with_impact_gaps_2020,production_city_crop_water_without_2020])"
   ]
  },
  {
   "cell_type": "code",
   "execution_count": null,
   "id": "d65bcc5e",
   "metadata": {},
   "outputs": [],
   "source": []
  },
  {
   "cell_type": "code",
   "execution_count": 6,
   "id": "29f8d7de",
   "metadata": {},
   "outputs": [],
   "source": [
    "# # compute the net total production change\n",
    "# production_city_crop_water['net_change'] = production_city_crop_water['accum_climate'] \\\n",
    "#                         + production_city_crop_water['accum_tech'] \\\n",
    "#                         + production_city_crop_water['accum_urban'] \\\n",
    "#                         + production_city_crop_water['accum_reclamation']\n",
    "\n",
    "# production_city_crop_water['net_change_bot'] = production_city_crop_water['accum_climate_bot'] \\\n",
    "#                         + production_city_crop_water['accum_tech_bot'] \\\n",
    "#                         + production_city_crop_water['accum_urban_bot'] \\\n",
    "#                         + production_city_crop_water['accum_reclamation']\n",
    "\n",
    "# production_city_crop_water['net_change_top'] = production_city_crop_water['accum_climate_top'] \\\n",
    "#                         + production_city_crop_water['accum_tech_top'] \\\n",
    "#                         + production_city_crop_water['accum_urban_top'] \\\n",
    "#                         + production_city_crop_water['accum_reclamation']\n",
    "\n",
    "# # add scenario col\n",
    "# production_city_crop_water['rcp'] = production_city_crop_water['rcp'].astype(str)\n",
    "# production_city_crop_water['Scenario'] = production_city_crop_water.apply(lambda x:f\"{x['ssp']}-{x['rcp']}\",1)\n",
    "\n",
    "\n",
    "# # change kt to million t\n",
    "# cols_change = list(set(production_city_crop_water.columns) \n",
    "#             - set(['crop', 'water', 'Province', 'rcp', 'ssp', 'year', 'final_year','Scenario']))\n",
    "# production_city_crop_water[cols_change] = production_city_crop_water[cols_change]/1e3\n",
    "\n",
    "# # save to disk\n",
    "# production_city_crop_water.to_csv(f'./result_csv/production_city_crop_water_with_CO2.csv',index=False)"
   ]
  },
  {
   "cell_type": "code",
   "execution_count": null,
   "id": "30bcfcb3",
   "metadata": {},
   "outputs": [],
   "source": []
  },
  {
   "cell_type": "code",
   "execution_count": 9,
   "id": "11d51cc3",
   "metadata": {},
   "outputs": [
    {
     "name": "stderr",
     "output_type": "stream",
     "text": [
      "C:\\Users\\Administrator\\AppData\\Local\\Temp\\ipykernel_12388\\1889434067.py:5: FutureWarning: The default value of numeric_only in DataFrameGroupBy.sum is deprecated. In a future version, numeric_only will default to False. Either specify numeric_only or select only columns which should be valid for the function.\n",
      "C:\\Users\\Administrator\\AppData\\Local\\Temp\\ipykernel_12388\\1889434067.py:16: FutureWarning: The default value of numeric_only in DataFrameGroupBy.sum is deprecated. In a future version, numeric_only will default to False. Either specify numeric_only or select only columns which should be valid for the function.\n",
      "C:\\Users\\Administrator\\AppData\\Local\\Temp\\ipykernel_12388\\1889434067.py:30: FutureWarning: The default value of numeric_only in DataFrameGroupBy.sum is deprecated. In a future version, numeric_only will default to False. Either specify numeric_only or select only columns which should be valid for the function.\n"
     ]
    }
   ],
   "source": [
    "# read crop production change data\n",
    "\n",
    "# read population data\n",
    "population = pd.read_csv('./result_csv/SSP_GDP_Pop_future_pred.csv')\n",
    "population_total = population.groupby(['year','Scenario']).sum().reset_index() \\\n",
    "            >> rename(ssp='Scenario') \\\n",
    "            >> select(['ssp','year','Pop'])\n",
    "\n",
    "# ========================= Without CO2 ===============================\n",
    "production_city_crop_water_no_CO2 = pd.read_csv('./result_csv/production_city_crop_water.csv')\n",
    "production_city_crop_water_no_CO2['rcp'] = production_city_crop_water_no_CO2['rcp'].astype(str)\n",
    "\n",
    "# compute the total production aggregated from all cities (kt)\n",
    "production_city_crop_water_total_no_CO2 = production_city_crop_water_no_CO2.fillna(0)\\\n",
    "                                             .groupby(['rcp','ssp','year','final_year','Scenario'])\\\n",
    "                                             .sum().reset_index()\n",
    "\n",
    "# selecet the necessary cols\n",
    "production_city_crop_water_total_no_CO2 = production_city_crop_water_total_no_CO2\\\n",
    "                   >> mask(eval(rules))\\\n",
    "                   >> drop('year') >> rename(year='final_year')\n",
    "\n",
    "# ========================= Without CO2 ===============================\n",
    "production_city_crop_water_with_CO2 = pd.read_csv('./result_csv/production_city_crop_water_with_CO2.csv')\n",
    "production_city_crop_water_with_CO2['rcp'] = production_city_crop_water_with_CO2['rcp'].astype(str)\n",
    "\n",
    "# compute the total production aggregated from all cities (kt)\n",
    "production_city_crop_water_total_with_CO2 = production_city_crop_water_with_CO2.fillna(0)\\\n",
    "                                             .groupby(['rcp','ssp','year','final_year','Scenario'])\\\n",
    "                                             .sum().reset_index()\n",
    "\n",
    "# selecet the necessary cols\n",
    "production_city_crop_water_total_with_CO2 = production_city_crop_water_total_with_CO2\\\n",
    "                   >> mask(eval(rules))\\\n",
    "                   >> drop('year') >> rename(year='final_year')"
   ]
  },
  {
   "cell_type": "code",
   "execution_count": null,
   "id": "e7f63cae",
   "metadata": {},
   "outputs": [],
   "source": []
  },
  {
   "cell_type": "markdown",
   "id": "16cd9cc2",
   "metadata": {},
   "source": [
    "##### 2-1) Compute the total and per capita crop production"
   ]
  },
  {
   "cell_type": "code",
   "execution_count": null,
   "id": "7c9b338b",
   "metadata": {},
   "outputs": [],
   "source": []
  },
  {
   "cell_type": "code",
   "execution_count": 10,
   "id": "c77afca7",
   "metadata": {},
   "outputs": [],
   "source": [
    "# ========================= Without CO2 ===============================\n",
    "\n",
    "# merge production with population\n",
    "production_population_merge_no_CO2 = production_city_crop_water_total_no_CO2.merge(population_total)\n",
    "\n",
    "# compute the kt/person crop possesing \n",
    "production_population_merge_no_CO2['pp_production_kg'] = (production_population_merge_no_CO2['final_urban'] *1e6 * 1_000)\\\n",
    "                            /(production_population_merge_no_CO2['Pop'] * 10_000)\n",
    "production_population_merge_no_CO2['pp_production_bot_kg'] = (production_population_merge_no_CO2['final_urban_bot'] *1e6 * 1_000)\\\n",
    "                            /(production_population_merge_no_CO2['Pop'] * 10_000)\n",
    "production_population_merge_no_CO2['pp_production_top_kg'] = (production_population_merge_no_CO2['final_urban_top'] *1e6 * 1_000)\\\n",
    "                            /(production_population_merge_no_CO2['Pop'] * 10_000)\n",
    "\n",
    "\n",
    "# ========================= With CO2 ===============================\n",
    "\n",
    "# merge production with population\n",
    "production_population_merge_no_CO2 = production_city_crop_water_total_no_CO2.merge(population_total)\n",
    "\n",
    "# compute the kt/person crop possesing \n",
    "production_population_merge_no_CO2['pp_production_kg'] = (production_population_merge_no_CO2['final_urban'] *1e6 * 1_000)\\\n",
    "                            /(production_population_merge_no_CO2['Pop'] * 10_000)\n",
    "production_population_merge_no_CO2['pp_production_bot_kg'] = (production_population_merge_no_CO2['final_urban_bot'] *1e6 * 1_000)\\\n",
    "                            /(production_population_merge_no_CO2['Pop'] * 10_000)\n",
    "production_population_merge_no_CO2['pp_production_top_kg'] = (production_population_merge_no_CO2['final_urban_top'] *1e6 * 1_000)\\\n",
    "                            /(production_population_merge_no_CO2['Pop'] * 10_000)"
   ]
  },
  {
   "cell_type": "code",
   "execution_count": null,
   "id": "6da323f5",
   "metadata": {},
   "outputs": [],
   "source": []
  },
  {
   "cell_type": "markdown",
   "id": "1ca3bf97",
   "metadata": {},
   "source": [
    "### compute the mean production change"
   ]
  },
  {
   "cell_type": "code",
   "execution_count": 11,
   "id": "6219b58d",
   "metadata": {},
   "outputs": [
    {
     "name": "stderr",
     "output_type": "stream",
     "text": [
      "C:\\Users\\Administrator\\AppData\\Local\\Temp\\ipykernel_12388\\1984497734.py:4: FutureWarning: The default value of numeric_only in DataFrameGroupBy.sum is deprecated. In a future version, numeric_only will default to False. Either specify numeric_only or select only columns which should be valid for the function.\n",
      "C:\\Users\\Administrator\\AppData\\Local\\Temp\\ipykernel_12388\\1984497734.py:21: FutureWarning: The default value of numeric_only in DataFrameGroupBy.mean is deprecated. In a future version, numeric_only will default to False. Either specify numeric_only or select only columns which should be valid for the function.\n"
     ]
    }
   ],
   "source": [
    "# ========================= Without CO2 ===============================\n",
    "\n",
    "# compute the total crop production from city level records\n",
    "production_city_df_no_CO2 = production_city_crop_water_no_CO2.groupby(['rcp','ssp','year','final_year']).sum().reset_index()\n",
    "\n",
    "# make cols for coloring\n",
    "production_city_df_no_CO2['color_net'] = 'Net Change'\n",
    "production_city_df_no_CO2['color_climate'] = 'Climate'\n",
    "production_city_df_no_CO2['color_tech'] = 'Technology'\n",
    "production_city_df_no_CO2['color_reclamation'] = 'Reclamation'\n",
    "production_city_df_no_CO2['color_urban'] = 'Urbanization'\n",
    "\n",
    "# make scenario form rcp-ssp\n",
    "production_city_df_no_CO2['rcp'] = production_city_df_no_CO2['rcp'].astype(str)\n",
    "production_city_df_no_CO2['Scenario'] = production_city_df_no_CO2.apply(lambda x:f\"{x['ssp']}-{x['rcp']}\",1)\n",
    "\n",
    "# select the tier-1 ssp-rcp comninations\n",
    "production_city_df_masked_no_CO2 = production_city_df_no_CO2 >> mask(eval(rules))\n",
    "\n",
    "# get the mean values for all scenarios\n",
    "production_city_df_masked_mean_scenario_no_co2 = production_city_df_masked_no_CO2.groupby(['year','final_year']).mean().reset_index()\n",
    "production_city_df_masked_mean_scenario_no_co2['color_net'] = 'Net Change'\n",
    "production_city_df_masked_mean_scenario_no_co2['color_climate'] = 'Climate'\n",
    "production_city_df_masked_mean_scenario_no_co2['color_tech'] = 'Technology'\n",
    "production_city_df_masked_mean_scenario_no_co2['color_reclamation'] = 'Reclamation'\n",
    "production_city_df_masked_mean_scenario_no_co2['color_urban'] = 'Urbanization'"
   ]
  },
  {
   "cell_type": "code",
   "execution_count": null,
   "id": "226215e0",
   "metadata": {},
   "outputs": [],
   "source": []
  },
  {
   "cell_type": "code",
   "execution_count": 12,
   "id": "8f459a48",
   "metadata": {},
   "outputs": [
    {
     "name": "stderr",
     "output_type": "stream",
     "text": [
      "C:\\Users\\Administrator\\AppData\\Local\\Temp\\ipykernel_12388\\1093382634.py:4: FutureWarning: The default value of numeric_only in DataFrameGroupBy.sum is deprecated. In a future version, numeric_only will default to False. Either specify numeric_only or select only columns which should be valid for the function.\n",
      "C:\\Users\\Administrator\\AppData\\Local\\Temp\\ipykernel_12388\\1093382634.py:21: FutureWarning: The default value of numeric_only in DataFrameGroupBy.mean is deprecated. In a future version, numeric_only will default to False. Either specify numeric_only or select only columns which should be valid for the function.\n"
     ]
    }
   ],
   "source": [
    "# ========================= With CO2 ===============================\n",
    "\n",
    "# compute the total crop production from city level records\n",
    "production_city_df_with_CO2 = production_city_crop_water_with_CO2.groupby(['rcp','ssp','year','final_year']).sum().reset_index()\n",
    "\n",
    "# make cols for coloring\n",
    "production_city_df_with_CO2['color_net'] = 'Net Change'\n",
    "production_city_df_with_CO2['color_climate'] = 'Climate'\n",
    "production_city_df_with_CO2['color_tech'] = 'Technology'\n",
    "production_city_df_with_CO2['color_reclamation'] = 'Reclamation'\n",
    "production_city_df_with_CO2['color_urban'] = 'Urbanization'\n",
    "\n",
    "# make scenario form rcp-ssp\n",
    "production_city_df_with_CO2['rcp'] = production_city_df_with_CO2['rcp'].astype(str)\n",
    "production_city_df_with_CO2['Scenario'] = production_city_df_with_CO2.apply(lambda x:f\"{x['ssp']}-{x['rcp']}\",1)\n",
    "\n",
    "# select the tier-1 ssp-rcp comninations\n",
    "production_city_df_masked_with_CO2 = production_city_df_with_CO2 >> mask(eval(rules))\n",
    "\n",
    "# get the mean values for all scenarios\n",
    "production_city_df_masked_mean_scenario_with_CO2 = production_city_df_masked_with_CO2.groupby(['year','final_year']).mean().reset_index()\n",
    "production_city_df_masked_mean_scenario_with_CO2['color_net'] = 'Net Change'\n",
    "production_city_df_masked_mean_scenario_with_CO2['color_climate'] = 'Climate'\n",
    "production_city_df_masked_mean_scenario_with_CO2['color_tech'] = 'Technology'\n",
    "production_city_df_masked_mean_scenario_with_CO2['color_reclamation'] = 'Reclamation'\n",
    "production_city_df_masked_mean_scenario_with_CO2['color_urban'] = 'Urbanization'"
   ]
  },
  {
   "cell_type": "code",
   "execution_count": null,
   "id": "6dba86b4",
   "metadata": {},
   "outputs": [],
   "source": []
  },
  {
   "cell_type": "code",
   "execution_count": null,
   "id": "b4f5e423",
   "metadata": {},
   "outputs": [],
   "source": []
  },
  {
   "cell_type": "code",
   "execution_count": 16,
   "id": "d907cde5",
   "metadata": {},
   "outputs": [],
   "source": [
    "# concat With/Without CO2\n",
    "production_city_df_masked_mean_scenario_with_CO2['CO2'] = 'With CO2'\n",
    "production_city_df_masked_mean_scenario_no_co2['CO2'] = 'Without CO2'\n",
    "\n",
    "production_city_df_masked_mean_scenario = pd.concat([production_city_df_masked_mean_scenario_with_CO2,\n",
    "                                                    production_city_df_masked_mean_scenario_no_co2])"
   ]
  },
  {
   "cell_type": "code",
   "execution_count": null,
   "id": "b9069bde",
   "metadata": {},
   "outputs": [],
   "source": []
  },
  {
   "cell_type": "code",
   "execution_count": 21,
   "id": "ee564eb3",
   "metadata": {},
   "outputs": [
    {
     "data": {
      "image/png": "[encoded data removed]",
      "text/plain": [
       "<Figure size 1000x530 with 1 Axes>"
      ]
     },
     "metadata": {
      "image/png": {
       "height": 530,
       "width": 1000
      }
     },
     "output_type": "display_data"
    },
    {
     "data": {
      "text/plain": [
       "<Figure Size: (1000 x 530)>"
      ]
     },
     "execution_count": 21,
     "metadata": {},
     "output_type": "execute_result"
    }
   ],
   "source": [
    "# plot the yearbook/GAEZ/GYGA data\n",
    "plotnine.options.figure_size = (10, 5.3)\n",
    "plotnine.options.dpi = 100\n",
    "\n",
    "g = (ggplot(production_city_df_masked_mean_scenario) +\n",
    " geom_ribbon(aes(x='final_year',\n",
    "          ymin='accum_climate_bot',\n",
    "          ymax='accum_climate_top',fill='CO2'),alpha=0.1) +\n",
    " geom_line(aes(x='final_year',y='accum_climate',color='CO2')) +\n",
    " theme_bw(base_size=13) + \n",
    " ylab('Cumulative Contribution (million t)') +\n",
    " xlab(' ') \n",
    ")\n",
    "\n",
    "# show fig\n",
    "g"
   ]
  },
  {
   "cell_type": "code",
   "execution_count": null,
   "id": "f24d21f2",
   "metadata": {},
   "outputs": [],
   "source": []
  },
  {
   "cell_type": "code",
   "execution_count": 22,
   "id": "ca06a58c",
   "metadata": {},
   "outputs": [
    {
     "name": "stderr",
     "output_type": "stream",
     "text": [
      "C:\\ProgramData\\Miniconda3\\envs\\gis\\lib\\site-packages\\plotnine\\ggplot.py:587: PlotnineWarning: Saving 10 x 5.3 in image.\n",
      "C:\\ProgramData\\Miniconda3\\envs\\gis\\lib\\site-packages\\plotnine\\ggplot.py:588: PlotnineWarning: Filename: ../Figs/fig_review_02_climate_impact_CO2_difference.svg\n"
     ]
    }
   ],
   "source": [
    "g.save('../Figs/fig_review_02_climate_impact_CO2_difference.svg')"
   ]
  },
  {
   "cell_type": "code",
   "execution_count": null,
   "id": "c71bcc18",
   "metadata": {},
   "outputs": [],
   "source": []
  },
  {
   "cell_type": "code",
   "execution_count": null,
   "id": "7d0d2cda",
   "metadata": {},
   "outputs": [],
   "source": []
  },
  {
   "cell_type": "code",
   "execution_count": null,
   "id": "224ee2f3",
   "metadata": {},
   "outputs": [],
   "source": []
  },
  {
   "cell_type": "code",
   "execution_count": null,
   "id": "258b68ad",
   "metadata": {},
   "outputs": [],
   "source": []
  },
  {
   "cell_type": "code",
   "execution_count": null,
   "id": "0ce4579a",
   "metadata": {},
   "outputs": [],
   "source": []
  },
  {
   "cell_type": "code",
   "execution_count": null,
   "id": "baad1d30",
   "metadata": {},
   "outputs": [],
   "source": []
  },
  {
   "cell_type": "code",
   "execution_count": null,
   "id": "7ca52229",
   "metadata": {},
   "outputs": [],
   "source": []
  },
  {
   "cell_type": "code",
   "execution_count": null,
   "id": "1a032c3e",
   "metadata": {},
   "outputs": [],
   "source": []
  }
 ],
 "metadata": {
  "kernelspec": {
   "display_name": "Python 3 (ipykernel)",
   "language": "python",
   "name": "python3"
  },
  "language_info": {
   "codemirror_mode": {
    "name": "ipython",
    "version": 3
   },
   "file_extension": ".py",
   "mimetype": "text/x-python",
   "name": "python",
   "nbconvert_exporter": "python",
   "pygments_lexer": "ipython3",
   "version": "3.10.9"
  }
 },
 "nbformat": 4,
 "nbformat_minor": 5
}
