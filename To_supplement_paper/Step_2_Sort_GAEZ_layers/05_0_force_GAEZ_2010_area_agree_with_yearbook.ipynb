{
 "cells": [
  {
   "cell_type": "code",
   "execution_count": null,
   "metadata": {},
   "outputs": [],
   "source": []
  },
  {
   "cell_type": "code",
   "execution_count": 1,
   "metadata": {},
   "outputs": [],
   "source": [
    "import os\n",
    "os.environ['http_proxy'] = '127.0.0.1:7890'\n",
    "os.environ['https_proxy'] = '127.0.0.1:7890'"
   ]
  },
  {
   "cell_type": "code",
   "execution_count": null,
   "metadata": {},
   "outputs": [],
   "source": []
  },
  {
   "cell_type": "code",
   "execution_count": 13,
   "metadata": {
    "id": "jdPjB829iwED"
   },
   "outputs": [],
   "source": [
    "import ee\n",
    "import pandas as pd\n",
    "import numpy as np\n",
    "import statsmodels.api as sm\n",
    "import matplotlib.pyplot as plt\n",
    "import seaborn as sns\n",
    "import plotnine\n",
    "from plotnine import *\n",
    "\n",
    "import itertools\n",
    "import sys\n",
    "import re\n",
    "import itertools\n",
    "from io import StringIO\n",
    "from tqdm.auto import tqdm\n",
    "from pprint import pprint\n",
    "\n",
    "import urllib.request\n",
    "import requests\n",
    "\n",
    "from dfply import *\n",
    "import geopandas as gpd\n",
    "\n",
    "from ast import literal_eval\n",
    "from shapely.geometry import shape\n",
    "\n",
    "# ! pip install geemap\n",
    "# import geemap"
   ]
  },
  {
   "cell_type": "code",
   "execution_count": null,
   "metadata": {
    "id": "djw31pPtizdJ"
   },
   "outputs": [],
   "source": []
  },
  {
   "cell_type": "code",
   "execution_count": null,
   "metadata": {},
   "outputs": [],
   "source": []
  },
  {
   "cell_type": "code",
   "execution_count": 3,
   "metadata": {
    "colab": {
     "base_uri": "https://localhost:8080/"
    },
    "executionInfo": {
     "elapsed": 23393,
     "status": "ok",
     "timestamp": 1668737710423,
     "user": {
      "displayName": "王金柱",
      "userId": "07873343920934819946"
     },
     "user_tz": -480
    },
    "id": "fhWfcyWhizbI",
    "outputId": "8de5581d-f81a-432b-d0ca-1ebda8c44929"
   },
   "outputs": [],
   "source": [
    "# authenticate earthengine api\n",
    "ee.Initialize()"
   ]
  },
  {
   "cell_type": "code",
   "execution_count": null,
   "metadata": {
    "id": "VJPcwrFniLuF"
   },
   "outputs": [],
   "source": []
  },
  {
   "cell_type": "code",
   "execution_count": 4,
   "metadata": {
    "id": "QSm8f590izXK"
   },
   "outputs": [],
   "source": [
    "from Modules.Modules import filter_exclude, get_img_df\n",
    "from Modules.Parallize_df import parallelize_dataframe\n",
    "from Modules.Global_Variables import proj_yr_selected\n",
    "\n",
    "# might need reload modules as the code progrocessing\n",
    "%load_ext autoreload\n",
    "%autoreload 2"
   ]
  },
  {
   "cell_type": "code",
   "execution_count": null,
   "metadata": {
    "id": "2aIllqBSNX_b"
   },
   "outputs": [],
   "source": []
  },
  {
   "cell_type": "code",
   "execution_count": 5,
   "metadata": {
    "id": "lyIINjI0kJO4"
   },
   "outputs": [],
   "source": [
    "# get the pixel size for exporting img later\n",
    "one_GAEZ_img = ee.Image(\"users/wangjinzhulala/Paper_3/03_GAEZ/GAEZ_2_Moisture_Annual_P_PET_1981_2010_Historical\")\n",
    "GAEZ_pix_scale = one_GAEZ_img.projection().nominalScale().getInfo()\n",
    "\n",
    "# the NCP image mask\n",
    "NCP_img_mask = ee.ImageCollection(\"users/wangjinzhulala/North_China_Plain_Python/classification_img/Control_1990_1992\").first().mask()\n",
    "NCP_shp = ee.FeatureCollection(\"users/wangjinzhulala/North_China_Plain_Python/Boundary_shp/North_China_Plain_province_boundry\")"
   ]
  },
  {
   "cell_type": "code",
   "execution_count": null,
   "metadata": {
    "id": "khgVQbOcCPKh"
   },
   "outputs": [],
   "source": []
  },
  {
   "cell_type": "code",
   "execution_count": 6,
   "metadata": {
    "id": "MEEnKD08eQ9g"
   },
   "outputs": [],
   "source": [
    "# function to compute the area ratio of each crop given the irrigated/rainfed water supply\n",
    "def compute_crop_water_ratio(in_path,crop):\n",
    "\n",
    "  in_dfs = actual_area >> mask(X.crop==crop)\n",
    "  area_ratio = ee.Image(in_path).divide(cropland_area_sum)\n",
    "\n",
    "  return ee.Image(area_ratio)"
   ]
  },
  {
   "cell_type": "code",
   "execution_count": null,
   "metadata": {
    "id": "CrXs2U4AeQ1T"
   },
   "outputs": [],
   "source": []
  },
  {
   "cell_type": "code",
   "execution_count": 7,
   "metadata": {
    "id": "bhKrJNLxi9zL"
   },
   "outputs": [],
   "source": [
    "# # import GAEZ data from ee_asset\n",
    "# GAEZ_list = ! earthengine ls users/wangjinzhulala/Paper_3/03_GAEZ\n",
    "\n",
    "# # actual harvested area\n",
    "# actual_area = get_img_df(img_path = GAEZ_list,\n",
    "#               theme = 'GAEZ_5',\n",
    "#               variable = ['Harvested_area'],\n",
    "#               time = '2010',\n",
    "#               crop = ['Maize','Wetland_rice','Wheat'],\n",
    "#               water = ['Rainfed','Irrigated'])\n",
    "\n",
    "# # get the total cropland area\n",
    "# cropland_area_sum = ee.ImageCollection([ee.Image(i) for i in actual_area['GEE_path'].tolist()]).sum()\n",
    "\n",
    "# # get the area ratio\n",
    "# actual_area['area_ratio'] = actual_area.apply(lambda row:compute_crop_water_ratio(row['GEE_path'],row['crop']),1 )\n",
    "\n",
    "# # save GAEZ_2010_cropland to disk\n",
    "# actual_area.to_pickle('./result_csv/actual_area.pkl')\n",
    "\n",
    "actual_area = pd.read_pickle('./result_csv/actual_area.pkl')"
   ]
  },
  {
   "cell_type": "code",
   "execution_count": null,
   "metadata": {
    "id": "02_k0FOjuSA_"
   },
   "outputs": [],
   "source": []
  },
  {
   "cell_type": "code",
   "execution_count": 8,
   "metadata": {
    "id": "aNcGYu8MfW39"
   },
   "outputs": [],
   "source": [
    "# get yearbook cropland area\n",
    "yearbook_path = '../Data/06_Yearbook/Agricultural_production/Provincial_historical_yield'\n",
    "crop_dict = {'maize':'Maize','wheat':'Wheat','rice':'Wetland_rice'}\n",
    "\n",
    "# pair Chinese city names with english spelling\n",
    "city_cn_en = dict(zip(['北京市','天津市', '河北省','江苏省', '安徽省', '河南省', '山东省'],\n",
    "             ['Beijing','Tianjin', 'Hebei','Jiangsu', 'Anhui', 'Henan', 'Shandong']))\n",
    "\n",
    "# loop through each crop\n",
    "out_dfs = []\n",
    "for k,v in crop_dict.items():\n",
    "  df = pd.read_csv(f'{yearbook_path}/Area_{k}.csv')\n",
    "  df = df.set_index('Zone').stack().reset_index()\n",
    "  df.columns = ['Province','year','area_yearbook_kha']\n",
    "\n",
    "  df['year'] = df['year'].astype(int)\n",
    "  df['crop'] = v\n",
    "  out_dfs.append(df)\n",
    "\n",
    "# get the records in the NCP\n",
    "yearbook_area = pd.concat(out_dfs).reset_index(drop=True).replace(city_cn_en) >> mask(X.Province.isin(city_cn_en.values()))\n",
    "\n",
    "# save yearbook_cropland_area to disk\n",
    "yearbook_area.to_csv('./result_csv/yearbook_area.csv',index=False)\n",
    "\n",
    "# read yearbook cropland area\n",
    "yearbook_area = pd.read_csv('./result_csv/yearbook_area.csv')"
   ]
  },
  {
   "cell_type": "code",
   "execution_count": null,
   "metadata": {
    "id": "DsrJAtaJfW1p"
   },
   "outputs": [],
   "source": []
  },
  {
   "cell_type": "code",
   "execution_count": null,
   "metadata": {
    "id": "AFekqlykfWzQ"
   },
   "outputs": [],
   "source": []
  },
  {
   "cell_type": "markdown",
   "metadata": {
    "id": "xG_Dkus8zWmW"
   },
   "source": [
    "### 1) compute the ratio of yearbook_cropland/GAEZ_cropland"
   ]
  },
  {
   "cell_type": "code",
   "execution_count": null,
   "metadata": {},
   "outputs": [],
   "source": []
  },
  {
   "cell_type": "code",
   "execution_count": null,
   "metadata": {},
   "outputs": [],
   "source": []
  },
  {
   "cell_type": "code",
   "execution_count": 18,
   "metadata": {
    "colab": {
     "base_uri": "https://localhost:8080/",
     "height": 49,
     "referenced_widgets": [
      "e144d9d455b64a58b726590bdab91aca",
      "5e6697ce2af84e3eb214aa753f43bbfc",
      "fae7b5a800404cc1af7073d957f582d9",
      "c01240af79814a7e9e559f7561148eaf",
      "4ae3b03ed8f94492ad8650463d5eda48",
      "45e61ec6e04b4912b28cf16e28ad3b71",
      "12c3cecb37634b269598757a55c2ac11",
      "a700cbe914794bd1acc8c87d9bee570d",
      "2b0b2dae01d94a419fcf1fad59a09656",
      "5b6d368148484e9d8b94da0c8c8a2ff6",
      "089e187b57f942f688f68f6df9169b5f"
     ]
    },
    "executionInfo": {
     "elapsed": 13757,
     "status": "ok",
     "timestamp": 1668737738338,
     "user": {
      "displayName": "王金柱",
      "userId": "07873343920934819946"
     },
     "user_tz": -480
    },
    "id": "x1PDajUDRmSt",
    "outputId": "b9676160-cf36-4bd7-919b-32da7c67fe17"
   },
   "outputs": [
    {
     "data": {
      "application/vnd.jupyter.widget-view+json": {
       "model_id": "3e2ea7b8187f4f91839f058a0a0faec9",
       "version_major": 2,
       "version_minor": 0
      },
      "text/plain": [
       "  0%|          | 0/6 [00:00<?, ?it/s]"
      ]
     },
     "metadata": {},
     "output_type": "display_data"
    }
   ],
   "source": [
    "# get the GEAZ_2010 cropland area\n",
    "actual_area_2010_stats = []\n",
    "\n",
    "\n",
    "for idx,row in tqdm(actual_area.iterrows(),total=len(actual_area)):\n",
    "  crop = row['crop']\n",
    "  water = row['water']\n",
    "  cropland_img = ee.Image(row['GEE_path'])\n",
    "  cropland_img = cropland_img.updateMask(cropland_img.gt(0))\n",
    "\n",
    "  stats = ee.Image(cropland_img).reduceRegions(reducer='sum',collection=NCP_shp,scale=GAEZ_pix_scale).getInfo()\n",
    "\n",
    "  stats_df = pd.DataFrame({i['properties']['EN_Name']:[i['properties']['sum']] \n",
    "                           for i in stats['features']}).T.reset_index()\n",
    "  stats_df.columns = ['Province','GAEZ_area_2010_kha']\n",
    "  stats_df['crop'] = crop\n",
    "  stats_df['water'] = water\n",
    "  stats_df['year'] = 2010\n",
    "  \n",
    "\n",
    "  actual_area_2010_stats.append(stats_df)\n",
    "\n",
    "# merge dfs\n",
    "actual_area_2010_df = pd.concat(actual_area_2010_stats).reset_index(drop=True)"
   ]
  },
  {
   "cell_type": "code",
   "execution_count": null,
   "metadata": {
    "id": "Jk0vryrw2L8b"
   },
   "outputs": [],
   "source": []
  },
  {
   "cell_type": "code",
   "execution_count": 19,
   "metadata": {
    "colab": {
     "base_uri": "https://localhost:8080/",
     "height": 206
    },
    "executionInfo": {
     "elapsed": 7,
     "status": "ok",
     "timestamp": 1668737738339,
     "user": {
      "displayName": "王金柱",
      "userId": "07873343920934819946"
     },
     "user_tz": -480
    },
    "id": "gixRkRGvUP-P",
    "outputId": "3184cb0f-86d3-49d3-975f-df473b278152"
   },
   "outputs": [
    {
     "name": "stderr",
     "output_type": "stream",
     "text": [
      "C:\\Users\\Administrator\\AppData\\Local\\Temp\\ipykernel_5156\\1220483462.py:2: FutureWarning: The default value of numeric_only in DataFrameGroupBy.sum is deprecated. In a future version, numeric_only will default to False. Either specify numeric_only or select only columns which should be valid for the function.\n"
     ]
    },
    {
     "data": {
      "text/html": [
       "<div>\n",
       "<style scoped>\n",
       "    .dataframe tbody tr th:only-of-type {\n",
       "        vertical-align: middle;\n",
       "    }\n",
       "\n",
       "    .dataframe tbody tr th {\n",
       "        vertical-align: top;\n",
       "    }\n",
       "\n",
       "    .dataframe thead th {\n",
       "        text-align: right;\n",
       "    }\n",
       "</style>\n",
       "<table border=\"1\" class=\"dataframe\">\n",
       "  <thead>\n",
       "    <tr style=\"text-align: right;\">\n",
       "      <th></th>\n",
       "      <th>Province</th>\n",
       "      <th>crop</th>\n",
       "      <th>year</th>\n",
       "      <th>GAEZ_area_2010_kha_sum</th>\n",
       "      <th>area_yearbook_kha</th>\n",
       "      <th>delta</th>\n",
       "    </tr>\n",
       "  </thead>\n",
       "  <tbody>\n",
       "    <tr>\n",
       "      <th>0</th>\n",
       "      <td>Anhui</td>\n",
       "      <td>Maize</td>\n",
       "      <td>2010</td>\n",
       "      <td>652.328186</td>\n",
       "      <td>864.08</td>\n",
       "      <td>211.751814</td>\n",
       "    </tr>\n",
       "    <tr>\n",
       "      <th>1</th>\n",
       "      <td>Anhui</td>\n",
       "      <td>Wetland_rice</td>\n",
       "      <td>2010</td>\n",
       "      <td>3033.257141</td>\n",
       "      <td>2338.63</td>\n",
       "      <td>-694.627141</td>\n",
       "    </tr>\n",
       "    <tr>\n",
       "      <th>2</th>\n",
       "      <td>Anhui</td>\n",
       "      <td>Wheat</td>\n",
       "      <td>2010</td>\n",
       "      <td>1653.712613</td>\n",
       "      <td>2619.18</td>\n",
       "      <td>965.467387</td>\n",
       "    </tr>\n",
       "    <tr>\n",
       "      <th>3</th>\n",
       "      <td>Beijing</td>\n",
       "      <td>Maize</td>\n",
       "      <td>2010</td>\n",
       "      <td>315.041405</td>\n",
       "      <td>149.75</td>\n",
       "      <td>-165.291405</td>\n",
       "    </tr>\n",
       "    <tr>\n",
       "      <th>4</th>\n",
       "      <td>Beijing</td>\n",
       "      <td>Wetland_rice</td>\n",
       "      <td>2010</td>\n",
       "      <td>16.711141</td>\n",
       "      <td>0.30</td>\n",
       "      <td>-16.411141</td>\n",
       "    </tr>\n",
       "  </tbody>\n",
       "</table>\n",
       "</div>"
      ],
      "text/plain": [
       "  Province          crop  year  GAEZ_area_2010_kha_sum  area_yearbook_kha  \\\n",
       "0    Anhui         Maize  2010              652.328186             864.08   \n",
       "1    Anhui  Wetland_rice  2010             3033.257141            2338.63   \n",
       "2    Anhui         Wheat  2010             1653.712613            2619.18   \n",
       "3  Beijing         Maize  2010              315.041405             149.75   \n",
       "4  Beijing  Wetland_rice  2010               16.711141               0.30   \n",
       "\n",
       "        delta  \n",
       "0  211.751814  \n",
       "1 -694.627141  \n",
       "2  965.467387  \n",
       "3 -165.291405  \n",
       "4  -16.411141  "
      ]
     },
     "execution_count": 19,
     "metadata": {},
     "output_type": "execute_result"
    }
   ],
   "source": [
    "# compute the difference between GAEZ_cropland and yearbook_cropland area\n",
    "actual_area_2010_df_crop_sum = actual_area_2010_df.groupby(['Province','crop','year']).sum().reset_index()\n",
    "actual_area_2010_df_crop_sum = actual_area_2010_df_crop_sum >> rename(GAEZ_area_2010_kha_sum = 'GAEZ_area_2010_kha')\n",
    "\n",
    "# compute the difference\n",
    "cropland_area_diff = actual_area_2010_df_crop_sum.merge(yearbook_area)\n",
    "cropland_area_diff['delta'] = cropland_area_diff['area_yearbook_kha'] - cropland_area_diff['GAEZ_area_2010_kha_sum']\n",
    "\n",
    "cropland_area_diff.head()"
   ]
  },
  {
   "cell_type": "code",
   "execution_count": null,
   "metadata": {
    "id": "Nr-Awb5ZhXaH"
   },
   "outputs": [],
   "source": []
  },
  {
   "cell_type": "code",
   "execution_count": 20,
   "metadata": {
    "id": "zXLqGJIChrfx"
   },
   "outputs": [],
   "source": [
    "# organize for plotting\n",
    "cropland_area_diff_for_plot = (cropland_area_diff >> drop(['delta'])).set_index(['Province','crop','year']).stack().reset_index()\n",
    "cropland_area_diff_for_plot = cropland_area_diff_for_plot.rename({'level_3':'source',0:'area'},axis='columns')\n",
    "\n",
    "cropland_area_diff_for_plot_strip = cropland_area_diff_for_plot.copy()\n",
    "cropland_area_diff_for_plot_strip.loc[cropland_area_diff_for_plot_strip['source']=='GAEZ_area_2010_kha_sum','area'] = 0"
   ]
  },
  {
   "cell_type": "code",
   "execution_count": null,
   "metadata": {
    "id": "-8u81Z4vojGa"
   },
   "outputs": [],
   "source": []
  },
  {
   "cell_type": "code",
   "execution_count": 21,
   "metadata": {
    "colab": {
     "base_uri": "https://localhost:8080/",
     "height": 464
    },
    "executionInfo": {
     "elapsed": 1149,
     "status": "ok",
     "timestamp": 1668747295596,
     "user": {
      "displayName": "王金柱",
      "userId": "07873343920934819946"
     },
     "user_tz": -480
    },
    "id": "SAy_roeMhXXp",
    "outputId": "81322ad3-a009-4f00-f03b-a6b0d8a4e192"
   },
   "outputs": [
    {
     "data": {
      "image/png": "[encoded data removed]",
      "text/plain": [
       "<Figure size 640x480 with 1 Axes>"
      ]
     },
     "metadata": {
      "image/png": {
       "height": 480,
       "width": 640
      }
     },
     "output_type": "display_data"
    },
    {
     "data": {
      "text/plain": [
       "<Figure Size: (640 x 480)>"
      ]
     },
     "execution_count": 21,
     "metadata": {},
     "output_type": "execute_result"
    }
   ],
   "source": [
    "# has to make this figure via R, beccause fill_patter is not avaliable\n",
    "(ggplot(cropland_area_diff_for_plot)\n",
    " + geom_col(aes(x='Province',y='area',fill='crop',color='source',linetype='source'),position='dodge')\n",
    " + scale_color_manual(values={'GAEZ_area_2010_kha_sum':'white','area_yearbook_kha':'grey'})\n",
    " + theme_bw()\n",
    " )"
   ]
  },
  {
   "cell_type": "code",
   "execution_count": null,
   "metadata": {
    "id": "78gfezvOhXVi"
   },
   "outputs": [],
   "source": []
  },
  {
   "cell_type": "markdown",
   "metadata": {
    "id": "mCZorZTTdeZZ"
   },
   "source": [
    "- Use R to make the plot because the package of \"ggpattern\" is not alaliable for Python\n",
    "![QQ截图20221118143805.png](data:image/png;base64,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)"
   ]
  },
  {
   "cell_type": "code",
   "execution_count": null,
   "metadata": {
    "id": "WIU4yhH3UP6F"
   },
   "outputs": [],
   "source": []
  },
  {
   "cell_type": "code",
   "execution_count": null,
   "metadata": {
    "id": "Sh5egrYStpGh"
   },
   "outputs": [],
   "source": []
  },
  {
   "cell_type": "code",
   "execution_count": 22,
   "metadata": {
    "colab": {
     "base_uri": "https://localhost:8080/",
     "height": 206
    },
    "executionInfo": {
     "elapsed": 5,
     "status": "ok",
     "timestamp": 1667450426232,
     "user": {
      "displayName": "王金柱",
      "userId": "07873343920934819946"
     },
     "user_tz": -480
    },
    "id": "5Cz4pM4LV6dk",
    "outputId": "b096a750-46d8-4821-8128-85813f0231a2"
   },
   "outputs": [
    {
     "data": {
      "text/html": [
       "<div>\n",
       "<style scoped>\n",
       "    .dataframe tbody tr th:only-of-type {\n",
       "        vertical-align: middle;\n",
       "    }\n",
       "\n",
       "    .dataframe tbody tr th {\n",
       "        vertical-align: top;\n",
       "    }\n",
       "\n",
       "    .dataframe thead th {\n",
       "        text-align: right;\n",
       "    }\n",
       "</style>\n",
       "<table border=\"1\" class=\"dataframe\">\n",
       "  <thead>\n",
       "    <tr style=\"text-align: right;\">\n",
       "      <th></th>\n",
       "      <th>Province</th>\n",
       "      <th>crop</th>\n",
       "      <th>water</th>\n",
       "      <th>year</th>\n",
       "      <th>delta_ratio</th>\n",
       "    </tr>\n",
       "  </thead>\n",
       "  <tbody>\n",
       "    <tr>\n",
       "      <th>0</th>\n",
       "      <td>Shandong</td>\n",
       "      <td>Maize</td>\n",
       "      <td>Rainfed</td>\n",
       "      <td>2010</td>\n",
       "      <td>0.833854</td>\n",
       "    </tr>\n",
       "    <tr>\n",
       "      <th>1</th>\n",
       "      <td>Shandong</td>\n",
       "      <td>Maize</td>\n",
       "      <td>Irrigated</td>\n",
       "      <td>2010</td>\n",
       "      <td>0.833854</td>\n",
       "    </tr>\n",
       "    <tr>\n",
       "      <th>2</th>\n",
       "      <td>Henan</td>\n",
       "      <td>Maize</td>\n",
       "      <td>Rainfed</td>\n",
       "      <td>2010</td>\n",
       "      <td>1.158148</td>\n",
       "    </tr>\n",
       "    <tr>\n",
       "      <th>3</th>\n",
       "      <td>Henan</td>\n",
       "      <td>Maize</td>\n",
       "      <td>Irrigated</td>\n",
       "      <td>2010</td>\n",
       "      <td>1.158148</td>\n",
       "    </tr>\n",
       "    <tr>\n",
       "      <th>4</th>\n",
       "      <td>Beijing</td>\n",
       "      <td>Maize</td>\n",
       "      <td>Rainfed</td>\n",
       "      <td>2010</td>\n",
       "      <td>0.475334</td>\n",
       "    </tr>\n",
       "  </tbody>\n",
       "</table>\n",
       "</div>"
      ],
      "text/plain": [
       "   Province   crop      water  year  delta_ratio\n",
       "0  Shandong  Maize    Rainfed  2010     0.833854\n",
       "1  Shandong  Maize  Irrigated  2010     0.833854\n",
       "2     Henan  Maize    Rainfed  2010     1.158148\n",
       "3     Henan  Maize  Irrigated  2010     1.158148\n",
       "4   Beijing  Maize    Rainfed  2010     0.475334"
      ]
     },
     "execution_count": 22,
     "metadata": {},
     "output_type": "execute_result"
    }
   ],
   "source": [
    "# compute the cropland_area_ratio = crop_area / crop_area_sum\n",
    "actual_area_2010_df_with_ratio = actual_area_2010_df.merge(cropland_area_diff)\n",
    "actual_area_2010_df_with_ratio['area_water_ratio'] = actual_area_2010_df_with_ratio['GAEZ_area_2010_kha'] \\\n",
    "                            / actual_area_2010_df_with_ratio['GAEZ_area_2010_kha_sum']\n",
    "\n",
    "# compute the delta_area for each crop/water\n",
    "actual_area_2010_df_with_ratio['delta_water_kha'] = actual_area_2010_df_with_ratio['delta'] * \\\n",
    "                             actual_area_2010_df_with_ratio['area_water_ratio']\n",
    "\n",
    "# compute the delta_ratio\n",
    "actual_area_2010_df_with_ratio = actual_area_2010_df_with_ratio \\\n",
    "            >> mutate(delta_ratio = (X.GAEZ_area_2010_kha + X.delta_water_kha)/X.GAEZ_area_2010_kha)\n",
    "\n",
    "# get the necessary cols\n",
    "actual_area_2010_df_with_ratio = actual_area_2010_df_with_ratio \\\n",
    "                    >> select(['Province','crop','water','year','delta_ratio'])\n",
    "\n",
    "actual_area_2010_df_with_ratio = actual_area_2010_df_with_ratio.replace({np.nan:0})\n",
    "\n",
    "actual_area_2010_df_with_ratio.head()"
   ]
  },
  {
   "cell_type": "code",
   "execution_count": null,
   "metadata": {
    "id": "A24AHHEHu1uV"
   },
   "outputs": [],
   "source": []
  },
  {
   "cell_type": "markdown",
   "metadata": {
    "id": "4JB0gUbgf1fa"
   },
   "source": [
    "### 2) clip the GAEZ_cropland with NCP_shp, then multiply the clipped img with delta_ratio"
   ]
  },
  {
   "cell_type": "code",
   "execution_count": null,
   "metadata": {
    "id": "f0QRDbHWgOI6"
   },
   "outputs": [],
   "source": []
  },
  {
   "cell_type": "code",
   "execution_count": 23,
   "metadata": {
    "id": "6lIiBOxhgi6J"
   },
   "outputs": [],
   "source": [
    "# get ee.shp boundary for each province\n",
    "province_shp = {n:[ee.Feature(NCP_shp.filter(ee.Filter.eq('EN_Name',n)).first())] for n in  list(city_cn_en.values())}\n",
    "province_shp_df = pd.DataFrame(province_shp).T.reset_index()\n",
    "province_shp_df.columns = ['Province','shp']"
   ]
  },
  {
   "cell_type": "code",
   "execution_count": null,
   "metadata": {
    "id": "rdFCmTDRjB4t"
   },
   "outputs": [],
   "source": []
  },
  {
   "cell_type": "code",
   "execution_count": 24,
   "metadata": {
    "colab": {
     "base_uri": "https://localhost:8080/",
     "height": 206
    },
    "executionInfo": {
     "elapsed": 687,
     "status": "ok",
     "timestamp": 1667450435339,
     "user": {
      "displayName": "王金柱",
      "userId": "07873343920934819946"
     },
     "user_tz": -480
    },
    "id": "VIqnZb77V-q2",
    "outputId": "71abc616-4c13-47e9-d68c-976f0ad1f13c"
   },
   "outputs": [
    {
     "data": {
      "text/html": [
       "<div>\n",
       "<style scoped>\n",
       "    .dataframe tbody tr th:only-of-type {\n",
       "        vertical-align: middle;\n",
       "    }\n",
       "\n",
       "    .dataframe tbody tr th {\n",
       "        vertical-align: top;\n",
       "    }\n",
       "\n",
       "    .dataframe thead th {\n",
       "        text-align: right;\n",
       "    }\n",
       "</style>\n",
       "<table border=\"1\" class=\"dataframe\">\n",
       "  <thead>\n",
       "    <tr style=\"text-align: right;\">\n",
       "      <th></th>\n",
       "      <th>Province</th>\n",
       "      <th>crop</th>\n",
       "      <th>water</th>\n",
       "      <th>year</th>\n",
       "      <th>GEE_path</th>\n",
       "      <th>shp</th>\n",
       "      <th>delta_ratio</th>\n",
       "    </tr>\n",
       "  </thead>\n",
       "  <tbody>\n",
       "    <tr>\n",
       "      <th>0</th>\n",
       "      <td>Beijing</td>\n",
       "      <td>Maize</td>\n",
       "      <td>Rainfed</td>\n",
       "      <td>2010</td>\n",
       "      <td>projects/earthengine-legacy/assets/users/wangj...</td>\n",
       "      <td>ee.Feature({\\n  \"functionInvocationValue\": {\\n...</td>\n",
       "      <td>0.475334</td>\n",
       "    </tr>\n",
       "    <tr>\n",
       "      <th>1</th>\n",
       "      <td>Tianjin</td>\n",
       "      <td>Maize</td>\n",
       "      <td>Rainfed</td>\n",
       "      <td>2010</td>\n",
       "      <td>projects/earthengine-legacy/assets/users/wangj...</td>\n",
       "      <td>ee.Feature({\\n  \"functionInvocationValue\": {\\n...</td>\n",
       "      <td>0.611075</td>\n",
       "    </tr>\n",
       "    <tr>\n",
       "      <th>2</th>\n",
       "      <td>Hebei</td>\n",
       "      <td>Maize</td>\n",
       "      <td>Rainfed</td>\n",
       "      <td>2010</td>\n",
       "      <td>projects/earthengine-legacy/assets/users/wangj...</td>\n",
       "      <td>ee.Feature({\\n  \"functionInvocationValue\": {\\n...</td>\n",
       "      <td>0.934920</td>\n",
       "    </tr>\n",
       "    <tr>\n",
       "      <th>3</th>\n",
       "      <td>Jiangsu</td>\n",
       "      <td>Maize</td>\n",
       "      <td>Rainfed</td>\n",
       "      <td>2010</td>\n",
       "      <td>projects/earthengine-legacy/assets/users/wangj...</td>\n",
       "      <td>ee.Feature({\\n  \"functionInvocationValue\": {\\n...</td>\n",
       "      <td>0.646848</td>\n",
       "    </tr>\n",
       "    <tr>\n",
       "      <th>4</th>\n",
       "      <td>Anhui</td>\n",
       "      <td>Maize</td>\n",
       "      <td>Rainfed</td>\n",
       "      <td>2010</td>\n",
       "      <td>projects/earthengine-legacy/assets/users/wangj...</td>\n",
       "      <td>ee.Feature({\\n  \"functionInvocationValue\": {\\n...</td>\n",
       "      <td>1.324609</td>\n",
       "    </tr>\n",
       "  </tbody>\n",
       "</table>\n",
       "</div>"
      ],
      "text/plain": [
       "  Province   crop    water  year  \\\n",
       "0  Beijing  Maize  Rainfed  2010   \n",
       "1  Tianjin  Maize  Rainfed  2010   \n",
       "2    Hebei  Maize  Rainfed  2010   \n",
       "3  Jiangsu  Maize  Rainfed  2010   \n",
       "4    Anhui  Maize  Rainfed  2010   \n",
       "\n",
       "                                            GEE_path  \\\n",
       "0  projects/earthengine-legacy/assets/users/wangj...   \n",
       "1  projects/earthengine-legacy/assets/users/wangj...   \n",
       "2  projects/earthengine-legacy/assets/users/wangj...   \n",
       "3  projects/earthengine-legacy/assets/users/wangj...   \n",
       "4  projects/earthengine-legacy/assets/users/wangj...   \n",
       "\n",
       "                                                 shp  delta_ratio  \n",
       "0  ee.Feature({\\n  \"functionInvocationValue\": {\\n...     0.475334  \n",
       "1  ee.Feature({\\n  \"functionInvocationValue\": {\\n...     0.611075  \n",
       "2  ee.Feature({\\n  \"functionInvocationValue\": {\\n...     0.934920  \n",
       "3  ee.Feature({\\n  \"functionInvocationValue\": {\\n...     0.646848  \n",
       "4  ee.Feature({\\n  \"functionInvocationValue\": {\\n...     1.324609  "
      ]
     },
     "execution_count": 24,
     "metadata": {},
     "output_type": "execute_result"
    }
   ],
   "source": [
    "# link GAEZ_2010_cropland with province_shp\n",
    "actual_area_with_province_shp = actual_area.copy()\n",
    "actual_area_with_province_shp['Province'] = [province_shp_df['Province'].tolist()] * len(actual_area_with_province_shp)\n",
    "actual_area_with_province_shp['shp'] = [province_shp_df['shp'].tolist()] * len(actual_area_with_province_shp)\n",
    "actual_area_with_province_shp = actual_area_with_province_shp.explode(['Province','shp']).reset_index(drop=True)\n",
    "\n",
    "# link the delta_ratio with province\n",
    "actual_area_with_delta_ratio = actual_area_with_province_shp.merge(actual_area_2010_df_with_ratio)\n",
    "actual_area_with_delta_ratio = actual_area_with_delta_ratio >> select(['Province','crop','water','year','GEE_path','shp','delta_ratio'])\n",
    "\n",
    "actual_area_with_delta_ratio.head()"
   ]
  },
  {
   "cell_type": "code",
   "execution_count": null,
   "metadata": {
    "id": "3SwT9oFA2oGQ"
   },
   "outputs": [],
   "source": []
  },
  {
   "cell_type": "code",
   "execution_count": 25,
   "metadata": {
    "colab": {
     "base_uri": "https://localhost:8080/",
     "height": 386
    },
    "executionInfo": {
     "elapsed": 3,
     "status": "ok",
     "timestamp": 1667450437904,
     "user": {
      "displayName": "王金柱",
      "userId": "07873343920934819946"
     },
     "user_tz": -480
    },
    "id": "iTVS3rZlUNiQ",
    "outputId": "7d6c1db4-a041-4d83-98da-1ca74271a9ba"
   },
   "outputs": [
    {
     "data": {
      "text/html": [
       "<div>\n",
       "<style scoped>\n",
       "    .dataframe tbody tr th:only-of-type {\n",
       "        vertical-align: middle;\n",
       "    }\n",
       "\n",
       "    .dataframe tbody tr th {\n",
       "        vertical-align: top;\n",
       "    }\n",
       "\n",
       "    .dataframe thead th {\n",
       "        text-align: right;\n",
       "    }\n",
       "</style>\n",
       "<table border=\"1\" class=\"dataframe\">\n",
       "  <thead>\n",
       "    <tr style=\"text-align: right;\">\n",
       "      <th></th>\n",
       "      <th>crop</th>\n",
       "      <th>water</th>\n",
       "      <th>GAEZ_2010_cropland_corrcted</th>\n",
       "      <th>theme</th>\n",
       "      <th>variable</th>\n",
       "      <th>time</th>\n",
       "      <th>GEE_path</th>\n",
       "      <th>area_ratio</th>\n",
       "    </tr>\n",
       "  </thead>\n",
       "  <tbody>\n",
       "    <tr>\n",
       "      <th>0</th>\n",
       "      <td>Maize</td>\n",
       "      <td>Irrigated</td>\n",
       "      <td>ee.Image({\\n  \"functionInvocationValue\": {\\n  ...</td>\n",
       "      <td>GAEZ_5</td>\n",
       "      <td>Harvested_area</td>\n",
       "      <td>2010</td>\n",
       "      <td>projects/earthengine-legacy/assets/users/wangj...</td>\n",
       "      <td>ee.Image({\\n  \"functionInvocationValue\": {\\n  ...</td>\n",
       "    </tr>\n",
       "    <tr>\n",
       "      <th>1</th>\n",
       "      <td>Maize</td>\n",
       "      <td>Rainfed</td>\n",
       "      <td>ee.Image({\\n  \"functionInvocationValue\": {\\n  ...</td>\n",
       "      <td>GAEZ_5</td>\n",
       "      <td>Harvested_area</td>\n",
       "      <td>2010</td>\n",
       "      <td>projects/earthengine-legacy/assets/users/wangj...</td>\n",
       "      <td>ee.Image({\\n  \"functionInvocationValue\": {\\n  ...</td>\n",
       "    </tr>\n",
       "    <tr>\n",
       "      <th>2</th>\n",
       "      <td>Wetland_rice</td>\n",
       "      <td>Irrigated</td>\n",
       "      <td>ee.Image({\\n  \"functionInvocationValue\": {\\n  ...</td>\n",
       "      <td>GAEZ_5</td>\n",
       "      <td>Harvested_area</td>\n",
       "      <td>2010</td>\n",
       "      <td>projects/earthengine-legacy/assets/users/wangj...</td>\n",
       "      <td>ee.Image({\\n  \"functionInvocationValue\": {\\n  ...</td>\n",
       "    </tr>\n",
       "    <tr>\n",
       "      <th>3</th>\n",
       "      <td>Wetland_rice</td>\n",
       "      <td>Rainfed</td>\n",
       "      <td>ee.Image({\\n  \"functionInvocationValue\": {\\n  ...</td>\n",
       "      <td>GAEZ_5</td>\n",
       "      <td>Harvested_area</td>\n",
       "      <td>2010</td>\n",
       "      <td>projects/earthengine-legacy/assets/users/wangj...</td>\n",
       "      <td>ee.Image({\\n  \"functionInvocationValue\": {\\n  ...</td>\n",
       "    </tr>\n",
       "    <tr>\n",
       "      <th>4</th>\n",
       "      <td>Wheat</td>\n",
       "      <td>Irrigated</td>\n",
       "      <td>ee.Image({\\n  \"functionInvocationValue\": {\\n  ...</td>\n",
       "      <td>GAEZ_5</td>\n",
       "      <td>Harvested_area</td>\n",
       "      <td>2010</td>\n",
       "      <td>projects/earthengine-legacy/assets/users/wangj...</td>\n",
       "      <td>ee.Image({\\n  \"functionInvocationValue\": {\\n  ...</td>\n",
       "    </tr>\n",
       "    <tr>\n",
       "      <th>5</th>\n",
       "      <td>Wheat</td>\n",
       "      <td>Rainfed</td>\n",
       "      <td>ee.Image({\\n  \"functionInvocationValue\": {\\n  ...</td>\n",
       "      <td>GAEZ_5</td>\n",
       "      <td>Harvested_area</td>\n",
       "      <td>2010</td>\n",
       "      <td>projects/earthengine-legacy/assets/users/wangj...</td>\n",
       "      <td>ee.Image({\\n  \"functionInvocationValue\": {\\n  ...</td>\n",
       "    </tr>\n",
       "  </tbody>\n",
       "</table>\n",
       "</div>"
      ],
      "text/plain": [
       "           crop      water                        GAEZ_2010_cropland_corrcted  \\\n",
       "0         Maize  Irrigated  ee.Image({\\n  \"functionInvocationValue\": {\\n  ...   \n",
       "1         Maize    Rainfed  ee.Image({\\n  \"functionInvocationValue\": {\\n  ...   \n",
       "2  Wetland_rice  Irrigated  ee.Image({\\n  \"functionInvocationValue\": {\\n  ...   \n",
       "3  Wetland_rice    Rainfed  ee.Image({\\n  \"functionInvocationValue\": {\\n  ...   \n",
       "4         Wheat  Irrigated  ee.Image({\\n  \"functionInvocationValue\": {\\n  ...   \n",
       "5         Wheat    Rainfed  ee.Image({\\n  \"functionInvocationValue\": {\\n  ...   \n",
       "\n",
       "    theme        variable  time  \\\n",
       "0  GAEZ_5  Harvested_area  2010   \n",
       "1  GAEZ_5  Harvested_area  2010   \n",
       "2  GAEZ_5  Harvested_area  2010   \n",
       "3  GAEZ_5  Harvested_area  2010   \n",
       "4  GAEZ_5  Harvested_area  2010   \n",
       "5  GAEZ_5  Harvested_area  2010   \n",
       "\n",
       "                                            GEE_path  \\\n",
       "0  projects/earthengine-legacy/assets/users/wangj...   \n",
       "1  projects/earthengine-legacy/assets/users/wangj...   \n",
       "2  projects/earthengine-legacy/assets/users/wangj...   \n",
       "3  projects/earthengine-legacy/assets/users/wangj...   \n",
       "4  projects/earthengine-legacy/assets/users/wangj...   \n",
       "5  projects/earthengine-legacy/assets/users/wangj...   \n",
       "\n",
       "                                          area_ratio  \n",
       "0  ee.Image({\\n  \"functionInvocationValue\": {\\n  ...  \n",
       "1  ee.Image({\\n  \"functionInvocationValue\": {\\n  ...  \n",
       "2  ee.Image({\\n  \"functionInvocationValue\": {\\n  ...  \n",
       "3  ee.Image({\\n  \"functionInvocationValue\": {\\n  ...  \n",
       "4  ee.Image({\\n  \"functionInvocationValue\": {\\n  ...  \n",
       "5  ee.Image({\\n  \"functionInvocationValue\": {\\n  ...  "
      ]
     },
     "execution_count": 25,
     "metadata": {},
     "output_type": "execute_result"
    }
   ],
   "source": [
    "# multiply the delta_ratio, then mosaic the imgs of different province to a single img\n",
    "def multiply_ratio(row):\n",
    "  in_img = ee.Image(row['GEE_path']).clip(row['shp']).multiply(row['delta_ratio'])\n",
    "  return in_img\n",
    "\n",
    "# apply the function\n",
    "actual_area_with_delta_ratio['GAEZ_2010_cropland_corrcted'] = actual_area_with_delta_ratio.apply(lambda row:multiply_ratio(row),1)\n",
    "\n",
    "# change name and save to disk\n",
    "GAEZ_cropland_2010_corrected = actual_area_with_delta_ratio.copy() \\\n",
    "              >> select(['Province','crop','water','GAEZ_2010_cropland_corrcted'])\n",
    "\n",
    "GAEZ_cropland_2010_corrected = GAEZ_cropland_2010_corrected.groupby(['crop','water'])\\\n",
    "                  .apply(lambda df:ee.ImageCollection(df['GAEZ_2010_cropland_corrcted'].tolist()).mosaic())\\\n",
    "                  .reset_index()\n",
    "\n",
    "# rename cols and save to disk\n",
    "GAEZ_cropland_2010_corrected.columns = ['crop','water','GAEZ_2010_cropland_corrcted']\n",
    "\n",
    "\n",
    "# merge with the actual_area (raw GAEZ_2010_cropland) for compatibility\n",
    "GAEZ_cropland_2010_corrected = GAEZ_cropland_2010_corrected.merge(actual_area)\n",
    "GAEZ_cropland_2010_corrected.to_pickle('./result_csv/GAEZ_cropland_2010_corrected.pkl')\n",
    "\n",
    "GAEZ_cropland_2010_corrected"
   ]
  },
  {
   "cell_type": "code",
   "execution_count": null,
   "metadata": {
    "id": "ADZ7tjLnUNfE"
   },
   "outputs": [],
   "source": []
  },
  {
   "cell_type": "code",
   "execution_count": null,
   "metadata": {
    "id": "eMnUyuAnUNbV"
   },
   "outputs": [],
   "source": []
  },
  {
   "cell_type": "markdown",
   "metadata": {
    "id": "t29jC8Stl8AS"
   },
   "source": [
    "### 3) validate the corrected GAEZ_2010_cropland has the same area as the yearbook records"
   ]
  },
  {
   "cell_type": "code",
   "execution_count": null,
   "metadata": {
    "id": "HnJx8DmjurJ7"
   },
   "outputs": [],
   "source": []
  },
  {
   "cell_type": "code",
   "execution_count": 26,
   "metadata": {
    "colab": {
     "base_uri": "https://localhost:8080/",
     "height": 49,
     "referenced_widgets": [
      "fbbc4425980040b685b0ed1e2163ddf3",
      "0bf01116012346c2b306d4b3e385343b",
      "b8de2821310f42e18ddb0ed4c9686769",
      "11b0513547f64e2eaf439afce2bca0c3",
      "68bd1f95248d4d6bae4ccddf7c8402f1",
      "e44982a191c34ef98837464d3dcabbe9",
      "86b48de08c7944abb3eb37f5896129fc",
      "971ceab4bdf64f20a071a8f503197c34",
      "df93e10a1f2841b7b20caf9085891e62",
      "18dd177f6be24d39988f31dd320eb3cc",
      "e4aa6eab7f1e4ef08073861849940cb3"
     ]
    },
    "executionInfo": {
     "elapsed": 11281,
     "status": "ok",
     "timestamp": 1667450454974,
     "user": {
      "displayName": "王金柱",
      "userId": "07873343920934819946"
     },
     "user_tz": -480
    },
    "id": "tTYkxKqKUNZO",
    "outputId": "af183f6d-4ef7-4d28-a94b-9558d7826961"
   },
   "outputs": [
    {
     "data": {
      "application/vnd.jupyter.widget-view+json": {
       "model_id": "9278cb15af234a7fba398018231228c7",
       "version_major": 2,
       "version_minor": 0
      },
      "text/plain": [
       "  0%|          | 0/6 [00:00<?, ?it/s]"
      ]
     },
     "metadata": {},
     "output_type": "display_data"
    }
   ],
   "source": [
    "# get the GEAZ_2010 cropland area\n",
    "actual_area_2010_stats_corrected = []\n",
    "\n",
    "\n",
    "for idx,row in tqdm(GAEZ_cropland_2010_corrected.iterrows(),total=len(GAEZ_cropland_2010_corrected)):\n",
    "  crop = row['crop']\n",
    "  water = row['water']\n",
    "  cropland_img = row['GAEZ_2010_cropland_corrcted']\n",
    "\n",
    "  stats = ee.Image(cropland_img).reduceRegions(reducer='sum',collection=NCP_shp,scale=GAEZ_pix_scale).getInfo()\n",
    "\n",
    "  stats_df = pd.DataFrame({i['properties']['EN_Name']:[i['properties']['sum']] \n",
    "                           for i in stats['features']}).T.reset_index()\n",
    "  stats_df.columns = ['Province','GAEZ_area_2010_kha']\n",
    "  stats_df['crop'] = crop\n",
    "  stats_df['water'] = water\n",
    "  stats_df['year'] = 2010\n",
    "  \n",
    "\n",
    "  actual_area_2010_stats_corrected.append(stats_df)\n",
    "\n",
    "# merge dfs\n",
    "actual_area_2010_corrected_df = pd.concat(actual_area_2010_stats_corrected).reset_index(drop=True)"
   ]
  },
  {
   "cell_type": "code",
   "execution_count": null,
   "metadata": {
    "id": "m-oNonXaUNXO"
   },
   "outputs": [],
   "source": []
  },
  {
   "cell_type": "code",
   "execution_count": 27,
   "metadata": {
    "id": "j6iUcOF5UNVC"
   },
   "outputs": [
    {
     "name": "stderr",
     "output_type": "stream",
     "text": [
      "C:\\Users\\Administrator\\AppData\\Local\\Temp\\ipykernel_5156\\1526753730.py:2: FutureWarning: The default value of numeric_only in DataFrameGroupBy.sum is deprecated. In a future version, numeric_only will default to False. Either specify numeric_only or select only columns which should be valid for the function.\n"
     ]
    }
   ],
   "source": [
    "# compute the difference between GAEZ_cropland_corrected and yearbook_cropland area\n",
    "actual_area_2010_df_crop_sum_corrected = actual_area_2010_corrected_df.groupby(['Province','crop','year']).sum().reset_index()\n",
    "cropland_area_diff_corrected = actual_area_2010_df_crop_sum_corrected.merge(yearbook_area)\n",
    "\n",
    "cropland_area_diff_corrected['ratio'] = cropland_area_diff_corrected['GAEZ_area_2010_kha'] \\\n",
    "                      / cropland_area_diff_corrected['area_yearbook_kha']\n",
    "\n",
    "cropland_area_diff_corrected['delta'] = cropland_area_diff_corrected['GAEZ_area_2010_kha'] \\\n",
    "                      - cropland_area_diff_corrected['area_yearbook_kha']"
   ]
  },
  {
   "cell_type": "code",
   "execution_count": null,
   "metadata": {
    "id": "PDS5ppR7nJYJ"
   },
   "outputs": [],
   "source": []
  },
  {
   "cell_type": "code",
   "execution_count": 28,
   "metadata": {
    "colab": {
     "base_uri": "https://localhost:8080/",
     "height": 708
    },
    "executionInfo": {
     "elapsed": 5,
     "status": "ok",
     "timestamp": 1667450464325,
     "user": {
      "displayName": "王金柱",
      "userId": "07873343920934819946"
     },
     "user_tz": -480
    },
    "id": "1CIej0E8nvZf",
    "outputId": "6d551238-14a0-4309-d537-377c3c17f5ab"
   },
   "outputs": [
    {
     "data": {
      "text/html": [
       "<div>\n",
       "<style scoped>\n",
       "    .dataframe tbody tr th:only-of-type {\n",
       "        vertical-align: middle;\n",
       "    }\n",
       "\n",
       "    .dataframe tbody tr th {\n",
       "        vertical-align: top;\n",
       "    }\n",
       "\n",
       "    .dataframe thead th {\n",
       "        text-align: right;\n",
       "    }\n",
       "</style>\n",
       "<table border=\"1\" class=\"dataframe\">\n",
       "  <thead>\n",
       "    <tr style=\"text-align: right;\">\n",
       "      <th></th>\n",
       "      <th>Province</th>\n",
       "      <th>crop</th>\n",
       "      <th>year</th>\n",
       "      <th>GAEZ_area_2010_kha</th>\n",
       "      <th>area_yearbook_kha</th>\n",
       "      <th>ratio</th>\n",
       "      <th>delta</th>\n",
       "    </tr>\n",
       "  </thead>\n",
       "  <tbody>\n",
       "    <tr>\n",
       "      <th>0</th>\n",
       "      <td>Anhui</td>\n",
       "      <td>Maize</td>\n",
       "      <td>2010</td>\n",
       "      <td>857.272295</td>\n",
       "      <td>864.08</td>\n",
       "      <td>0.992121</td>\n",
       "      <td>-6.807705</td>\n",
       "    </tr>\n",
       "    <tr>\n",
       "      <th>1</th>\n",
       "      <td>Anhui</td>\n",
       "      <td>Wetland_rice</td>\n",
       "      <td>2010</td>\n",
       "      <td>2341.370721</td>\n",
       "      <td>2338.63</td>\n",
       "      <td>1.001172</td>\n",
       "      <td>2.740721</td>\n",
       "    </tr>\n",
       "    <tr>\n",
       "      <th>2</th>\n",
       "      <td>Anhui</td>\n",
       "      <td>Wheat</td>\n",
       "      <td>2010</td>\n",
       "      <td>2606.579754</td>\n",
       "      <td>2619.18</td>\n",
       "      <td>0.995189</td>\n",
       "      <td>-12.600246</td>\n",
       "    </tr>\n",
       "    <tr>\n",
       "      <th>3</th>\n",
       "      <td>Beijing</td>\n",
       "      <td>Maize</td>\n",
       "      <td>2010</td>\n",
       "      <td>159.875037</td>\n",
       "      <td>149.75</td>\n",
       "      <td>1.067613</td>\n",
       "      <td>10.125037</td>\n",
       "    </tr>\n",
       "    <tr>\n",
       "      <th>4</th>\n",
       "      <td>Beijing</td>\n",
       "      <td>Wetland_rice</td>\n",
       "      <td>2010</td>\n",
       "      <td>0.783900</td>\n",
       "      <td>0.30</td>\n",
       "      <td>2.613001</td>\n",
       "      <td>0.483900</td>\n",
       "    </tr>\n",
       "    <tr>\n",
       "      <th>5</th>\n",
       "      <td>Beijing</td>\n",
       "      <td>Wheat</td>\n",
       "      <td>2010</td>\n",
       "      <td>69.926094</td>\n",
       "      <td>61.59</td>\n",
       "      <td>1.135348</td>\n",
       "      <td>8.336094</td>\n",
       "    </tr>\n",
       "    <tr>\n",
       "      <th>6</th>\n",
       "      <td>Hebei</td>\n",
       "      <td>Maize</td>\n",
       "      <td>2010</td>\n",
       "      <td>3182.665875</td>\n",
       "      <td>3191.01</td>\n",
       "      <td>0.997385</td>\n",
       "      <td>-8.344125</td>\n",
       "    </tr>\n",
       "    <tr>\n",
       "      <th>7</th>\n",
       "      <td>Hebei</td>\n",
       "      <td>Wetland_rice</td>\n",
       "      <td>2010</td>\n",
       "      <td>77.033584</td>\n",
       "      <td>77.62</td>\n",
       "      <td>0.992445</td>\n",
       "      <td>-0.586416</td>\n",
       "    </tr>\n",
       "    <tr>\n",
       "      <th>8</th>\n",
       "      <td>Hebei</td>\n",
       "      <td>Wheat</td>\n",
       "      <td>2010</td>\n",
       "      <td>2445.062735</td>\n",
       "      <td>2451.44</td>\n",
       "      <td>0.997399</td>\n",
       "      <td>-6.377265</td>\n",
       "    </tr>\n",
       "    <tr>\n",
       "      <th>9</th>\n",
       "      <td>Henan</td>\n",
       "      <td>Maize</td>\n",
       "      <td>2010</td>\n",
       "      <td>3227.617764</td>\n",
       "      <td>3233.50</td>\n",
       "      <td>0.998181</td>\n",
       "      <td>-5.882236</td>\n",
       "    </tr>\n",
       "    <tr>\n",
       "      <th>10</th>\n",
       "      <td>Henan</td>\n",
       "      <td>Wetland_rice</td>\n",
       "      <td>2010</td>\n",
       "      <td>610.892534</td>\n",
       "      <td>610.84</td>\n",
       "      <td>1.000086</td>\n",
       "      <td>0.052534</td>\n",
       "    </tr>\n",
       "    <tr>\n",
       "      <th>11</th>\n",
       "      <td>Henan</td>\n",
       "      <td>Wheat</td>\n",
       "      <td>2010</td>\n",
       "      <td>5360.882269</td>\n",
       "      <td>5364.56</td>\n",
       "      <td>0.999314</td>\n",
       "      <td>-3.677731</td>\n",
       "    </tr>\n",
       "    <tr>\n",
       "      <th>12</th>\n",
       "      <td>Jiangsu</td>\n",
       "      <td>Maize</td>\n",
       "      <td>2010</td>\n",
       "      <td>449.645376</td>\n",
       "      <td>439.57</td>\n",
       "      <td>1.022921</td>\n",
       "      <td>10.075376</td>\n",
       "    </tr>\n",
       "    <tr>\n",
       "      <th>13</th>\n",
       "      <td>Jiangsu</td>\n",
       "      <td>Wetland_rice</td>\n",
       "      <td>2010</td>\n",
       "      <td>2217.654172</td>\n",
       "      <td>2224.86</td>\n",
       "      <td>0.996761</td>\n",
       "      <td>-7.205828</td>\n",
       "    </tr>\n",
       "    <tr>\n",
       "      <th>14</th>\n",
       "      <td>Jiangsu</td>\n",
       "      <td>Wheat</td>\n",
       "      <td>2010</td>\n",
       "      <td>2212.392814</td>\n",
       "      <td>2200.20</td>\n",
       "      <td>1.005542</td>\n",
       "      <td>12.192814</td>\n",
       "    </tr>\n",
       "    <tr>\n",
       "      <th>15</th>\n",
       "      <td>Shandong</td>\n",
       "      <td>Maize</td>\n",
       "      <td>2010</td>\n",
       "      <td>3250.637003</td>\n",
       "      <td>3247.45</td>\n",
       "      <td>1.000981</td>\n",
       "      <td>3.187003</td>\n",
       "    </tr>\n",
       "    <tr>\n",
       "      <th>16</th>\n",
       "      <td>Shandong</td>\n",
       "      <td>Wetland_rice</td>\n",
       "      <td>2010</td>\n",
       "      <td>129.390498</td>\n",
       "      <td>128.66</td>\n",
       "      <td>1.005678</td>\n",
       "      <td>0.730498</td>\n",
       "    </tr>\n",
       "    <tr>\n",
       "      <th>17</th>\n",
       "      <td>Shandong</td>\n",
       "      <td>Wheat</td>\n",
       "      <td>2010</td>\n",
       "      <td>3652.961151</td>\n",
       "      <td>3648.70</td>\n",
       "      <td>1.001168</td>\n",
       "      <td>4.261151</td>\n",
       "    </tr>\n",
       "    <tr>\n",
       "      <th>18</th>\n",
       "      <td>Tianjin</td>\n",
       "      <td>Maize</td>\n",
       "      <td>2010</td>\n",
       "      <td>176.605902</td>\n",
       "      <td>169.27</td>\n",
       "      <td>1.043338</td>\n",
       "      <td>7.335902</td>\n",
       "    </tr>\n",
       "    <tr>\n",
       "      <th>19</th>\n",
       "      <td>Tianjin</td>\n",
       "      <td>Wetland_rice</td>\n",
       "      <td>2010</td>\n",
       "      <td>18.564267</td>\n",
       "      <td>17.90</td>\n",
       "      <td>1.037110</td>\n",
       "      <td>0.664267</td>\n",
       "    </tr>\n",
       "    <tr>\n",
       "      <th>20</th>\n",
       "      <td>Tianjin</td>\n",
       "      <td>Wheat</td>\n",
       "      <td>2010</td>\n",
       "      <td>114.183928</td>\n",
       "      <td>109.30</td>\n",
       "      <td>1.044684</td>\n",
       "      <td>4.883928</td>\n",
       "    </tr>\n",
       "  </tbody>\n",
       "</table>\n",
       "</div>"
      ],
      "text/plain": [
       "    Province          crop  year  GAEZ_area_2010_kha  area_yearbook_kha  \\\n",
       "0      Anhui         Maize  2010          857.272295             864.08   \n",
       "1      Anhui  Wetland_rice  2010         2341.370721            2338.63   \n",
       "2      Anhui         Wheat  2010         2606.579754            2619.18   \n",
       "3    Beijing         Maize  2010          159.875037             149.75   \n",
       "4    Beijing  Wetland_rice  2010            0.783900               0.30   \n",
       "5    Beijing         Wheat  2010           69.926094              61.59   \n",
       "6      Hebei         Maize  2010         3182.665875            3191.01   \n",
       "7      Hebei  Wetland_rice  2010           77.033584              77.62   \n",
       "8      Hebei         Wheat  2010         2445.062735            2451.44   \n",
       "9      Henan         Maize  2010         3227.617764            3233.50   \n",
       "10     Henan  Wetland_rice  2010          610.892534             610.84   \n",
       "11     Henan         Wheat  2010         5360.882269            5364.56   \n",
       "12   Jiangsu         Maize  2010          449.645376             439.57   \n",
       "13   Jiangsu  Wetland_rice  2010         2217.654172            2224.86   \n",
       "14   Jiangsu         Wheat  2010         2212.392814            2200.20   \n",
       "15  Shandong         Maize  2010         3250.637003            3247.45   \n",
       "16  Shandong  Wetland_rice  2010          129.390498             128.66   \n",
       "17  Shandong         Wheat  2010         3652.961151            3648.70   \n",
       "18   Tianjin         Maize  2010          176.605902             169.27   \n",
       "19   Tianjin  Wetland_rice  2010           18.564267              17.90   \n",
       "20   Tianjin         Wheat  2010          114.183928             109.30   \n",
       "\n",
       "       ratio      delta  \n",
       "0   0.992121  -6.807705  \n",
       "1   1.001172   2.740721  \n",
       "2   0.995189 -12.600246  \n",
       "3   1.067613  10.125037  \n",
       "4   2.613001   0.483900  \n",
       "5   1.135348   8.336094  \n",
       "6   0.997385  -8.344125  \n",
       "7   0.992445  -0.586416  \n",
       "8   0.997399  -6.377265  \n",
       "9   0.998181  -5.882236  \n",
       "10  1.000086   0.052534  \n",
       "11  0.999314  -3.677731  \n",
       "12  1.022921  10.075376  \n",
       "13  0.996761  -7.205828  \n",
       "14  1.005542  12.192814  \n",
       "15  1.000981   3.187003  \n",
       "16  1.005678   0.730498  \n",
       "17  1.001168   4.261151  \n",
       "18  1.043338   7.335902  \n",
       "19  1.037110   0.664267  \n",
       "20  1.044684   4.883928  "
      ]
     },
     "execution_count": 28,
     "metadata": {},
     "output_type": "execute_result"
    }
   ],
   "source": [
    "cropland_area_diff_corrected"
   ]
  },
  {
   "cell_type": "code",
   "execution_count": null,
   "metadata": {
    "id": "qrYW5KkLnvUE"
   },
   "outputs": [],
   "source": []
  },
  {
   "cell_type": "code",
   "execution_count": null,
   "metadata": {
    "id": "PvBOTqd7njgY"
   },
   "outputs": [],
   "source": []
  },
  {
   "cell_type": "code",
   "execution_count": null,
   "metadata": {
    "id": "DZjcVB4mnjeA"
   },
   "outputs": [],
   "source": []
  },
  {
   "cell_type": "code",
   "execution_count": null,
   "metadata": {
    "id": "nSzXLcWe2n7i"
   },
   "outputs": [],
   "source": []
  },
  {
   "cell_type": "code",
   "execution_count": null,
   "metadata": {
    "id": "bNx8A2xP2n5w"
   },
   "outputs": [],
   "source": []
  },
  {
   "cell_type": "code",
   "execution_count": null,
   "metadata": {
    "id": "XkLoSioZ2n3g"
   },
   "outputs": [],
   "source": []
  },
  {
   "cell_type": "code",
   "execution_count": null,
   "metadata": {
    "id": "4u38awjW2n1W"
   },
   "outputs": [],
   "source": []
  },
  {
   "cell_type": "code",
   "execution_count": null,
   "metadata": {
    "id": "FW7pvDJ7kkbE"
   },
   "outputs": [],
   "source": []
  },
  {
   "cell_type": "code",
   "execution_count": null,
   "metadata": {
    "id": "qhyKjMpQAQqp"
   },
   "outputs": [],
   "source": []
  }
 ],
 "metadata": {
  "colab": {
   "authorship_tag": "ABX9TyO7Bf5mrrkpu6owjQVLRK6l",
   "machine_shape": "hm",
   "provenance": []
  },
  "kernelspec": {
   "display_name": "Python 3 (ipykernel)",
   "language": "python",
   "name": "python3"
  },
  "language_info": {
   "codemirror_mode": {
    "name": "ipython",
    "version": 3
   },
   "file_extension": ".py",
   "mimetype": "text/x-python",
   "name": "python",
   "nbconvert_exporter": "python",
   "pygments_lexer": "ipython3",
   "version": "3.10.9"
  },
  "widgets": {
   "application/vnd.jupyter.widget-state+json": {
    "089e187b57f942f688f68f6df9169b5f": {
     "model_module": "@jupyter-widgets/controls",
     "model_module_version": "1.1.0",
     "model_name": "DescriptionStyleModel",
     "state": {
      "_model_module": "@jupyter-widgets/controls",
      "_model_module_version": "1.1.0",
      "_model_name": "DescriptionStyleModel",
      "_view_count": null,
      "_view_module": "@jupyter-widgets/base",
      "_view_module_version": "1.0.0",
      "_view_name": "StyleView",
      "description_width": ""
     }
    },
    "0bf01116012346c2b306d4b3e385343b": {
     "model_module": "@jupyter-widgets/controls",
     "model_module_version": "1.1.0",
     "model_name": "HTMLModel",
     "state": {
      "_dom_classes": [],
      "_model_module": "@jupyter-widgets/controls",
      "_model_module_version": "1.1.0",
      "_model_name": "HTMLModel",
      "_view_count": null,
      "_view_module": "@jupyter-widgets/controls",
      "_view_module_version": "1.1.0",
      "_view_name": "HTMLView",
      "description": "",
      "layout": "IPY_MODEL_e44982a191c34ef98837464d3dcabbe9",
      "placeholder": "​",
      "style": "IPY_MODEL_86b48de08c7944abb3eb37f5896129fc",
      "value": "100%"
     }
    },
    "11b0513547f64e2eaf439afce2bca0c3": {
     "model_module": "@jupyter-widgets/controls",
     "model_module_version": "1.1.0",
     "model_name": "HTMLModel",
     "state": {
      "_dom_classes": [],
      "_model_module": "@jupyter-widgets/controls",
      "_model_module_version": "1.1.0",
      "_model_name": "HTMLModel",
      "_view_count": null,
      "_view_module": "@jupyter-widgets/controls",
      "_view_module_version": "1.1.0",
      "_view_name": "HTMLView",
      "description": "",
      "layout": "IPY_MODEL_18dd177f6be24d39988f31dd320eb3cc",
      "placeholder": "​",
      "style": "IPY_MODEL_e4aa6eab7f1e4ef08073861849940cb3",
      "value": " 6/6 [00:10&lt;00:00,  1.85s/it]"
     }
    },
    "12c3cecb37634b269598757a55c2ac11": {
     "model_module": "@jupyter-widgets/controls",
     "model_module_version": "1.1.0",
     "model_name": "DescriptionStyleModel",
     "state": {
      "_model_module": "@jupyter-widgets/controls",
      "_model_module_version": "1.1.0",
      "_model_name": "DescriptionStyleModel",
      "_view_count": null,
      "_view_module": "@jupyter-widgets/base",
      "_view_module_version": "1.0.0",
      "_view_name": "StyleView",
      "description_width": ""
     }
    },
    "18dd177f6be24d39988f31dd320eb3cc": {
     "model_module": "@jupyter-widgets/base",
     "model_module_version": "1.0.0",
     "model_name": "LayoutModel",
     "state": {
      "_model_module": "@jupyter-widgets/base",
      "_model_module_version": "1.0.0",
      "_model_name": "LayoutModel",
      "_view_count": null,
      "_view_module": "@jupyter-widgets/base",
      "_view_module_version": "1.0.0",
      "_view_name": "LayoutView",
      "align_content": null,
      "align_items": null,
      "align_self": null,
      "border": null,
      "bottom": null,
      "display": null,
      "flex": null,
      "flex_flow": null,
      "height": null,
      "justify_content": null,
      "left": null,
      "margin": null,
      "max_height": null,
      "max_width": null,
      "min_height": null,
      "min_width": null,
      "order": null,
      "overflow": null,
      "overflow_x": null,
      "overflow_y": null,
      "padding": null,
      "right": null,
      "top": null,
      "visibility": null,
      "width": null
     }
    },
    "2b0b2dae01d94a419fcf1fad59a09656": {
     "model_module": "@jupyter-widgets/controls",
     "model_module_version": "1.1.0",
     "model_name": "ProgressStyleModel",
     "state": {
      "_model_module": "@jupyter-widgets/controls",
      "_model_module_version": "1.1.0",
      "_model_name": "ProgressStyleModel",
      "_view_count": null,
      "_view_module": "@jupyter-widgets/base",
      "_view_module_version": "1.0.0",
      "_view_name": "StyleView",
      "bar_color": null,
      "description_width": ""
     }
    },
    "45e61ec6e04b4912b28cf16e28ad3b71": {
     "model_module": "@jupyter-widgets/base",
     "model_module_version": "1.0.0",
     "model_name": "LayoutModel",
     "state": {
      "_model_module": "@jupyter-widgets/base",
      "_model_module_version": "1.0.0",
      "_model_name": "LayoutModel",
      "_view_count": null,
      "_view_module": "@jupyter-widgets/base",
      "_view_module_version": "1.0.0",
      "_view_name": "LayoutView",
      "align_content": null,
      "align_items": null,
      "align_self": null,
      "border": null,
      "bottom": null,
      "display": null,
      "flex": null,
      "flex_flow": null,
      "height": null,
      "justify_content": null,
      "left": null,
      "margin": null,
      "max_height": null,
      "max_width": null,
      "min_height": null,
      "min_width": null,
      "order": null,
      "overflow": null,
      "overflow_x": null,
      "overflow_y": null,
      "padding": null,
      "right": null,
      "top": null,
      "visibility": null,
      "width": null
     }
    },
    "4ae3b03ed8f94492ad8650463d5eda48": {
     "model_module": "@jupyter-widgets/base",
     "model_module_version": "1.0.0",
     "model_name": "LayoutModel",
     "state": {
      "_model_module": "@jupyter-widgets/base",
      "_model_module_version": "1.0.0",
      "_model_name": "LayoutModel",
      "_view_count": null,
      "_view_module": "@jupyter-widgets/base",
      "_view_module_version": "1.0.0",
      "_view_name": "LayoutView",
      "align_content": null,
      "align_items": null,
      "align_self": null,
      "border": null,
      "bottom": null,
      "display": null,
      "flex": null,
      "flex_flow": null,
      "height": null,
      "justify_content": null,
      "left": null,
      "margin": null,
      "max_height": null,
      "max_width": null,
      "min_height": null,
      "min_width": null,
      "order": null,
      "overflow": null,
      "overflow_x": null,
      "overflow_y": null,
      "padding": null,
      "right": null,
      "top": null,
      "visibility": null,
      "width": null
     }
    },
    "5b6d368148484e9d8b94da0c8c8a2ff6": {
     "model_module": "@jupyter-widgets/base",
     "model_module_version": "1.0.0",
     "model_name": "LayoutModel",
     "state": {
      "_model_module": "@jupyter-widgets/base",
      "_model_module_version": "1.0.0",
      "_model_name": "LayoutModel",
      "_view_count": null,
      "_view_module": "@jupyter-widgets/base",
      "_view_module_version": "1.0.0",
      "_view_name": "LayoutView",
      "align_content": null,
      "align_items": null,
      "align_self": null,
      "border": null,
      "bottom": null,
      "display": null,
      "flex": null,
      "flex_flow": null,
      "height": null,
      "justify_content": null,
      "left": null,
      "margin": null,
      "max_height": null,
      "max_width": null,
      "min_height": null,
      "min_width": null,
      "order": null,
      "overflow": null,
      "overflow_x": null,
      "overflow_y": null,
      "padding": null,
      "right": null,
      "top": null,
      "visibility": null,
      "width": null
     }
    },
    "5e6697ce2af84e3eb214aa753f43bbfc": {
     "model_module": "@jupyter-widgets/controls",
     "model_module_version": "1.1.0",
     "model_name": "HTMLModel",
     "state": {
      "_dom_classes": [],
      "_model_module": "@jupyter-widgets/controls",
      "_model_module_version": "1.1.0",
      "_model_name": "HTMLModel",
      "_view_count": null,
      "_view_module": "@jupyter-widgets/controls",
      "_view_module_version": "1.1.0",
      "_view_name": "HTMLView",
      "description": "",
      "layout": "IPY_MODEL_45e61ec6e04b4912b28cf16e28ad3b71",
      "placeholder": "​",
      "style": "IPY_MODEL_12c3cecb37634b269598757a55c2ac11",
      "value": "100%"
     }
    },
    "68bd1f95248d4d6bae4ccddf7c8402f1": {
     "model_module": "@jupyter-widgets/base",
     "model_module_version": "1.0.0",
     "model_name": "LayoutModel",
     "state": {
      "_model_module": "@jupyter-widgets/base",
      "_model_module_version": "1.0.0",
      "_model_name": "LayoutModel",
      "_view_count": null,
      "_view_module": "@jupyter-widgets/base",
      "_view_module_version": "1.0.0",
      "_view_name": "LayoutView",
      "align_content": null,
      "align_items": null,
      "align_self": null,
      "border": null,
      "bottom": null,
      "display": null,
      "flex": null,
      "flex_flow": null,
      "height": null,
      "justify_content": null,
      "left": null,
      "margin": null,
      "max_height": null,
      "max_width": null,
      "min_height": null,
      "min_width": null,
      "order": null,
      "overflow": null,
      "overflow_x": null,
      "overflow_y": null,
      "padding": null,
      "right": null,
      "top": null,
      "visibility": null,
      "width": null
     }
    },
    "86b48de08c7944abb3eb37f5896129fc": {
     "model_module": "@jupyter-widgets/controls",
     "model_module_version": "1.1.0",
     "model_name": "DescriptionStyleModel",
     "state": {
      "_model_module": "@jupyter-widgets/controls",
      "_model_module_version": "1.1.0",
      "_model_name": "DescriptionStyleModel",
      "_view_count": null,
      "_view_module": "@jupyter-widgets/base",
      "_view_module_version": "1.0.0",
      "_view_name": "StyleView",
      "description_width": ""
     }
    },
    "971ceab4bdf64f20a071a8f503197c34": {
     "model_module": "@jupyter-widgets/base",
     "model_module_version": "1.0.0",
     "model_name": "LayoutModel",
     "state": {
      "_model_module": "@jupyter-widgets/base",
      "_model_module_version": "1.0.0",
      "_model_name": "LayoutModel",
      "_view_count": null,
      "_view_module": "@jupyter-widgets/base",
      "_view_module_version": "1.0.0",
      "_view_name": "LayoutView",
      "align_content": null,
      "align_items": null,
      "align_self": null,
      "border": null,
      "bottom": null,
      "display": null,
      "flex": null,
      "flex_flow": null,
      "height": null,
      "justify_content": null,
      "left": null,
      "margin": null,
      "max_height": null,
      "max_width": null,
      "min_height": null,
      "min_width": null,
      "order": null,
      "overflow": null,
      "overflow_x": null,
      "overflow_y": null,
      "padding": null,
      "right": null,
      "top": null,
      "visibility": null,
      "width": null
     }
    },
    "a700cbe914794bd1acc8c87d9bee570d": {
     "model_module": "@jupyter-widgets/base",
     "model_module_version": "1.0.0",
     "model_name": "LayoutModel",
     "state": {
      "_model_module": "@jupyter-widgets/base",
      "_model_module_version": "1.0.0",
      "_model_name": "LayoutModel",
      "_view_count": null,
      "_view_module": "@jupyter-widgets/base",
      "_view_module_version": "1.0.0",
      "_view_name": "LayoutView",
      "align_content": null,
      "align_items": null,
      "align_self": null,
      "border": null,
      "bottom": null,
      "display": null,
      "flex": null,
      "flex_flow": null,
      "height": null,
      "justify_content": null,
      "left": null,
      "margin": null,
      "max_height": null,
      "max_width": null,
      "min_height": null,
      "min_width": null,
      "order": null,
      "overflow": null,
      "overflow_x": null,
      "overflow_y": null,
      "padding": null,
      "right": null,
      "top": null,
      "visibility": null,
      "width": null
     }
    },
    "b8de2821310f42e18ddb0ed4c9686769": {
     "model_module": "@jupyter-widgets/controls",
     "model_module_version": "1.1.0",
     "model_name": "FloatProgressModel",
     "state": {
      "_dom_classes": [],
      "_model_module": "@jupyter-widgets/controls",
      "_model_module_version": "1.1.0",
      "_model_name": "FloatProgressModel",
      "_view_count": null,
      "_view_module": "@jupyter-widgets/controls",
      "_view_module_version": "1.1.0",
      "_view_name": "ProgressView",
      "bar_style": "success",
      "description": "",
      "layout": "IPY_MODEL_971ceab4bdf64f20a071a8f503197c34",
      "max": 6,
      "min": 0,
      "orientation": "horizontal",
      "style": "IPY_MODEL_df93e10a1f2841b7b20caf9085891e62",
      "value": 6
     }
    },
    "c01240af79814a7e9e559f7561148eaf": {
     "model_module": "@jupyter-widgets/controls",
     "model_module_version": "1.1.0",
     "model_name": "HTMLModel",
     "state": {
      "_dom_classes": [],
      "_model_module": "@jupyter-widgets/controls",
      "_model_module_version": "1.1.0",
      "_model_name": "HTMLModel",
      "_view_count": null,
      "_view_module": "@jupyter-widgets/controls",
      "_view_module_version": "1.1.0",
      "_view_name": "HTMLView",
      "description": "",
      "layout": "IPY_MODEL_5b6d368148484e9d8b94da0c8c8a2ff6",
      "placeholder": "​",
      "style": "IPY_MODEL_089e187b57f942f688f68f6df9169b5f",
      "value": " 6/6 [00:13&lt;00:00,  2.17s/it]"
     }
    },
    "df93e10a1f2841b7b20caf9085891e62": {
     "model_module": "@jupyter-widgets/controls",
     "model_module_version": "1.1.0",
     "model_name": "ProgressStyleModel",
     "state": {
      "_model_module": "@jupyter-widgets/controls",
      "_model_module_version": "1.1.0",
      "_model_name": "ProgressStyleModel",
      "_view_count": null,
      "_view_module": "@jupyter-widgets/base",
      "_view_module_version": "1.0.0",
      "_view_name": "StyleView",
      "bar_color": null,
      "description_width": ""
     }
    },
    "e144d9d455b64a58b726590bdab91aca": {
     "model_module": "@jupyter-widgets/controls",
     "model_module_version": "1.1.0",
     "model_name": "HBoxModel",
     "state": {
      "_dom_classes": [],
      "_model_module": "@jupyter-widgets/controls",
      "_model_module_version": "1.1.0",
      "_model_name": "HBoxModel",
      "_view_count": null,
      "_view_module": "@jupyter-widgets/controls",
      "_view_module_version": "1.1.0",
      "_view_name": "HBoxView",
      "box_style": "",
      "children": [
       "IPY_MODEL_5e6697ce2af84e3eb214aa753f43bbfc",
       "IPY_MODEL_fae7b5a800404cc1af7073d957f582d9",
       "IPY_MODEL_c01240af79814a7e9e559f7561148eaf"
      ],
      "layout": "IPY_MODEL_4ae3b03ed8f94492ad8650463d5eda48"
     }
    },
    "e44982a191c34ef98837464d3dcabbe9": {
     "model_module": "@jupyter-widgets/base",
     "model_module_version": "1.0.0",
     "model_name": "LayoutModel",
     "state": {
      "_model_module": "@jupyter-widgets/base",
      "_model_module_version": "1.0.0",
      "_model_name": "LayoutModel",
      "_view_count": null,
      "_view_module": "@jupyter-widgets/base",
      "_view_module_version": "1.0.0",
      "_view_name": "LayoutView",
      "align_content": null,
      "align_items": null,
      "align_self": null,
      "border": null,
      "bottom": null,
      "display": null,
      "flex": null,
      "flex_flow": null,
      "height": null,
      "justify_content": null,
      "left": null,
      "margin": null,
      "max_height": null,
      "max_width": null,
      "min_height": null,
      "min_width": null,
      "order": null,
      "overflow": null,
      "overflow_x": null,
      "overflow_y": null,
      "padding": null,
      "right": null,
      "top": null,
      "visibility": null,
      "width": null
     }
    },
    "e4aa6eab7f1e4ef08073861849940cb3": {
     "model_module": "@jupyter-widgets/controls",
     "model_module_version": "1.1.0",
     "model_name": "DescriptionStyleModel",
     "state": {
      "_model_module": "@jupyter-widgets/controls",
      "_model_module_version": "1.1.0",
      "_model_name": "DescriptionStyleModel",
      "_view_count": null,
      "_view_module": "@jupyter-widgets/base",
      "_view_module_version": "1.0.0",
      "_view_name": "StyleView",
      "description_width": ""
     }
    },
    "fae7b5a800404cc1af7073d957f582d9": {
     "model_module": "@jupyter-widgets/controls",
     "model_module_version": "1.1.0",
     "model_name": "FloatProgressModel",
     "state": {
      "_dom_classes": [],
      "_model_module": "@jupyter-widgets/controls",
      "_model_module_version": "1.1.0",
      "_model_name": "FloatProgressModel",
      "_view_count": null,
      "_view_module": "@jupyter-widgets/controls",
      "_view_module_version": "1.1.0",
      "_view_name": "ProgressView",
      "bar_style": "success",
      "description": "",
      "layout": "IPY_MODEL_a700cbe914794bd1acc8c87d9bee570d",
      "max": 6,
      "min": 0,
      "orientation": "horizontal",
      "style": "IPY_MODEL_2b0b2dae01d94a419fcf1fad59a09656",
      "value": 6
     }
    },
    "fbbc4425980040b685b0ed1e2163ddf3": {
     "model_module": "@jupyter-widgets/controls",
     "model_module_version": "1.1.0",
     "model_name": "HBoxModel",
     "state": {
      "_dom_classes": [],
      "_model_module": "@jupyter-widgets/controls",
      "_model_module_version": "1.1.0",
      "_model_name": "HBoxModel",
      "_view_count": null,
      "_view_module": "@jupyter-widgets/controls",
      "_view_module_version": "1.1.0",
      "_view_name": "HBoxView",
      "box_style": "",
      "children": [
       "IPY_MODEL_0bf01116012346c2b306d4b3e385343b",
       "IPY_MODEL_b8de2821310f42e18ddb0ed4c9686769",
       "IPY_MODEL_11b0513547f64e2eaf439afce2bca0c3"
      ],
      "layout": "IPY_MODEL_68bd1f95248d4d6bae4ccddf7c8402f1"
     }
    }
   }
  }
 },
 "nbformat": 4,
 "nbformat_minor": 1
}
