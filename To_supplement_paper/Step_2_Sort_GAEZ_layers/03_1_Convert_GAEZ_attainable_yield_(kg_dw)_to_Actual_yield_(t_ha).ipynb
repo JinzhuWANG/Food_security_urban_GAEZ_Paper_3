{
 "cells": [
  {
   "cell_type": "code",
   "execution_count": null,
   "metadata": {},
   "outputs": [],
   "source": []
  },
  {
   "cell_type": "code",
   "execution_count": 6,
   "metadata": {},
   "outputs": [],
   "source": [
    "import os\n",
    "os.environ['http_proxy'] = '127.0.0.1:7890'\n",
    "os.environ['https_proxy'] = '127.0.0.1:7890'"
   ]
  },
  {
   "cell_type": "code",
   "execution_count": null,
   "metadata": {},
   "outputs": [],
   "source": []
  },
  {
   "cell_type": "code",
   "execution_count": 7,
   "metadata": {
    "id": "4chD26mu9zJ2"
   },
   "outputs": [],
   "source": [
    "import ee\n",
    "import pandas as pd\n",
    "import numpy as np\n",
    "\n",
    "import matplotlib.pyplot as plt\n",
    "import seaborn as sns\n",
    "\n",
    "import plotnine\n",
    "from plotnine import *\n",
    "\n",
    "import rasterio\n",
    "\n",
    "import itertools\n",
    "import difflib\n",
    "import sys\n",
    "import requests\n",
    "from tqdm.auto import tqdm\n",
    "from pprint import pprint\n",
    "\n",
    "import statsmodels.api as sm\n",
    "from statsmodels.stats.outliers_influence import summary_table"
   ]
  },
  {
   "cell_type": "code",
   "execution_count": null,
   "metadata": {
    "executionInfo": {
     "elapsed": 6,
     "status": "ok",
     "timestamp": 1668998915251,
     "user": {
      "displayName": "王金柱",
      "userId": "07873343920934819946"
     },
     "user_tz": -480
    },
    "id": "9gBk2xeY-AOa"
   },
   "outputs": [],
   "source": []
  },
  {
   "cell_type": "code",
   "execution_count": 8,
   "metadata": {
    "colab": {
     "base_uri": "https://localhost:8080/"
    },
    "executionInfo": {
     "elapsed": 27571,
     "status": "ok",
     "timestamp": 1668998947746,
     "user": {
      "displayName": "王金柱",
      "userId": "07873343920934819946"
     },
     "user_tz": -480
    },
    "id": "-eb7Mk9k-AMU",
    "outputId": "0bb45519-1ebf-4e7e-8fb9-08c3d53f2dd7"
   },
   "outputs": [],
   "source": [
    "# authenticate earthengine api\n",
    "ee.Initialize()"
   ]
  },
  {
   "cell_type": "code",
   "execution_count": null,
   "metadata": {
    "executionInfo": {
     "elapsed": 2,
     "status": "ok",
     "timestamp": 1668998950325,
     "user": {
      "displayName": "王金柱",
      "userId": "07873343920934819946"
     },
     "user_tz": -480
    },
    "id": "rLxm2KGp-AKQ"
   },
   "outputs": [],
   "source": []
  },
  {
   "cell_type": "code",
   "execution_count": 9,
   "metadata": {
    "executionInfo": {
     "elapsed": 4084,
     "status": "ok",
     "timestamp": 1668998954947,
     "user": {
      "displayName": "王金柱",
      "userId": "07873343920934819946"
     },
     "user_tz": -480
    },
    "id": "Npw0DVU1-AH_"
   },
   "outputs": [
    {
     "name": "stdout",
     "output_type": "stream",
     "text": [
      "The autoreload extension is already loaded. To reload it, use:\n",
      "  %reload_ext autoreload\n"
     ]
    }
   ],
   "source": [
    "from Modules.Modules import filter_exclude, get_img_df, compute_mean_ci\n",
    "from Modules.Parallize_df import parallelize_dataframe\n",
    "\n",
    "# might need reload modules as the code progrocessing\n",
    "%load_ext autoreload\n",
    "%autoreload 2"
   ]
  },
  {
   "cell_type": "code",
   "execution_count": null,
   "metadata": {
    "executionInfo": {
     "elapsed": 2,
     "status": "ok",
     "timestamp": 1668998956958,
     "user": {
      "displayName": "王金柱",
      "userId": "07873343920934819946"
     },
     "user_tz": -480
    },
    "id": "Byus-jC--AF8"
   },
   "outputs": [],
   "source": []
  },
  {
   "cell_type": "code",
   "execution_count": 10,
   "metadata": {
    "executionInfo": {
     "elapsed": 8302,
     "status": "ok",
     "timestamp": 1668998965967,
     "user": {
      "displayName": "王金柱",
      "userId": "07873343920934819946"
     },
     "user_tz": -480
    },
    "id": "EB6NV8Vt-ADz"
   },
   "outputs": [],
   "source": [
    "# import GAEZ data from ee_asset\n",
    "GAEZ_list = ! earthengine ls users/wangjinzhulala/Paper_3/03_GAEZ\n",
    "\n",
    "# import NCL shp\n",
    "NCP_shp = ee.FeatureCollection(\"users/wangjinzhulala/North_China_Plain_Python/Boundary_shp/North_China_Plain_province_boundry\")\n",
    "NCP_cities = ee.FeatureCollection(\"users/wangjinzhulala/North_China_Plain_Python/Boundary_shp/North_China_Plain_city_boundary\")\n",
    "\n",
    "# get the GAEZ pixel size\n",
    "GAEZ_pix_scale = ee.Image(\"users/wangjinzhulala/Paper_3/03_GAEZ/GAEZ_2_Moisture_Annual_P_PET_1981_2010_Historical\").projection().nominalScale().getInfo()\n",
    "\n",
    "# pair Chinese city names with english spelling\n",
    "city_cn_en = dict(zip(['北京市','天津市', '河北省','江苏省', '安徽省', '河南省', '山东省'],\n",
    "             ['Beijing','Tianjin', 'Hebei','Jiangsu', 'Anhui', 'Henan', 'Shandong']))"
   ]
  },
  {
   "cell_type": "code",
   "execution_count": null,
   "metadata": {
    "executionInfo": {
     "elapsed": 3,
     "status": "ok",
     "timestamp": 1668998969228,
     "user": {
      "displayName": "王金柱",
      "userId": "07873343920934819946"
     },
     "user_tz": -480
    },
    "id": "dBdTTcoS9_9l"
   },
   "outputs": [],
   "source": []
  },
  {
   "cell_type": "markdown",
   "metadata": {
    "id": "hLRtEnXM9MI8"
   },
   "source": [
    "## 1. Compute yield conversion ratio"
   ]
  },
  {
   "cell_type": "markdown",
   "metadata": {
    "id": "c6lFwj-yULsV"
   },
   "source": [
    "- For maize, it's 0.87.\n",
    "- For wetland rice it's 0.875 (0.9 for dryland rice)\n",
    "- For wheat it's 0.875. "
   ]
  },
  {
   "cell_type": "code",
   "execution_count": null,
   "metadata": {
    "executionInfo": {
     "elapsed": 4,
     "status": "ok",
     "timestamp": 1668998969229,
     "user": {
      "displayName": "王金柱",
      "userId": "07873343920934819946"
     },
     "user_tz": -480
    },
    "id": "7eDFZ07Tc5vG"
   },
   "outputs": [],
   "source": []
  },
  {
   "cell_type": "markdown",
   "metadata": {
    "id": "2ks6-rqCfvPi"
   },
   "source": [
    "#### Load yield data from [ 'Attainable']"
   ]
  },
  {
   "cell_type": "code",
   "execution_count": 11,
   "metadata": {
    "colab": {
     "base_uri": "https://localhost:8080/"
    },
    "executionInfo": {
     "elapsed": 583,
     "status": "ok",
     "timestamp": 1668998969809,
     "user": {
      "displayName": "王金柱",
      "userId": "07873343920934819946"
     },
     "user_tz": -480
    },
    "id": "_KAhcj_N9_7m",
    "outputId": "dce3144b-dbef-4fa9-c7eb-76bad849fe8a"
   },
   "outputs": [
    {
     "name": "stderr",
     "output_type": "stream",
     "text": [
      "C:\\Users\\Administrator\\AppData\\Local\\Temp\\ipykernel_10592\\3698671651.py:5: FutureWarning: In a future version of pandas all arguments of DataFrame.drop except for the argument 'labels' will be keyword-only.\n"
     ]
    }
   ],
   "source": [
    "# get the historical_attainable_yield\n",
    "interpolate_df_full = pd.read_pickle('./result_csv/attainable_yield_interpolated.pkl')\n",
    "\n",
    "attainable_historical = interpolate_df_full[[str(i) in (['1975','1985','1995','2010']) for i in interpolate_df_full['year'].tolist()]]\n",
    "attainable_historical = attainable_historical.drop(['img_future_sd','img_future_ci'],1)"
   ]
  },
  {
   "cell_type": "code",
   "execution_count": null,
   "metadata": {
    "executionInfo": {
     "elapsed": 3,
     "status": "ok",
     "timestamp": 1668998969809,
     "user": {
      "displayName": "王金柱",
      "userId": "07873343920934819946"
     },
     "user_tz": -480
    },
    "id": "6EepVMUHY5lT"
   },
   "outputs": [],
   "source": []
  },
  {
   "cell_type": "code",
   "execution_count": null,
   "metadata": {
    "executionInfo": {
     "elapsed": 3,
     "status": "ok",
     "timestamp": 1668998974056,
     "user": {
      "displayName": "王金柱",
      "userId": "07873343920934819946"
     },
     "user_tz": -480
    },
    "id": "2BU_qkCcYUlN"
   },
   "outputs": [],
   "source": []
  },
  {
   "cell_type": "markdown",
   "metadata": {
    "id": "hTBOs9qk9XIS"
   },
   "source": [
    "## 2. Convert GAEZ attainable yield (kg DW/ha) to actual yield (kt/ha)"
   ]
  },
  {
   "cell_type": "markdown",
   "metadata": {
    "id": "GXHwqD459nq1"
   },
   "source": [
    "![123.png](data:image/png;base64,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)"
   ]
  },
  {
   "cell_type": "code",
   "execution_count": null,
   "metadata": {
    "executionInfo": {
     "elapsed": 3,
     "status": "ok",
     "timestamp": 1668998974814,
     "user": {
      "displayName": "王金柱",
      "userId": "07873343920934819946"
     },
     "user_tz": -480
    },
    "id": "x0kasOugYcIW"
   },
   "outputs": [],
   "source": []
  },
  {
   "cell_type": "code",
   "execution_count": 12,
   "metadata": {
    "executionInfo": {
     "elapsed": 4,
     "status": "ok",
     "timestamp": 1668998974815,
     "user": {
      "displayName": "王金柱",
      "userId": "07873343920934819946"
     },
     "user_tz": -480
    },
    "id": "d4YTbZ-c9TE_"
   },
   "outputs": [],
   "source": [
    "# get the critical years\n",
    "attainable_anchors = interpolate_df_full[[str(i) in (['1975','1985','1995','2010','2025','2055','2085','2100']) \n",
    "                          for i in interpolate_df_full['year'].tolist()]]\n",
    "\n",
    "# # remove Rainfed Wetland_rice since this crop never shows in the actual yield records\n",
    "# attainable_anchors = attainable_anchors[~((attainable_anchors['crop']=='Wetland_rice')&\n",
    "#                        (attainable_anchors['water']=='Rainfed'))].reset_index(drop=True)"
   ]
  },
  {
   "cell_type": "code",
   "execution_count": null,
   "metadata": {
    "executionInfo": {
     "elapsed": 3,
     "status": "ok",
     "timestamp": 1668998975517,
     "user": {
      "displayName": "王金柱",
      "userId": "07873343920934819946"
     },
     "user_tz": -480
    },
    "id": "J6k4HUkrlNnp"
   },
   "outputs": [],
   "source": []
  },
  {
   "cell_type": "code",
   "execution_count": 13,
   "metadata": {
    "executionInfo": {
     "elapsed": 3,
     "status": "ok",
     "timestamp": 1668998975518,
     "user": {
      "displayName": "王金柱",
      "userId": "07873343920934819946"
     },
     "user_tz": -480
    },
    "id": "ThaEvkxai7N6"
   },
   "outputs": [],
   "source": [
    "# get the area ratio for Rainfed/Irrigated, the ratio will be used as weights\n",
    "# to compute: mean_yield = (crop_rainfed)*(rainfed_ratio) + (crop_irrigated*irrigated_ratio)\n",
    "def compute_area_ratio(row):\n",
    "\n",
    "  crop = row['crop']\n",
    "  water = row['water']\n",
    "  img = ee.Image(row['GEE_path'])\n",
    "  \n",
    "  # note the Rainfed Wetland_rice is not avaliable in actual yield,\n",
    "  # so we exclude it here\n",
    "  if crop == 'Wetland_rice':\n",
    "    if water == 'Rainfed':\n",
    "      return ee.Image(0)\n",
    "    else:\n",
    "      return ee.Image(1)\n",
    "\n",
    "  img_areas = [ee.Image(i) for i in actual_area[actual_area['crop']==crop]['GEE_path'].tolist()]\n",
    "  img_total_area = ee.ImageCollection(img_areas).sum()\n",
    "  img_area_ratio = img.divide(img_total_area)\n",
    "\n",
    "  return img_area_ratio"
   ]
  },
  {
   "cell_type": "code",
   "execution_count": null,
   "metadata": {
    "executionInfo": {
     "elapsed": 3,
     "status": "ok",
     "timestamp": 1668998975518,
     "user": {
      "displayName": "王金柱",
      "userId": "07873343920934819946"
     },
     "user_tz": -480
    },
    "id": "NIAXVPUmaQm-"
   },
   "outputs": [],
   "source": []
  },
  {
   "cell_type": "code",
   "execution_count": 14,
   "metadata": {
    "executionInfo": {
     "elapsed": 2,
     "status": "ok",
     "timestamp": 1668998976042,
     "user": {
      "displayName": "王金柱",
      "userId": "07873343920934819946"
     },
     "user_tz": -480
    },
    "id": "a0o8JQZU9TAt"
   },
   "outputs": [],
   "source": [
    "# function to get attianable yield for each province\n",
    "def get_attainable_conveted_yield(in_df):\n",
    "\n",
    "  # hack to show progress bar\n",
    "  print(' ',end='',flush=True)\n",
    "\n",
    "  df_list = []\n",
    "\n",
    "  # compute the total attainable yield in each provinces\n",
    "  for idx,row in tqdm(in_df.iterrows(),total=len(in_df)):\n",
    "    crop = row['crop']\n",
    "    water = row['water']\n",
    "    year = row['year']\n",
    "    rcp = row['rcp']\n",
    "\n",
    "    img_val = row['convert_actual_yield_val_weighted']\n",
    "    img_ds = ee.Image(0) if year<=2010 else row['convert_actual_yield_sd_weighted']\n",
    "    img = ee.Image([img_val,img_ds]).rename(['val','sd'])\n",
    "    # compute stats from GEE\n",
    "    stats = img.reduceRegions(collection=NCP_shp,reducer='mean',scale=GAEZ_pix_scale).getInfo()\n",
    "\n",
    "    # get data\n",
    "    stats_df = pd.DataFrame({i['properties']['NAME']:[i['properties']['val']] for i in stats['features']}).T\n",
    "    stats_df['sd'] = [i['properties']['sd'] for i in stats['features']] \n",
    "\n",
    "    # append infomation\n",
    "    stats_df = stats_df.reset_index()\n",
    "    stats_df.columns=['Province','Mean Production','sd']\n",
    "    stats_df['water'] = water\n",
    "    stats_df['crop'] = crop\n",
    "    stats_df['year'] = year\n",
    "    stats_df['rcp'] = rcp\n",
    "\n",
    "    stats_df['top'] = stats_df['Mean Production'] + stats_df['sd']\n",
    "    stats_df['bot'] = stats_df['Mean Production'] - stats_df['sd']\n",
    "\n",
    "\n",
    "    # convert attainable yield (kg DW/ha) to practical yield (t/ha)\n",
    "    ratio = 0.87/1000 if crop == \"Maize\" else 0.875/1000\n",
    "    stats_df['Mean Production'] = stats_df['Mean Production'] * ratio\n",
    "    stats_df['top'] = stats_df['top'] * ratio\n",
    "    stats_df['bot'] = stats_df['bot'] * ratio\n",
    "\n",
    "\n",
    "    # CN to EN\n",
    "    stats_df['Province'] = stats_df.apply(lambda x:city_cn_en[x['Province']],1)\n",
    "\n",
    "    # store df                        \n",
    "    df_list.append(stats_df)\n",
    "\n",
    "  # concat dfs\n",
    "  out_df = pd.concat(df_list).reset_index(drop=True)\n",
    "  \n",
    "  return out_df"
   ]
  },
  {
   "cell_type": "code",
   "execution_count": null,
   "metadata": {
    "executionInfo": {
     "elapsed": 2,
     "status": "ok",
     "timestamp": 1668998976576,
     "user": {
      "displayName": "王金柱",
      "userId": "07873343920934819946"
     },
     "user_tz": -480
    },
    "id": "h-BoTOWgm5t1"
   },
   "outputs": [],
   "source": []
  },
  {
   "cell_type": "code",
   "execution_count": 15,
   "metadata": {
    "executionInfo": {
     "elapsed": 573,
     "status": "ok",
     "timestamp": 1668998977971,
     "user": {
      "displayName": "王金柱",
      "userId": "07873343920934819946"
     },
     "user_tz": -480
    },
    "id": "pxQYzptXNdCA"
   },
   "outputs": [],
   "source": [
    "# actual harvested area\n",
    "actual_area = get_img_df(img_path = GAEZ_list,\n",
    "              theme = 'GAEZ_5',\n",
    "              variable = ['Harvested_area'],\n",
    "              time = '2010',\n",
    "              crop = ['Maize','Wetland_rice','Wheat'],\n",
    "              water = ['Rainfed','Irrigated'])\n",
    "\n",
    "# get the crop area ratio for different water type\n",
    "actual_area['area_ratio'] = actual_area.apply(lambda row:compute_area_ratio(row),1)\n",
    "actual_area = actual_area[['crop','water','area_ratio']]\n",
    "\n",
    "# save to disk\n",
    "actual_area.to_pickle('./result_csv/harvested_area_ratio.pkl')"
   ]
  },
  {
   "cell_type": "code",
   "execution_count": null,
   "metadata": {
    "executionInfo": {
     "elapsed": 4,
     "status": "ok",
     "timestamp": 1668998977972,
     "user": {
      "displayName": "王金柱",
      "userId": "07873343920934819946"
     },
     "user_tz": -480
    },
    "id": "U1Lp4LMLYQdX"
   },
   "outputs": [],
   "source": []
  },
  {
   "cell_type": "code",
   "execution_count": 16,
   "metadata": {
    "colab": {
     "base_uri": "https://localhost:8080/",
     "height": 354,
     "referenced_widgets": [
      "ab04ad441f994684baaf14d6a926ac40",
      "a3c0c4217f544b6aadef90c773e0fe73",
      "e600e82c11c344499dbea2de900b862d",
      "87fd885a39494c10b47ec52f06701973",
      "3bb7e410f6184ef0baccc665867e6d63",
      "7bc7e04e7b574a2baa8fbc86e223c253",
      "f301e5cba1284e4cbef99d8b2f7d8d63",
      "6be05c8105b242c5a49d04fba80f6eb9",
      "0f7387026d784031a330e96401ee5938",
      "97f4fa4c796c4f2e83fcffa90d0d7e87",
      "ebfd5fbe6720453ab0cfea024bdde8f5",
      "5ed23625c1e84e43b88f5031ff263d81",
      "ad9b12bb2b7843e6b3ce59d6ad9f5d3e",
      "a62fa227255f47b492c8b11a97d7a00b",
      "a9422f0b076c4f3a82f01ffb1d1f2ed2",
      "e9b2837b6696462184005106cdc7f07f",
      "7df2ee82c1034df88e28e2b51f205ad0",
      "bf4f368435424de381abb0b847fab903",
      "5d8cb1b832ea4309a3a1028d6f1fc737",
      "8b21865108a04005a4fcc50e1d9fe0ad",
      "6e8a0d9aab0644639554c67c253dde1d",
      "8d6c78f96cef4384a28e88bf3e195fb2",
      "8418dcde61734d988bb8261ac21ff70f",
      "da3943d9aa6b4a4f9501a9b1d7135535",
      "a9900e40a4a64d348fc789c49cfec6c3",
      "cd464c28602c4f5f805885fc4b4e8438",
      "a095b0b1d39a44c4b1d6dfcded207f1b",
      "181003ea8bde48c79dd36fd64ac6a01c",
      "06e67f66e88441c288db9e8ea07158e6",
      "95eafac40d3747f08c9330cd382a3e0d",
      "c6e074e27ac948bf88626112880a7994",
      "1cbd52f23dd246b7bfbbb4564a4dc699",
      "a541375f22814d2798541b2f2cf3d0b3",
      "7af21eb1661743d78e3d92f243ac0e8a",
      "19ccb10644aa4cafa3c082e25ba4ef02",
      "e15b6e20d21343d9b6d3807ff876d2c4",
      "464e8592787d40c5891a9db6abb9c45d",
      "87dda290a33e47dd832ca98669d6a69d",
      "f8a76a205c594c8aba61d37273e11a55",
      "49ef43bd7a014f9f979781d11a3062ac",
      "22c5bea4a556498392341990f1bddf50",
      "6486d55dbcc04f0ca52fee1968bc1a17",
      "6ec88c7285af4d298e7f5ae8b09f0c56",
      "fd899b82682c42c1ac38ed690e9b2cd1",
      "55a885b1d26b47698a0a53ef8b49afee",
      "ba7dc668d95a44d68b98864f5d9e1a4a",
      "e8f4f34f96bf454fa4dec169014c5aa3",
      "f29b64433b0741d7bda1176701effc2f",
      "27adf180e59e4c079d4bc8fbaa7eaf5d",
      "c5b1c7e9100444f4946069f49604f815",
      "d094da26297549de840ca24ea06f19c5",
      "63f5898d03eb4c3b8d51d581acf2ffe4",
      "c4a57da515484015af3eb7c664f8896c",
      "5e19e8d1c548498d956703eb97f0880c",
      "c401627b3e544490a3c0c6cb16da1d70",
      "b17bfbeca63441f89afc536d900bb817",
      "9cc6787d7e984b14afd62c3b141b0f3e",
      "8a2469d26a2c42e6bacf6531f0a07ed5",
      "1bdbdf7ebb5442cb8bd2f9622f9a2832",
      "7302dd953ea241ad87a689308a0cc198",
      "13c47825355144a0a79761af637a8dee",
      "70a5931d9f274b1abf25b22baca4956d",
      "8ec7833c2c954e70bbe33b5374bfcd56",
      "ced974e2973e4af39a0c9f8b0cca0c8e",
      "3838de1c8b724bed9bed83a3c0b67eff",
      "c7e509d2cfb64ae1afedafe7b3d04873",
      "2959d2dfb68747f38cce5a244e17b154",
      "f4756de34c544da4a4c9ae031135989d",
      "88b2c449a9bc44bd991d0c60e1283f90",
      "f900bbdd386f48adbbcf787b8f562fe7",
      "79816d79e0fb4e4f89b20dd5d61adf4e",
      "8f2d3d36b1764bbe9e725bc78a9928e0",
      "0283c207edfb4443bb207e5c4ef8ad7f",
      "57fa12892b2e4600b06d624795257b4f",
      "3b4ed27585aa4e199d32cac88e67c367",
      "ee046689e0024738b0f5560adcfb0f9f",
      "151ca9ab31a34dae89113590dc509d47",
      "bbafaf42f0e946389f76c0e7fa301a1b",
      "81159f662bdf42d0aae1e46b2cf26c78",
      "a405e82dff8b43ca92c14822ced262f5",
      "869640beb7134bf2b3cccb1a6cef4ed1",
      "0f33cdb1b35e4acfae4612550815b870",
      "951276e0c9a34349a04d018237f13d78",
      "d1feff0a052243a5b91580f4d40c1afa",
      "0a88faab02794746add2d2d527bde6b0",
      "f7af3510e384496cb1b900ebbbd5c686",
      "1968c263f8cd46ac903fe0136e598d8a",
      "1b52cc236ed44e6c821b23c2814f4643",
      "cc16dffb5c2d4bb6a4652721f382a94c",
      "bbe3b50fc1f64e918afeecf8ca3299ea",
      "c6ce626bbd584096bd3ddf87555c7f93",
      "9b8090e8866a495e8aed1b4a16ae8e5a",
      "96ff42c589a84b8ab299f022b0e248ac",
      "d7ec47e673294bf488c53d48f84a4b80",
      "b3453622b9074a3bbe68192c5ef78e88",
      "df29dbfa1c8d493484a79d9e1d07324d",
      "65a6235ae29c41a59002080fd0d6f103",
      "3c0352e46c09476ea2ef43abd351d6f4",
      "8954bfba30e04d71ab5800d7714cb70b",
      "3fc1ee3608474477bce51945e37c4792",
      "0f74b0d63c9c487ea293af69a90b1747",
      "7320785b4cd34588bc1b5ee1d544d5e0",
      "30fe506593cf4a1da92264486ae3509f",
      "50f25c433c4e4634abfbf28afa3cf956",
      "3c5bb3a4e5aa4aa1b3e76448e5f9e560",
      "7cd967b9619146f7a5e45f373e116c68",
      "b88e2785b82f48618a71d7c60b40b4d8",
      "04bb1d8c0a8a49728a2682868ece4c98",
      "ac86f8497bee4ad48fb07e4accc29b49",
      "9d69bd25ad6b4b6b9c3affe2e36561e5"
     ]
    },
    "executionInfo": {
     "elapsed": 36764,
     "status": "ok",
     "timestamp": 1668999020448,
     "user": {
      "displayName": "王金柱",
      "userId": "07873343920934819946"
     },
     "user_tz": -480
    },
    "id": "J_iGGrJqlUAH",
    "outputId": "8c125d03-29c4-4a47-8b7f-eb345031ee09"
   },
   "outputs": [
    {
     "name": "stdout",
     "output_type": "stream",
     "text": [
      "          "
     ]
    },
    {
     "data": {
      "application/vnd.jupyter.widget-view+json": {
       "model_id": "488903ab9ebf4589a9200c684aab8f6c",
       "version_major": 2,
       "version_minor": 0
      },
      "text/plain": [
       "  0%|          | 0/12 [00:00<?, ?it/s]"
      ]
     },
     "metadata": {},
     "output_type": "display_data"
    },
    {
     "data": {
      "application/vnd.jupyter.widget-view+json": {
       "model_id": "c6c740d078ec4d5c9a87c9850b94e847",
       "version_major": 2,
       "version_minor": 0
      },
      "text/plain": [
       "  0%|          | 0/12 [00:00<?, ?it/s]"
      ]
     },
     "metadata": {},
     "output_type": "display_data"
    },
    {
     "data": {
      "application/vnd.jupyter.widget-view+json": {
       "model_id": "04fa2933401348f0bc2edb0cdffb42cf",
       "version_major": 2,
       "version_minor": 0
      },
      "text/plain": [
       "  0%|          | 0/12 [00:00<?, ?it/s]"
      ]
     },
     "metadata": {},
     "output_type": "display_data"
    },
    {
     "data": {
      "application/vnd.jupyter.widget-view+json": {
       "model_id": "4638623e909a46829a006af02ec1e297",
       "version_major": 2,
       "version_minor": 0
      },
      "text/plain": [
       "  0%|          | 0/12 [00:00<?, ?it/s]"
      ]
     },
     "metadata": {},
     "output_type": "display_data"
    },
    {
     "data": {
      "application/vnd.jupyter.widget-view+json": {
       "model_id": "a841c596a63746faa9a00865e70a1caf",
       "version_major": 2,
       "version_minor": 0
      },
      "text/plain": [
       "  0%|          | 0/12 [00:00<?, ?it/s]"
      ]
     },
     "metadata": {},
     "output_type": "display_data"
    },
    {
     "data": {
      "application/vnd.jupyter.widget-view+json": {
       "model_id": "b6cc7c3e2a324de48684e5b3d2d811a6",
       "version_major": 2,
       "version_minor": 0
      },
      "text/plain": [
       "  0%|          | 0/12 [00:00<?, ?it/s]"
      ]
     },
     "metadata": {},
     "output_type": "display_data"
    },
    {
     "data": {
      "application/vnd.jupyter.widget-view+json": {
       "model_id": "9e207f6263e040bc8f90a5de56d29a3d",
       "version_major": 2,
       "version_minor": 0
      },
      "text/plain": [
       "  0%|          | 0/12 [00:00<?, ?it/s]"
      ]
     },
     "metadata": {},
     "output_type": "display_data"
    },
    {
     "data": {
      "application/vnd.jupyter.widget-view+json": {
       "model_id": "60860cf079ff4ce8a0fddc88c087d2cc",
       "version_major": 2,
       "version_minor": 0
      },
      "text/plain": [
       "  0%|          | 0/12 [00:00<?, ?it/s]"
      ]
     },
     "metadata": {},
     "output_type": "display_data"
    },
    {
     "data": {
      "application/vnd.jupyter.widget-view+json": {
       "model_id": "7b172dab077147c6ba02aa1c6038f9d3",
       "version_major": 2,
       "version_minor": 0
      },
      "text/plain": [
       "  0%|          | 0/12 [00:00<?, ?it/s]"
      ]
     },
     "metadata": {},
     "output_type": "display_data"
    },
    {
     "data": {
      "application/vnd.jupyter.widget-view+json": {
       "model_id": "0553672d1e2046d3bc089b12e3af889b",
       "version_major": 2,
       "version_minor": 0
      },
      "text/plain": [
       "  0%|          | 0/12 [00:00<?, ?it/s]"
      ]
     },
     "metadata": {},
     "output_type": "display_data"
    },
    {
     "name": "stderr",
     "output_type": "stream",
     "text": [
      "C:\\Users\\Administrator\\AppData\\Local\\Temp\\ipykernel_10592\\4109513684.py:12: FutureWarning: The default value of numeric_only in DataFrameGroupBy.sum is deprecated. In a future version, numeric_only will default to False. Either specify numeric_only or select only columns which should be valid for the function.\n"
     ]
    }
   ],
   "source": [
    "##################### Multiply each crop_water with its area_ratio #############\n",
    "anchor_attainable_converted = attainable_anchors.merge(actual_area,on=['crop','water'])\n",
    "\n",
    "# compute the area_weighted actual yield\n",
    "anchor_attainable_converted['convert_actual_yield_val_weighted'] = anchor_attainable_converted.apply(lambda x:x['image'].multiply(x['area_ratio']),1)\n",
    "anchor_attainable_converted['convert_actual_yield_sd_weighted'] = anchor_attainable_converted.apply(lambda x:ee.Image(x['img_future_sd']).multiply(x['area_ratio']),1)\n",
    "\n",
    "#################### Get the mean production for each province ###########################\n",
    "anchor_attainable_converted_df = parallelize_dataframe(anchor_attainable_converted,get_attainable_conveted_yield,10)\n",
    "\n",
    "# sum rainfed/irrigated together\n",
    "anchor_attainable_converted_df = anchor_attainable_converted_df.groupby(['crop','Province','year','rcp']).sum().reset_index()\n",
    "anchor_attainable_converted_df.to_csv('./result_csv/anchor_attainable_converted_df.csv',index=False)"
   ]
  },
  {
   "cell_type": "code",
   "execution_count": null,
   "metadata": {
    "id": "xJZUr7ktYlwj"
   },
   "outputs": [],
   "source": []
  },
  {
   "cell_type": "code",
   "execution_count": null,
   "metadata": {
    "executionInfo": {
     "elapsed": 518,
     "status": "ok",
     "timestamp": 1668999025159,
     "user": {
      "displayName": "王金柱",
      "userId": "07873343920934819946"
     },
     "user_tz": -480
    },
    "id": "_roLvWwmNkPI"
   },
   "outputs": [],
   "source": []
  },
  {
   "cell_type": "markdown",
   "metadata": {
    "id": "22q6iSkiM4Nw"
   },
   "source": [
    "Seeing above historical attainbale-yield, we can conclude that the historical climate change has less impcats to crop yield. This conclusion is very strange as we know the climate change since 1980 was also siginificant. I assume two reasons led to such result:\n",
    "- The historical GAEZ data is bad, which lead to unreasonable results\n",
    "- The historical climate change (1975-2010) is not so significant compared to current magnitude."
   ]
  },
  {
   "cell_type": "code",
   "execution_count": null,
   "metadata": {
    "executionInfo": {
     "elapsed": 2,
     "status": "ok",
     "timestamp": 1668999029848,
     "user": {
      "displayName": "王金柱",
      "userId": "07873343920934819946"
     },
     "user_tz": -480
    },
    "id": "oJ9bRErU9SvU"
   },
   "outputs": [],
   "source": []
  },
  {
   "cell_type": "markdown",
   "metadata": {
    "id": "JLENhUBXN4p7"
   },
   "source": [
    "#### Get the actual production from yearbook"
   ]
  },
  {
   "cell_type": "code",
   "execution_count": 17,
   "metadata": {
    "executionInfo": {
     "elapsed": 1,
     "status": "ok",
     "timestamp": 1668999030826,
     "user": {
      "displayName": "王金柱",
      "userId": "07873343920934819946"
     },
     "user_tz": -480
    },
    "id": "4ETztwwDuDyf"
   },
   "outputs": [],
   "source": [
    "# function to read yearbook csv and orginize data\n",
    "def read_csv(path,crop):\n",
    "\n",
    "  # read and reshape data to long format\n",
    "  df = pd.read_csv(path)\n",
    "  df = df.set_index('地区')\n",
    "  df = df.stack().reset_index()\n",
    "  df.columns = ['Province','year','Mean Production']\n",
    "  df['year'] = df['year'].apply(lambda x: int(x[:4]))\n",
    "  df['crop'] = crop\n",
    "\n",
    "  # fitler df and replace CN to EN\n",
    "  df = df[df['Province'].isin(city_cn_en.keys())]\n",
    "  df = df.replace(city_cn_en)\n",
    "\n",
    "  # remove 0s\n",
    "  df = df[df['Mean Production']!=0]\n",
    "\n",
    "  return df"
   ]
  },
  {
   "cell_type": "code",
   "execution_count": null,
   "metadata": {
    "executionInfo": {
     "elapsed": 3,
     "status": "ok",
     "timestamp": 1668999031400,
     "user": {
      "displayName": "王金柱",
      "userId": "07873343920934819946"
     },
     "user_tz": -480
    },
    "id": "YHl2_2AJuDwP"
   },
   "outputs": [],
   "source": []
  },
  {
   "cell_type": "code",
   "execution_count": 19,
   "metadata": {
    "executionInfo": {
     "elapsed": 3384,
     "status": "ok",
     "timestamp": 1668999034782,
     "user": {
      "displayName": "王金柱",
      "userId": "07873343920934819946"
     },
     "user_tz": -480
    },
    "id": "UxfPjvvIuDuF"
   },
   "outputs": [],
   "source": [
    "# read data and concat to a single df\n",
    "wheat_yield_history = read_csv('../Data/06_Yearbook/Agricultural_production/Provincial_historical_yield/Provincial_wheat_yield.csv','Wheat')\n",
    "rice_yield_history = read_csv('../Data/06_Yearbook/Agricultural_production/Provincial_historical_yield/Provincial_rice_yield.csv','Wetland_rice')\n",
    "maize_yield_history = read_csv('../Data/06_Yearbook/Agricultural_production/Provincial_historical_yield/Provincial_maize_yield.csv','Maize')\n",
    "\n",
    "crop_yield_history = pd.concat([wheat_yield_history,rice_yield_history,maize_yield_history]).reset_index(drop=True)\n",
    "\n",
    "# convert t/ha to kt/ha, so the uint is consistent with GAEZ\n",
    "crop_yield_history['Mean Production'] = crop_yield_history['Mean Production']/1000\n",
    "crop_yield_history['rcp'] = 'Yearbook'\n",
    "\n",
    "# filter records for plotting\n",
    "crop_yield_history_1975_2020 = crop_yield_history[(crop_yield_history['year']<2020)&(crop_yield_history['year']>=1975)]\n",
    "crop_yield_history_1975_2020.to_csv('./result_csv/crop_yield_history_1975_2020.csv',index=False)"
   ]
  },
  {
   "cell_type": "code",
   "execution_count": null,
   "metadata": {
    "executionInfo": {
     "elapsed": 11,
     "status": "ok",
     "timestamp": 1668999034783,
     "user": {
      "displayName": "王金柱",
      "userId": "07873343920934819946"
     },
     "user_tz": -480
    },
    "id": "yPnShuBdOvar"
   },
   "outputs": [],
   "source": []
  },
  {
   "cell_type": "code",
   "execution_count": null,
   "metadata": {
    "id": "vB8dQ4IxGO4g"
   },
   "outputs": [],
   "source": []
  },
  {
   "cell_type": "code",
   "execution_count": 20,
   "metadata": {
    "colab": {
     "base_uri": "https://localhost:8080/",
     "height": 468
    },
    "executionInfo": {
     "elapsed": 6333,
     "status": "ok",
     "timestamp": 1668999495646,
     "user": {
      "displayName": "王金柱",
      "userId": "07873343920934819946"
     },
     "user_tz": -480
    },
    "id": "39kFcavujB4H",
    "outputId": "c43d56b8-ed56-4883-cc6e-4066ef72eac8"
   },
   "outputs": [
    {
     "data": {
      "image/png": "[encoded data removed]",
      "text/plain": [
       "<Figure size 1600x600 with 21 Axes>"
      ]
     },
     "metadata": {
      "image/png": {
       "height": 600,
       "width": 1600
      }
     },
     "output_type": "display_data"
    },
    {
     "data": {
      "text/plain": [
       "<Figure Size: (1600 x 600)>"
      ]
     },
     "execution_count": 20,
     "metadata": {},
     "output_type": "execute_result"
    }
   ],
   "source": [
    "plotnine.options.figure_size = (16, 6)\n",
    "plotnine.options.dpi = 100\n",
    "\n",
    "g = (ggplot() +\n",
    " # yearbook yield\n",
    " geom_point(crop_yield_history_1975_2020, aes('year','Mean Production'),size=0.1,alpha=0.3) +\n",
    " # attainable yield\n",
    " geom_line(anchor_attainable_converted_df, aes('year','Mean Production',color='rcp'),alpha=0.7) +\n",
    " geom_ribbon(anchor_attainable_converted_df, aes(x='year',ymax='top',ymin='bot',fill='rcp'),alpha=0.15) +\n",
    " facet_grid('crop~Province',scales='free') +\n",
    " theme_bw() + \n",
    " theme(axis_text_x=element_text(rotation=30)) +\n",
    " ylab('Mean production (t/ha)')\n",
    ")\n",
    "\n",
    "g"
   ]
  },
  {
   "cell_type": "code",
   "execution_count": null,
   "metadata": {
    "id": "YtRkDgZJjB1k"
   },
   "outputs": [],
   "source": []
  },
  {
   "cell_type": "code",
   "execution_count": 21,
   "metadata": {
    "colab": {
     "base_uri": "https://localhost:8080/"
    },
    "executionInfo": {
     "elapsed": 5325,
     "status": "ok",
     "timestamp": 1668999532425,
     "user": {
      "displayName": "王金柱",
      "userId": "07873343920934819946"
     },
     "user_tz": -480
    },
    "id": "SuRZFd5mol_E",
    "outputId": "1ae60414-5556-44aa-973d-1c0f01f869e0"
   },
   "outputs": [
    {
     "name": "stderr",
     "output_type": "stream",
     "text": [
      "C:\\ProgramData\\Miniconda3\\envs\\gis\\lib\\site-packages\\plotnine\\ggplot.py:587: PlotnineWarning: Saving 16 x 6 in image.\n",
      "C:\\ProgramData\\Miniconda3\\envs\\gis\\lib\\site-packages\\plotnine\\ggplot.py:588: PlotnineWarning: Filename: ../Figs/sup_12_attianabe_yield_no_correction.svg\n"
     ]
    }
   ],
   "source": [
    "g.save('../Figs/sup_12_attianabe_yield_no_correction.svg')"
   ]
  },
  {
   "cell_type": "code",
   "execution_count": null,
   "metadata": {
    "id": "AsxQhaZrol81"
   },
   "outputs": [],
   "source": []
  },
  {
   "cell_type": "code",
   "execution_count": null,
   "metadata": {
    "id": "UxDH1uCNol66"
   },
   "outputs": [],
   "source": []
  },
  {
   "cell_type": "code",
   "execution_count": null,
   "metadata": {
    "id": "3zjrbWT6ol4w"
   },
   "outputs": [],
   "source": []
  },
  {
   "cell_type": "code",
   "execution_count": null,
   "metadata": {
    "id": "nqZGqvmxol2t"
   },
   "outputs": [],
   "source": []
  },
  {
   "cell_type": "code",
   "execution_count": null,
   "metadata": {
    "id": "aEX8R06lol0Z"
   },
   "outputs": [],
   "source": []
  },
  {
   "cell_type": "code",
   "execution_count": null,
   "metadata": {
    "id": "xLYv-dNIolyJ"
   },
   "outputs": [],
   "source": []
  },
  {
   "cell_type": "code",
   "execution_count": null,
   "metadata": {
    "id": "bsRoclq4olwG"
   },
   "outputs": [],
   "source": []
  },
  {
   "cell_type": "code",
   "execution_count": null,
   "metadata": {
    "id": "hGa_GmM9olt_"
   },
   "outputs": [],
   "source": []
  },
  {
   "cell_type": "code",
   "execution_count": null,
   "metadata": {
    "id": "nyd8IZ_volsq"
   },
   "outputs": [],
   "source": []
  },
  {
   "cell_type": "code",
   "execution_count": null,
   "metadata": {
    "id": "4vzTf4AKolrU"
   },
   "outputs": [],
   "source": []
  },
  {
   "cell_type": "code",
   "execution_count": null,
   "metadata": {
    "id": "iVs6Qs4Volp_"
   },
   "outputs": [],
   "source": []
  },
  {
   "cell_type": "code",
   "execution_count": null,
   "metadata": {
    "id": "AKgVfEH3olop"
   },
   "outputs": [],
   "source": []
  },
  {
   "cell_type": "code",
   "execution_count": null,
   "metadata": {
    "id": "7fLogxnLolmz"
   },
   "outputs": [],
   "source": []
  },
  {
   "cell_type": "code",
   "execution_count": null,
   "metadata": {
    "id": "Qbkvlxjvoljd"
   },
   "outputs": [],
   "source": []
  },
  {
   "cell_type": "code",
   "execution_count": null,
   "metadata": {
    "id": "ZsjWmqslolf7"
   },
   "outputs": [],
   "source": []
  },
  {
   "cell_type": "code",
   "execution_count": null,
   "metadata": {
    "id": "JhafLLlLold2"
   },
   "outputs": [],
   "source": []
  },
  {
   "cell_type": "code",
   "execution_count": null,
   "metadata": {
    "id": "7oTuzW0holb-"
   },
   "outputs": [],
   "source": []
  },
  {
   "cell_type": "code",
   "execution_count": null,
   "metadata": {
    "id": "lTYlFKSqolaF"
   },
   "outputs": [],
   "source": []
  },
  {
   "cell_type": "code",
   "execution_count": null,
   "metadata": {
    "id": "Dtxyv24ColYM"
   },
   "outputs": [],
   "source": []
  },
  {
   "cell_type": "code",
   "execution_count": null,
   "metadata": {
    "id": "Mb3tJKseolWR"
   },
   "outputs": [],
   "source": []
  },
  {
   "cell_type": "code",
   "execution_count": null,
   "metadata": {
    "id": "JtjYzVe9olUM"
   },
   "outputs": [],
   "source": []
  },
  {
   "cell_type": "code",
   "execution_count": null,
   "metadata": {
    "id": "6iKtIBe4olSK"
   },
   "outputs": [],
   "source": []
  },
  {
   "cell_type": "code",
   "execution_count": null,
   "metadata": {
    "id": "-m-U2V0rolQA"
   },
   "outputs": [],
   "source": []
  },
  {
   "cell_type": "code",
   "execution_count": null,
   "metadata": {
    "id": "-SQ2qqOdjNHG"
   },
   "outputs": [],
   "source": []
  }
 ],
 "metadata": {
  "colab": {
   "authorship_tag": "ABX9TyN5ZXZzzZntSVNd56bETmiZ",
   "machine_shape": "hm",
   "provenance": []
  },
  "kernelspec": {
   "display_name": "Python 3 (ipykernel)",
   "language": "python",
   "name": "python3"
  },
  "language_info": {
   "codemirror_mode": {
    "name": "ipython",
    "version": 3
   },
   "file_extension": ".py",
   "mimetype": "text/x-python",
   "name": "python",
   "nbconvert_exporter": "python",
   "pygments_lexer": "ipython3",
   "version": "3.10.9"
  },
  "widgets": {
   "application/vnd.jupyter.widget-state+json": {
    "0283c207edfb4443bb207e5c4ef8ad7f": {
     "model_module": "@jupyter-widgets/controls",
     "model_module_version": "1.5.0",
     "model_name": "DescriptionStyleModel",
     "state": {
      "_model_module": "@jupyter-widgets/controls",
      "_model_module_version": "1.5.0",
      "_model_name": "DescriptionStyleModel",
      "_view_count": null,
      "_view_module": "@jupyter-widgets/base",
      "_view_module_version": "1.2.0",
      "_view_name": "StyleView",
      "description_width": ""
     }
    },
    "04bb1d8c0a8a49728a2682868ece4c98": {
     "model_module": "@jupyter-widgets/controls",
     "model_module_version": "1.5.0",
     "model_name": "ProgressStyleModel",
     "state": {
      "_model_module": "@jupyter-widgets/controls",
      "_model_module_version": "1.5.0",
      "_model_name": "ProgressStyleModel",
      "_view_count": null,
      "_view_module": "@jupyter-widgets/base",
      "_view_module_version": "1.2.0",
      "_view_name": "StyleView",
      "bar_color": null,
      "description_width": ""
     }
    },
    "06e67f66e88441c288db9e8ea07158e6": {
     "model_module": "@jupyter-widgets/controls",
     "model_module_version": "1.5.0",
     "model_name": "DescriptionStyleModel",
     "state": {
      "_model_module": "@jupyter-widgets/controls",
      "_model_module_version": "1.5.0",
      "_model_name": "DescriptionStyleModel",
      "_view_count": null,
      "_view_module": "@jupyter-widgets/base",
      "_view_module_version": "1.2.0",
      "_view_name": "StyleView",
      "description_width": ""
     }
    },
    "0a88faab02794746add2d2d527bde6b0": {
     "model_module": "@jupyter-widgets/base",
     "model_module_version": "1.2.0",
     "model_name": "LayoutModel",
     "state": {
      "_model_module": "@jupyter-widgets/base",
      "_model_module_version": "1.2.0",
      "_model_name": "LayoutModel",
      "_view_count": null,
      "_view_module": "@jupyter-widgets/base",
      "_view_module_version": "1.2.0",
      "_view_name": "LayoutView",
      "align_content": null,
      "align_items": null,
      "align_self": null,
      "border": null,
      "bottom": null,
      "display": null,
      "flex": null,
      "flex_flow": null,
      "grid_area": null,
      "grid_auto_columns": null,
      "grid_auto_flow": null,
      "grid_auto_rows": null,
      "grid_column": null,
      "grid_gap": null,
      "grid_row": null,
      "grid_template_areas": null,
      "grid_template_columns": null,
      "grid_template_rows": null,
      "height": null,
      "justify_content": null,
      "justify_items": null,
      "left": null,
      "margin": null,
      "max_height": null,
      "max_width": null,
      "min_height": null,
      "min_width": null,
      "object_fit": null,
      "object_position": null,
      "order": null,
      "overflow": null,
      "overflow_x": null,
      "overflow_y": null,
      "padding": null,
      "right": null,
      "top": null,
      "visibility": null,
      "width": null
     }
    },
    "0f33cdb1b35e4acfae4612550815b870": {
     "model_module": "@jupyter-widgets/base",
     "model_module_version": "1.2.0",
     "model_name": "LayoutModel",
     "state": {
      "_model_module": "@jupyter-widgets/base",
      "_model_module_version": "1.2.0",
      "_model_name": "LayoutModel",
      "_view_count": null,
      "_view_module": "@jupyter-widgets/base",
      "_view_module_version": "1.2.0",
      "_view_name": "LayoutView",
      "align_content": null,
      "align_items": null,
      "align_self": null,
      "border": null,
      "bottom": null,
      "display": null,
      "flex": null,
      "flex_flow": null,
      "grid_area": null,
      "grid_auto_columns": null,
      "grid_auto_flow": null,
      "grid_auto_rows": null,
      "grid_column": null,
      "grid_gap": null,
      "grid_row": null,
      "grid_template_areas": null,
      "grid_template_columns": null,
      "grid_template_rows": null,
      "height": null,
      "justify_content": null,
      "justify_items": null,
      "left": null,
      "margin": null,
      "max_height": null,
      "max_width": null,
      "min_height": null,
      "min_width": null,
      "object_fit": null,
      "object_position": null,
      "order": null,
      "overflow": null,
      "overflow_x": null,
      "overflow_y": null,
      "padding": null,
      "right": null,
      "top": null,
      "visibility": null,
      "width": null
     }
    },
    "0f7387026d784031a330e96401ee5938": {
     "model_module": "@jupyter-widgets/controls",
     "model_module_version": "1.5.0",
     "model_name": "ProgressStyleModel",
     "state": {
      "_model_module": "@jupyter-widgets/controls",
      "_model_module_version": "1.5.0",
      "_model_name": "ProgressStyleModel",
      "_view_count": null,
      "_view_module": "@jupyter-widgets/base",
      "_view_module_version": "1.2.0",
      "_view_name": "StyleView",
      "bar_color": null,
      "description_width": ""
     }
    },
    "0f74b0d63c9c487ea293af69a90b1747": {
     "model_module": "@jupyter-widgets/controls",
     "model_module_version": "1.5.0",
     "model_name": "HTMLModel",
     "state": {
      "_dom_classes": [],
      "_model_module": "@jupyter-widgets/controls",
      "_model_module_version": "1.5.0",
      "_model_name": "HTMLModel",
      "_view_count": null,
      "_view_module": "@jupyter-widgets/controls",
      "_view_module_version": "1.5.0",
      "_view_name": "HTMLView",
      "description": "",
      "description_tooltip": null,
      "layout": "IPY_MODEL_3c5bb3a4e5aa4aa1b3e76448e5f9e560",
      "placeholder": "​",
      "style": "IPY_MODEL_7cd967b9619146f7a5e45f373e116c68",
      "value": "100%"
     }
    },
    "13c47825355144a0a79761af637a8dee": {
     "model_module": "@jupyter-widgets/base",
     "model_module_version": "1.2.0",
     "model_name": "LayoutModel",
     "state": {
      "_model_module": "@jupyter-widgets/base",
      "_model_module_version": "1.2.0",
      "_model_name": "LayoutModel",
      "_view_count": null,
      "_view_module": "@jupyter-widgets/base",
      "_view_module_version": "1.2.0",
      "_view_name": "LayoutView",
      "align_content": null,
      "align_items": null,
      "align_self": null,
      "border": null,
      "bottom": null,
      "display": null,
      "flex": null,
      "flex_flow": null,
      "grid_area": null,
      "grid_auto_columns": null,
      "grid_auto_flow": null,
      "grid_auto_rows": null,
      "grid_column": null,
      "grid_gap": null,
      "grid_row": null,
      "grid_template_areas": null,
      "grid_template_columns": null,
      "grid_template_rows": null,
      "height": null,
      "justify_content": null,
      "justify_items": null,
      "left": null,
      "margin": null,
      "max_height": null,
      "max_width": null,
      "min_height": null,
      "min_width": null,
      "object_fit": null,
      "object_position": null,
      "order": null,
      "overflow": null,
      "overflow_x": null,
      "overflow_y": null,
      "padding": null,
      "right": null,
      "top": null,
      "visibility": null,
      "width": null
     }
    },
    "151ca9ab31a34dae89113590dc509d47": {
     "model_module": "@jupyter-widgets/controls",
     "model_module_version": "1.5.0",
     "model_name": "DescriptionStyleModel",
     "state": {
      "_model_module": "@jupyter-widgets/controls",
      "_model_module_version": "1.5.0",
      "_model_name": "DescriptionStyleModel",
      "_view_count": null,
      "_view_module": "@jupyter-widgets/base",
      "_view_module_version": "1.2.0",
      "_view_name": "StyleView",
      "description_width": ""
     }
    },
    "181003ea8bde48c79dd36fd64ac6a01c": {
     "model_module": "@jupyter-widgets/base",
     "model_module_version": "1.2.0",
     "model_name": "LayoutModel",
     "state": {
      "_model_module": "@jupyter-widgets/base",
      "_model_module_version": "1.2.0",
      "_model_name": "LayoutModel",
      "_view_count": null,
      "_view_module": "@jupyter-widgets/base",
      "_view_module_version": "1.2.0",
      "_view_name": "LayoutView",
      "align_content": null,
      "align_items": null,
      "align_self": null,
      "border": null,
      "bottom": null,
      "display": null,
      "flex": null,
      "flex_flow": null,
      "grid_area": null,
      "grid_auto_columns": null,
      "grid_auto_flow": null,
      "grid_auto_rows": null,
      "grid_column": null,
      "grid_gap": null,
      "grid_row": null,
      "grid_template_areas": null,
      "grid_template_columns": null,
      "grid_template_rows": null,
      "height": null,
      "justify_content": null,
      "justify_items": null,
      "left": null,
      "margin": null,
      "max_height": null,
      "max_width": null,
      "min_height": null,
      "min_width": null,
      "object_fit": null,
      "object_position": null,
      "order": null,
      "overflow": null,
      "overflow_x": null,
      "overflow_y": null,
      "padding": null,
      "right": null,
      "top": null,
      "visibility": null,
      "width": null
     }
    },
    "1968c263f8cd46ac903fe0136e598d8a": {
     "model_module": "@jupyter-widgets/base",
     "model_module_version": "1.2.0",
     "model_name": "LayoutModel",
     "state": {
      "_model_module": "@jupyter-widgets/base",
      "_model_module_version": "1.2.0",
      "_model_name": "LayoutModel",
      "_view_count": null,
      "_view_module": "@jupyter-widgets/base",
      "_view_module_version": "1.2.0",
      "_view_name": "LayoutView",
      "align_content": null,
      "align_items": null,
      "align_self": null,
      "border": null,
      "bottom": null,
      "display": null,
      "flex": null,
      "flex_flow": null,
      "grid_area": null,
      "grid_auto_columns": null,
      "grid_auto_flow": null,
      "grid_auto_rows": null,
      "grid_column": null,
      "grid_gap": null,
      "grid_row": null,
      "grid_template_areas": null,
      "grid_template_columns": null,
      "grid_template_rows": null,
      "height": null,
      "justify_content": null,
      "justify_items": null,
      "left": null,
      "margin": null,
      "max_height": null,
      "max_width": null,
      "min_height": null,
      "min_width": null,
      "object_fit": null,
      "object_position": null,
      "order": null,
      "overflow": null,
      "overflow_x": null,
      "overflow_y": null,
      "padding": null,
      "right": null,
      "top": null,
      "visibility": null,
      "width": null
     }
    },
    "19ccb10644aa4cafa3c082e25ba4ef02": {
     "model_module": "@jupyter-widgets/controls",
     "model_module_version": "1.5.0",
     "model_name": "HTMLModel",
     "state": {
      "_dom_classes": [],
      "_model_module": "@jupyter-widgets/controls",
      "_model_module_version": "1.5.0",
      "_model_name": "HTMLModel",
      "_view_count": null,
      "_view_module": "@jupyter-widgets/controls",
      "_view_module_version": "1.5.0",
      "_view_name": "HTMLView",
      "description": "",
      "description_tooltip": null,
      "layout": "IPY_MODEL_f8a76a205c594c8aba61d37273e11a55",
      "placeholder": "​",
      "style": "IPY_MODEL_49ef43bd7a014f9f979781d11a3062ac",
      "value": "100%"
     }
    },
    "1b52cc236ed44e6c821b23c2814f4643": {
     "model_module": "@jupyter-widgets/controls",
     "model_module_version": "1.5.0",
     "model_name": "DescriptionStyleModel",
     "state": {
      "_model_module": "@jupyter-widgets/controls",
      "_model_module_version": "1.5.0",
      "_model_name": "DescriptionStyleModel",
      "_view_count": null,
      "_view_module": "@jupyter-widgets/base",
      "_view_module_version": "1.2.0",
      "_view_name": "StyleView",
      "description_width": ""
     }
    },
    "1bdbdf7ebb5442cb8bd2f9622f9a2832": {
     "model_module": "@jupyter-widgets/controls",
     "model_module_version": "1.5.0",
     "model_name": "HTMLModel",
     "state": {
      "_dom_classes": [],
      "_model_module": "@jupyter-widgets/controls",
      "_model_module_version": "1.5.0",
      "_model_name": "HTMLModel",
      "_view_count": null,
      "_view_module": "@jupyter-widgets/controls",
      "_view_module_version": "1.5.0",
      "_view_name": "HTMLView",
      "description": "",
      "description_tooltip": null,
      "layout": "IPY_MODEL_3838de1c8b724bed9bed83a3c0b67eff",
      "placeholder": "​",
      "style": "IPY_MODEL_c7e509d2cfb64ae1afedafe7b3d04873",
      "value": " 12/12 [00:34&lt;00:00,  2.79s/it]"
     }
    },
    "1cbd52f23dd246b7bfbbb4564a4dc699": {
     "model_module": "@jupyter-widgets/base",
     "model_module_version": "1.2.0",
     "model_name": "LayoutModel",
     "state": {
      "_model_module": "@jupyter-widgets/base",
      "_model_module_version": "1.2.0",
      "_model_name": "LayoutModel",
      "_view_count": null,
      "_view_module": "@jupyter-widgets/base",
      "_view_module_version": "1.2.0",
      "_view_name": "LayoutView",
      "align_content": null,
      "align_items": null,
      "align_self": null,
      "border": null,
      "bottom": null,
      "display": null,
      "flex": null,
      "flex_flow": null,
      "grid_area": null,
      "grid_auto_columns": null,
      "grid_auto_flow": null,
      "grid_auto_rows": null,
      "grid_column": null,
      "grid_gap": null,
      "grid_row": null,
      "grid_template_areas": null,
      "grid_template_columns": null,
      "grid_template_rows": null,
      "height": null,
      "justify_content": null,
      "justify_items": null,
      "left": null,
      "margin": null,
      "max_height": null,
      "max_width": null,
      "min_height": null,
      "min_width": null,
      "object_fit": null,
      "object_position": null,
      "order": null,
      "overflow": null,
      "overflow_x": null,
      "overflow_y": null,
      "padding": null,
      "right": null,
      "top": null,
      "visibility": null,
      "width": null
     }
    },
    "22c5bea4a556498392341990f1bddf50": {
     "model_module": "@jupyter-widgets/base",
     "model_module_version": "1.2.0",
     "model_name": "LayoutModel",
     "state": {
      "_model_module": "@jupyter-widgets/base",
      "_model_module_version": "1.2.0",
      "_model_name": "LayoutModel",
      "_view_count": null,
      "_view_module": "@jupyter-widgets/base",
      "_view_module_version": "1.2.0",
      "_view_name": "LayoutView",
      "align_content": null,
      "align_items": null,
      "align_self": null,
      "border": null,
      "bottom": null,
      "display": null,
      "flex": null,
      "flex_flow": null,
      "grid_area": null,
      "grid_auto_columns": null,
      "grid_auto_flow": null,
      "grid_auto_rows": null,
      "grid_column": null,
      "grid_gap": null,
      "grid_row": null,
      "grid_template_areas": null,
      "grid_template_columns": null,
      "grid_template_rows": null,
      "height": null,
      "justify_content": null,
      "justify_items": null,
      "left": null,
      "margin": null,
      "max_height": null,
      "max_width": null,
      "min_height": null,
      "min_width": null,
      "object_fit": null,
      "object_position": null,
      "order": null,
      "overflow": null,
      "overflow_x": null,
      "overflow_y": null,
      "padding": null,
      "right": null,
      "top": null,
      "visibility": null,
      "width": null
     }
    },
    "27adf180e59e4c079d4bc8fbaa7eaf5d": {
     "model_module": "@jupyter-widgets/base",
     "model_module_version": "1.2.0",
     "model_name": "LayoutModel",
     "state": {
      "_model_module": "@jupyter-widgets/base",
      "_model_module_version": "1.2.0",
      "_model_name": "LayoutModel",
      "_view_count": null,
      "_view_module": "@jupyter-widgets/base",
      "_view_module_version": "1.2.0",
      "_view_name": "LayoutView",
      "align_content": null,
      "align_items": null,
      "align_self": null,
      "border": null,
      "bottom": null,
      "display": null,
      "flex": null,
      "flex_flow": null,
      "grid_area": null,
      "grid_auto_columns": null,
      "grid_auto_flow": null,
      "grid_auto_rows": null,
      "grid_column": null,
      "grid_gap": null,
      "grid_row": null,
      "grid_template_areas": null,
      "grid_template_columns": null,
      "grid_template_rows": null,
      "height": null,
      "justify_content": null,
      "justify_items": null,
      "left": null,
      "margin": null,
      "max_height": null,
      "max_width": null,
      "min_height": null,
      "min_width": null,
      "object_fit": null,
      "object_position": null,
      "order": null,
      "overflow": null,
      "overflow_x": null,
      "overflow_y": null,
      "padding": null,
      "right": null,
      "top": null,
      "visibility": null,
      "width": null
     }
    },
    "2959d2dfb68747f38cce5a244e17b154": {
     "model_module": "@jupyter-widgets/controls",
     "model_module_version": "1.5.0",
     "model_name": "HBoxModel",
     "state": {
      "_dom_classes": [],
      "_model_module": "@jupyter-widgets/controls",
      "_model_module_version": "1.5.0",
      "_model_name": "HBoxModel",
      "_view_count": null,
      "_view_module": "@jupyter-widgets/controls",
      "_view_module_version": "1.5.0",
      "_view_name": "HBoxView",
      "box_style": "",
      "children": [
       "IPY_MODEL_f4756de34c544da4a4c9ae031135989d",
       "IPY_MODEL_88b2c449a9bc44bd991d0c60e1283f90",
       "IPY_MODEL_f900bbdd386f48adbbcf787b8f562fe7"
      ],
      "layout": "IPY_MODEL_79816d79e0fb4e4f89b20dd5d61adf4e"
     }
    },
    "30fe506593cf4a1da92264486ae3509f": {
     "model_module": "@jupyter-widgets/controls",
     "model_module_version": "1.5.0",
     "model_name": "HTMLModel",
     "state": {
      "_dom_classes": [],
      "_model_module": "@jupyter-widgets/controls",
      "_model_module_version": "1.5.0",
      "_model_name": "HTMLModel",
      "_view_count": null,
      "_view_module": "@jupyter-widgets/controls",
      "_view_module_version": "1.5.0",
      "_view_name": "HTMLView",
      "description": "",
      "description_tooltip": null,
      "layout": "IPY_MODEL_ac86f8497bee4ad48fb07e4accc29b49",
      "placeholder": "​",
      "style": "IPY_MODEL_9d69bd25ad6b4b6b9c3affe2e36561e5",
      "value": " 12/12 [00:36&lt;00:00,  2.77s/it]"
     }
    },
    "3838de1c8b724bed9bed83a3c0b67eff": {
     "model_module": "@jupyter-widgets/base",
     "model_module_version": "1.2.0",
     "model_name": "LayoutModel",
     "state": {
      "_model_module": "@jupyter-widgets/base",
      "_model_module_version": "1.2.0",
      "_model_name": "LayoutModel",
      "_view_count": null,
      "_view_module": "@jupyter-widgets/base",
      "_view_module_version": "1.2.0",
      "_view_name": "LayoutView",
      "align_content": null,
      "align_items": null,
      "align_self": null,
      "border": null,
      "bottom": null,
      "display": null,
      "flex": null,
      "flex_flow": null,
      "grid_area": null,
      "grid_auto_columns": null,
      "grid_auto_flow": null,
      "grid_auto_rows": null,
      "grid_column": null,
      "grid_gap": null,
      "grid_row": null,
      "grid_template_areas": null,
      "grid_template_columns": null,
      "grid_template_rows": null,
      "height": null,
      "justify_content": null,
      "justify_items": null,
      "left": null,
      "margin": null,
      "max_height": null,
      "max_width": null,
      "min_height": null,
      "min_width": null,
      "object_fit": null,
      "object_position": null,
      "order": null,
      "overflow": null,
      "overflow_x": null,
      "overflow_y": null,
      "padding": null,
      "right": null,
      "top": null,
      "visibility": null,
      "width": null
     }
    },
    "3b4ed27585aa4e199d32cac88e67c367": {
     "model_module": "@jupyter-widgets/controls",
     "model_module_version": "1.5.0",
     "model_name": "ProgressStyleModel",
     "state": {
      "_model_module": "@jupyter-widgets/controls",
      "_model_module_version": "1.5.0",
      "_model_name": "ProgressStyleModel",
      "_view_count": null,
      "_view_module": "@jupyter-widgets/base",
      "_view_module_version": "1.2.0",
      "_view_name": "StyleView",
      "bar_color": null,
      "description_width": ""
     }
    },
    "3bb7e410f6184ef0baccc665867e6d63": {
     "model_module": "@jupyter-widgets/base",
     "model_module_version": "1.2.0",
     "model_name": "LayoutModel",
     "state": {
      "_model_module": "@jupyter-widgets/base",
      "_model_module_version": "1.2.0",
      "_model_name": "LayoutModel",
      "_view_count": null,
      "_view_module": "@jupyter-widgets/base",
      "_view_module_version": "1.2.0",
      "_view_name": "LayoutView",
      "align_content": null,
      "align_items": null,
      "align_self": null,
      "border": null,
      "bottom": null,
      "display": null,
      "flex": null,
      "flex_flow": null,
      "grid_area": null,
      "grid_auto_columns": null,
      "grid_auto_flow": null,
      "grid_auto_rows": null,
      "grid_column": null,
      "grid_gap": null,
      "grid_row": null,
      "grid_template_areas": null,
      "grid_template_columns": null,
      "grid_template_rows": null,
      "height": null,
      "justify_content": null,
      "justify_items": null,
      "left": null,
      "margin": null,
      "max_height": null,
      "max_width": null,
      "min_height": null,
      "min_width": null,
      "object_fit": null,
      "object_position": null,
      "order": null,
      "overflow": null,
      "overflow_x": null,
      "overflow_y": null,
      "padding": null,
      "right": null,
      "top": null,
      "visibility": null,
      "width": null
     }
    },
    "3c0352e46c09476ea2ef43abd351d6f4": {
     "model_module": "@jupyter-widgets/base",
     "model_module_version": "1.2.0",
     "model_name": "LayoutModel",
     "state": {
      "_model_module": "@jupyter-widgets/base",
      "_model_module_version": "1.2.0",
      "_model_name": "LayoutModel",
      "_view_count": null,
      "_view_module": "@jupyter-widgets/base",
      "_view_module_version": "1.2.0",
      "_view_name": "LayoutView",
      "align_content": null,
      "align_items": null,
      "align_self": null,
      "border": null,
      "bottom": null,
      "display": null,
      "flex": null,
      "flex_flow": null,
      "grid_area": null,
      "grid_auto_columns": null,
      "grid_auto_flow": null,
      "grid_auto_rows": null,
      "grid_column": null,
      "grid_gap": null,
      "grid_row": null,
      "grid_template_areas": null,
      "grid_template_columns": null,
      "grid_template_rows": null,
      "height": null,
      "justify_content": null,
      "justify_items": null,
      "left": null,
      "margin": null,
      "max_height": null,
      "max_width": null,
      "min_height": null,
      "min_width": null,
      "object_fit": null,
      "object_position": null,
      "order": null,
      "overflow": null,
      "overflow_x": null,
      "overflow_y": null,
      "padding": null,
      "right": null,
      "top": null,
      "visibility": null,
      "width": null
     }
    },
    "3c5bb3a4e5aa4aa1b3e76448e5f9e560": {
     "model_module": "@jupyter-widgets/base",
     "model_module_version": "1.2.0",
     "model_name": "LayoutModel",
     "state": {
      "_model_module": "@jupyter-widgets/base",
      "_model_module_version": "1.2.0",
      "_model_name": "LayoutModel",
      "_view_count": null,
      "_view_module": "@jupyter-widgets/base",
      "_view_module_version": "1.2.0",
      "_view_name": "LayoutView",
      "align_content": null,
      "align_items": null,
      "align_self": null,
      "border": null,
      "bottom": null,
      "display": null,
      "flex": null,
      "flex_flow": null,
      "grid_area": null,
      "grid_auto_columns": null,
      "grid_auto_flow": null,
      "grid_auto_rows": null,
      "grid_column": null,
      "grid_gap": null,
      "grid_row": null,
      "grid_template_areas": null,
      "grid_template_columns": null,
      "grid_template_rows": null,
      "height": null,
      "justify_content": null,
      "justify_items": null,
      "left": null,
      "margin": null,
      "max_height": null,
      "max_width": null,
      "min_height": null,
      "min_width": null,
      "object_fit": null,
      "object_position": null,
      "order": null,
      "overflow": null,
      "overflow_x": null,
      "overflow_y": null,
      "padding": null,
      "right": null,
      "top": null,
      "visibility": null,
      "width": null
     }
    },
    "3fc1ee3608474477bce51945e37c4792": {
     "model_module": "@jupyter-widgets/controls",
     "model_module_version": "1.5.0",
     "model_name": "HBoxModel",
     "state": {
      "_dom_classes": [],
      "_model_module": "@jupyter-widgets/controls",
      "_model_module_version": "1.5.0",
      "_model_name": "HBoxModel",
      "_view_count": null,
      "_view_module": "@jupyter-widgets/controls",
      "_view_module_version": "1.5.0",
      "_view_name": "HBoxView",
      "box_style": "",
      "children": [
       "IPY_MODEL_0f74b0d63c9c487ea293af69a90b1747",
       "IPY_MODEL_7320785b4cd34588bc1b5ee1d544d5e0",
       "IPY_MODEL_30fe506593cf4a1da92264486ae3509f"
      ],
      "layout": "IPY_MODEL_50f25c433c4e4634abfbf28afa3cf956"
     }
    },
    "464e8592787d40c5891a9db6abb9c45d": {
     "model_module": "@jupyter-widgets/controls",
     "model_module_version": "1.5.0",
     "model_name": "HTMLModel",
     "state": {
      "_dom_classes": [],
      "_model_module": "@jupyter-widgets/controls",
      "_model_module_version": "1.5.0",
      "_model_name": "HTMLModel",
      "_view_count": null,
      "_view_module": "@jupyter-widgets/controls",
      "_view_module_version": "1.5.0",
      "_view_name": "HTMLView",
      "description": "",
      "description_tooltip": null,
      "layout": "IPY_MODEL_6ec88c7285af4d298e7f5ae8b09f0c56",
      "placeholder": "​",
      "style": "IPY_MODEL_fd899b82682c42c1ac38ed690e9b2cd1",
      "value": " 12/12 [00:34&lt;00:00,  2.76s/it]"
     }
    },
    "49ef43bd7a014f9f979781d11a3062ac": {
     "model_module": "@jupyter-widgets/controls",
     "model_module_version": "1.5.0",
     "model_name": "DescriptionStyleModel",
     "state": {
      "_model_module": "@jupyter-widgets/controls",
      "_model_module_version": "1.5.0",
      "_model_name": "DescriptionStyleModel",
      "_view_count": null,
      "_view_module": "@jupyter-widgets/base",
      "_view_module_version": "1.2.0",
      "_view_name": "StyleView",
      "description_width": ""
     }
    },
    "50f25c433c4e4634abfbf28afa3cf956": {
     "model_module": "@jupyter-widgets/base",
     "model_module_version": "1.2.0",
     "model_name": "LayoutModel",
     "state": {
      "_model_module": "@jupyter-widgets/base",
      "_model_module_version": "1.2.0",
      "_model_name": "LayoutModel",
      "_view_count": null,
      "_view_module": "@jupyter-widgets/base",
      "_view_module_version": "1.2.0",
      "_view_name": "LayoutView",
      "align_content": null,
      "align_items": null,
      "align_self": null,
      "border": null,
      "bottom": null,
      "display": null,
      "flex": null,
      "flex_flow": null,
      "grid_area": null,
      "grid_auto_columns": null,
      "grid_auto_flow": null,
      "grid_auto_rows": null,
      "grid_column": null,
      "grid_gap": null,
      "grid_row": null,
      "grid_template_areas": null,
      "grid_template_columns": null,
      "grid_template_rows": null,
      "height": null,
      "justify_content": null,
      "justify_items": null,
      "left": null,
      "margin": null,
      "max_height": null,
      "max_width": null,
      "min_height": null,
      "min_width": null,
      "object_fit": null,
      "object_position": null,
      "order": null,
      "overflow": null,
      "overflow_x": null,
      "overflow_y": null,
      "padding": null,
      "right": null,
      "top": null,
      "visibility": null,
      "width": null
     }
    },
    "55a885b1d26b47698a0a53ef8b49afee": {
     "model_module": "@jupyter-widgets/controls",
     "model_module_version": "1.5.0",
     "model_name": "HBoxModel",
     "state": {
      "_dom_classes": [],
      "_model_module": "@jupyter-widgets/controls",
      "_model_module_version": "1.5.0",
      "_model_name": "HBoxModel",
      "_view_count": null,
      "_view_module": "@jupyter-widgets/controls",
      "_view_module_version": "1.5.0",
      "_view_name": "HBoxView",
      "box_style": "",
      "children": [
       "IPY_MODEL_ba7dc668d95a44d68b98864f5d9e1a4a",
       "IPY_MODEL_e8f4f34f96bf454fa4dec169014c5aa3",
       "IPY_MODEL_f29b64433b0741d7bda1176701effc2f"
      ],
      "layout": "IPY_MODEL_27adf180e59e4c079d4bc8fbaa7eaf5d"
     }
    },
    "57fa12892b2e4600b06d624795257b4f": {
     "model_module": "@jupyter-widgets/base",
     "model_module_version": "1.2.0",
     "model_name": "LayoutModel",
     "state": {
      "_model_module": "@jupyter-widgets/base",
      "_model_module_version": "1.2.0",
      "_model_name": "LayoutModel",
      "_view_count": null,
      "_view_module": "@jupyter-widgets/base",
      "_view_module_version": "1.2.0",
      "_view_name": "LayoutView",
      "align_content": null,
      "align_items": null,
      "align_self": null,
      "border": null,
      "bottom": null,
      "display": null,
      "flex": null,
      "flex_flow": null,
      "grid_area": null,
      "grid_auto_columns": null,
      "grid_auto_flow": null,
      "grid_auto_rows": null,
      "grid_column": null,
      "grid_gap": null,
      "grid_row": null,
      "grid_template_areas": null,
      "grid_template_columns": null,
      "grid_template_rows": null,
      "height": null,
      "justify_content": null,
      "justify_items": null,
      "left": null,
      "margin": null,
      "max_height": null,
      "max_width": null,
      "min_height": null,
      "min_width": null,
      "object_fit": null,
      "object_position": null,
      "order": null,
      "overflow": null,
      "overflow_x": null,
      "overflow_y": null,
      "padding": null,
      "right": null,
      "top": null,
      "visibility": null,
      "width": null
     }
    },
    "5d8cb1b832ea4309a3a1028d6f1fc737": {
     "model_module": "@jupyter-widgets/base",
     "model_module_version": "1.2.0",
     "model_name": "LayoutModel",
     "state": {
      "_model_module": "@jupyter-widgets/base",
      "_model_module_version": "1.2.0",
      "_model_name": "LayoutModel",
      "_view_count": null,
      "_view_module": "@jupyter-widgets/base",
      "_view_module_version": "1.2.0",
      "_view_name": "LayoutView",
      "align_content": null,
      "align_items": null,
      "align_self": null,
      "border": null,
      "bottom": null,
      "display": null,
      "flex": null,
      "flex_flow": null,
      "grid_area": null,
      "grid_auto_columns": null,
      "grid_auto_flow": null,
      "grid_auto_rows": null,
      "grid_column": null,
      "grid_gap": null,
      "grid_row": null,
      "grid_template_areas": null,
      "grid_template_columns": null,
      "grid_template_rows": null,
      "height": null,
      "justify_content": null,
      "justify_items": null,
      "left": null,
      "margin": null,
      "max_height": null,
      "max_width": null,
      "min_height": null,
      "min_width": null,
      "object_fit": null,
      "object_position": null,
      "order": null,
      "overflow": null,
      "overflow_x": null,
      "overflow_y": null,
      "padding": null,
      "right": null,
      "top": null,
      "visibility": null,
      "width": null
     }
    },
    "5e19e8d1c548498d956703eb97f0880c": {
     "model_module": "@jupyter-widgets/base",
     "model_module_version": "1.2.0",
     "model_name": "LayoutModel",
     "state": {
      "_model_module": "@jupyter-widgets/base",
      "_model_module_version": "1.2.0",
      "_model_name": "LayoutModel",
      "_view_count": null,
      "_view_module": "@jupyter-widgets/base",
      "_view_module_version": "1.2.0",
      "_view_name": "LayoutView",
      "align_content": null,
      "align_items": null,
      "align_self": null,
      "border": null,
      "bottom": null,
      "display": null,
      "flex": null,
      "flex_flow": null,
      "grid_area": null,
      "grid_auto_columns": null,
      "grid_auto_flow": null,
      "grid_auto_rows": null,
      "grid_column": null,
      "grid_gap": null,
      "grid_row": null,
      "grid_template_areas": null,
      "grid_template_columns": null,
      "grid_template_rows": null,
      "height": null,
      "justify_content": null,
      "justify_items": null,
      "left": null,
      "margin": null,
      "max_height": null,
      "max_width": null,
      "min_height": null,
      "min_width": null,
      "object_fit": null,
      "object_position": null,
      "order": null,
      "overflow": null,
      "overflow_x": null,
      "overflow_y": null,
      "padding": null,
      "right": null,
      "top": null,
      "visibility": null,
      "width": null
     }
    },
    "5ed23625c1e84e43b88f5031ff263d81": {
     "model_module": "@jupyter-widgets/controls",
     "model_module_version": "1.5.0",
     "model_name": "HBoxModel",
     "state": {
      "_dom_classes": [],
      "_model_module": "@jupyter-widgets/controls",
      "_model_module_version": "1.5.0",
      "_model_name": "HBoxModel",
      "_view_count": null,
      "_view_module": "@jupyter-widgets/controls",
      "_view_module_version": "1.5.0",
      "_view_name": "HBoxView",
      "box_style": "",
      "children": [
       "IPY_MODEL_ad9b12bb2b7843e6b3ce59d6ad9f5d3e",
       "IPY_MODEL_a62fa227255f47b492c8b11a97d7a00b",
       "IPY_MODEL_a9422f0b076c4f3a82f01ffb1d1f2ed2"
      ],
      "layout": "IPY_MODEL_e9b2837b6696462184005106cdc7f07f"
     }
    },
    "63f5898d03eb4c3b8d51d581acf2ffe4": {
     "model_module": "@jupyter-widgets/base",
     "model_module_version": "1.2.0",
     "model_name": "LayoutModel",
     "state": {
      "_model_module": "@jupyter-widgets/base",
      "_model_module_version": "1.2.0",
      "_model_name": "LayoutModel",
      "_view_count": null,
      "_view_module": "@jupyter-widgets/base",
      "_view_module_version": "1.2.0",
      "_view_name": "LayoutView",
      "align_content": null,
      "align_items": null,
      "align_self": null,
      "border": null,
      "bottom": null,
      "display": null,
      "flex": null,
      "flex_flow": null,
      "grid_area": null,
      "grid_auto_columns": null,
      "grid_auto_flow": null,
      "grid_auto_rows": null,
      "grid_column": null,
      "grid_gap": null,
      "grid_row": null,
      "grid_template_areas": null,
      "grid_template_columns": null,
      "grid_template_rows": null,
      "height": null,
      "justify_content": null,
      "justify_items": null,
      "left": null,
      "margin": null,
      "max_height": null,
      "max_width": null,
      "min_height": null,
      "min_width": null,
      "object_fit": null,
      "object_position": null,
      "order": null,
      "overflow": null,
      "overflow_x": null,
      "overflow_y": null,
      "padding": null,
      "right": null,
      "top": null,
      "visibility": null,
      "width": null
     }
    },
    "6486d55dbcc04f0ca52fee1968bc1a17": {
     "model_module": "@jupyter-widgets/controls",
     "model_module_version": "1.5.0",
     "model_name": "ProgressStyleModel",
     "state": {
      "_model_module": "@jupyter-widgets/controls",
      "_model_module_version": "1.5.0",
      "_model_name": "ProgressStyleModel",
      "_view_count": null,
      "_view_module": "@jupyter-widgets/base",
      "_view_module_version": "1.2.0",
      "_view_name": "StyleView",
      "bar_color": null,
      "description_width": ""
     }
    },
    "65a6235ae29c41a59002080fd0d6f103": {
     "model_module": "@jupyter-widgets/controls",
     "model_module_version": "1.5.0",
     "model_name": "ProgressStyleModel",
     "state": {
      "_model_module": "@jupyter-widgets/controls",
      "_model_module_version": "1.5.0",
      "_model_name": "ProgressStyleModel",
      "_view_count": null,
      "_view_module": "@jupyter-widgets/base",
      "_view_module_version": "1.2.0",
      "_view_name": "StyleView",
      "bar_color": null,
      "description_width": ""
     }
    },
    "6be05c8105b242c5a49d04fba80f6eb9": {
     "model_module": "@jupyter-widgets/base",
     "model_module_version": "1.2.0",
     "model_name": "LayoutModel",
     "state": {
      "_model_module": "@jupyter-widgets/base",
      "_model_module_version": "1.2.0",
      "_model_name": "LayoutModel",
      "_view_count": null,
      "_view_module": "@jupyter-widgets/base",
      "_view_module_version": "1.2.0",
      "_view_name": "LayoutView",
      "align_content": null,
      "align_items": null,
      "align_self": null,
      "border": null,
      "bottom": null,
      "display": null,
      "flex": null,
      "flex_flow": null,
      "grid_area": null,
      "grid_auto_columns": null,
      "grid_auto_flow": null,
      "grid_auto_rows": null,
      "grid_column": null,
      "grid_gap": null,
      "grid_row": null,
      "grid_template_areas": null,
      "grid_template_columns": null,
      "grid_template_rows": null,
      "height": null,
      "justify_content": null,
      "justify_items": null,
      "left": null,
      "margin": null,
      "max_height": null,
      "max_width": null,
      "min_height": null,
      "min_width": null,
      "object_fit": null,
      "object_position": null,
      "order": null,
      "overflow": null,
      "overflow_x": null,
      "overflow_y": null,
      "padding": null,
      "right": null,
      "top": null,
      "visibility": null,
      "width": null
     }
    },
    "6e8a0d9aab0644639554c67c253dde1d": {
     "model_module": "@jupyter-widgets/base",
     "model_module_version": "1.2.0",
     "model_name": "LayoutModel",
     "state": {
      "_model_module": "@jupyter-widgets/base",
      "_model_module_version": "1.2.0",
      "_model_name": "LayoutModel",
      "_view_count": null,
      "_view_module": "@jupyter-widgets/base",
      "_view_module_version": "1.2.0",
      "_view_name": "LayoutView",
      "align_content": null,
      "align_items": null,
      "align_self": null,
      "border": null,
      "bottom": null,
      "display": null,
      "flex": null,
      "flex_flow": null,
      "grid_area": null,
      "grid_auto_columns": null,
      "grid_auto_flow": null,
      "grid_auto_rows": null,
      "grid_column": null,
      "grid_gap": null,
      "grid_row": null,
      "grid_template_areas": null,
      "grid_template_columns": null,
      "grid_template_rows": null,
      "height": null,
      "justify_content": null,
      "justify_items": null,
      "left": null,
      "margin": null,
      "max_height": null,
      "max_width": null,
      "min_height": null,
      "min_width": null,
      "object_fit": null,
      "object_position": null,
      "order": null,
      "overflow": null,
      "overflow_x": null,
      "overflow_y": null,
      "padding": null,
      "right": null,
      "top": null,
      "visibility": null,
      "width": null
     }
    },
    "6ec88c7285af4d298e7f5ae8b09f0c56": {
     "model_module": "@jupyter-widgets/base",
     "model_module_version": "1.2.0",
     "model_name": "LayoutModel",
     "state": {
      "_model_module": "@jupyter-widgets/base",
      "_model_module_version": "1.2.0",
      "_model_name": "LayoutModel",
      "_view_count": null,
      "_view_module": "@jupyter-widgets/base",
      "_view_module_version": "1.2.0",
      "_view_name": "LayoutView",
      "align_content": null,
      "align_items": null,
      "align_self": null,
      "border": null,
      "bottom": null,
      "display": null,
      "flex": null,
      "flex_flow": null,
      "grid_area": null,
      "grid_auto_columns": null,
      "grid_auto_flow": null,
      "grid_auto_rows": null,
      "grid_column": null,
      "grid_gap": null,
      "grid_row": null,
      "grid_template_areas": null,
      "grid_template_columns": null,
      "grid_template_rows": null,
      "height": null,
      "justify_content": null,
      "justify_items": null,
      "left": null,
      "margin": null,
      "max_height": null,
      "max_width": null,
      "min_height": null,
      "min_width": null,
      "object_fit": null,
      "object_position": null,
      "order": null,
      "overflow": null,
      "overflow_x": null,
      "overflow_y": null,
      "padding": null,
      "right": null,
      "top": null,
      "visibility": null,
      "width": null
     }
    },
    "70a5931d9f274b1abf25b22baca4956d": {
     "model_module": "@jupyter-widgets/controls",
     "model_module_version": "1.5.0",
     "model_name": "DescriptionStyleModel",
     "state": {
      "_model_module": "@jupyter-widgets/controls",
      "_model_module_version": "1.5.0",
      "_model_name": "DescriptionStyleModel",
      "_view_count": null,
      "_view_module": "@jupyter-widgets/base",
      "_view_module_version": "1.2.0",
      "_view_name": "StyleView",
      "description_width": ""
     }
    },
    "7302dd953ea241ad87a689308a0cc198": {
     "model_module": "@jupyter-widgets/base",
     "model_module_version": "1.2.0",
     "model_name": "LayoutModel",
     "state": {
      "_model_module": "@jupyter-widgets/base",
      "_model_module_version": "1.2.0",
      "_model_name": "LayoutModel",
      "_view_count": null,
      "_view_module": "@jupyter-widgets/base",
      "_view_module_version": "1.2.0",
      "_view_name": "LayoutView",
      "align_content": null,
      "align_items": null,
      "align_self": null,
      "border": null,
      "bottom": null,
      "display": null,
      "flex": null,
      "flex_flow": null,
      "grid_area": null,
      "grid_auto_columns": null,
      "grid_auto_flow": null,
      "grid_auto_rows": null,
      "grid_column": null,
      "grid_gap": null,
      "grid_row": null,
      "grid_template_areas": null,
      "grid_template_columns": null,
      "grid_template_rows": null,
      "height": null,
      "justify_content": null,
      "justify_items": null,
      "left": null,
      "margin": null,
      "max_height": null,
      "max_width": null,
      "min_height": null,
      "min_width": null,
      "object_fit": null,
      "object_position": null,
      "order": null,
      "overflow": null,
      "overflow_x": null,
      "overflow_y": null,
      "padding": null,
      "right": null,
      "top": null,
      "visibility": null,
      "width": null
     }
    },
    "7320785b4cd34588bc1b5ee1d544d5e0": {
     "model_module": "@jupyter-widgets/controls",
     "model_module_version": "1.5.0",
     "model_name": "FloatProgressModel",
     "state": {
      "_dom_classes": [],
      "_model_module": "@jupyter-widgets/controls",
      "_model_module_version": "1.5.0",
      "_model_name": "FloatProgressModel",
      "_view_count": null,
      "_view_module": "@jupyter-widgets/controls",
      "_view_module_version": "1.5.0",
      "_view_name": "ProgressView",
      "bar_style": "success",
      "description": "",
      "description_tooltip": null,
      "layout": "IPY_MODEL_b88e2785b82f48618a71d7c60b40b4d8",
      "max": 12,
      "min": 0,
      "orientation": "horizontal",
      "style": "IPY_MODEL_04bb1d8c0a8a49728a2682868ece4c98",
      "value": 12
     }
    },
    "79816d79e0fb4e4f89b20dd5d61adf4e": {
     "model_module": "@jupyter-widgets/base",
     "model_module_version": "1.2.0",
     "model_name": "LayoutModel",
     "state": {
      "_model_module": "@jupyter-widgets/base",
      "_model_module_version": "1.2.0",
      "_model_name": "LayoutModel",
      "_view_count": null,
      "_view_module": "@jupyter-widgets/base",
      "_view_module_version": "1.2.0",
      "_view_name": "LayoutView",
      "align_content": null,
      "align_items": null,
      "align_self": null,
      "border": null,
      "bottom": null,
      "display": null,
      "flex": null,
      "flex_flow": null,
      "grid_area": null,
      "grid_auto_columns": null,
      "grid_auto_flow": null,
      "grid_auto_rows": null,
      "grid_column": null,
      "grid_gap": null,
      "grid_row": null,
      "grid_template_areas": null,
      "grid_template_columns": null,
      "grid_template_rows": null,
      "height": null,
      "justify_content": null,
      "justify_items": null,
      "left": null,
      "margin": null,
      "max_height": null,
      "max_width": null,
      "min_height": null,
      "min_width": null,
      "object_fit": null,
      "object_position": null,
      "order": null,
      "overflow": null,
      "overflow_x": null,
      "overflow_y": null,
      "padding": null,
      "right": null,
      "top": null,
      "visibility": null,
      "width": null
     }
    },
    "7af21eb1661743d78e3d92f243ac0e8a": {
     "model_module": "@jupyter-widgets/controls",
     "model_module_version": "1.5.0",
     "model_name": "HBoxModel",
     "state": {
      "_dom_classes": [],
      "_model_module": "@jupyter-widgets/controls",
      "_model_module_version": "1.5.0",
      "_model_name": "HBoxModel",
      "_view_count": null,
      "_view_module": "@jupyter-widgets/controls",
      "_view_module_version": "1.5.0",
      "_view_name": "HBoxView",
      "box_style": "",
      "children": [
       "IPY_MODEL_19ccb10644aa4cafa3c082e25ba4ef02",
       "IPY_MODEL_e15b6e20d21343d9b6d3807ff876d2c4",
       "IPY_MODEL_464e8592787d40c5891a9db6abb9c45d"
      ],
      "layout": "IPY_MODEL_87dda290a33e47dd832ca98669d6a69d"
     }
    },
    "7bc7e04e7b574a2baa8fbc86e223c253": {
     "model_module": "@jupyter-widgets/base",
     "model_module_version": "1.2.0",
     "model_name": "LayoutModel",
     "state": {
      "_model_module": "@jupyter-widgets/base",
      "_model_module_version": "1.2.0",
      "_model_name": "LayoutModel",
      "_view_count": null,
      "_view_module": "@jupyter-widgets/base",
      "_view_module_version": "1.2.0",
      "_view_name": "LayoutView",
      "align_content": null,
      "align_items": null,
      "align_self": null,
      "border": null,
      "bottom": null,
      "display": null,
      "flex": null,
      "flex_flow": null,
      "grid_area": null,
      "grid_auto_columns": null,
      "grid_auto_flow": null,
      "grid_auto_rows": null,
      "grid_column": null,
      "grid_gap": null,
      "grid_row": null,
      "grid_template_areas": null,
      "grid_template_columns": null,
      "grid_template_rows": null,
      "height": null,
      "justify_content": null,
      "justify_items": null,
      "left": null,
      "margin": null,
      "max_height": null,
      "max_width": null,
      "min_height": null,
      "min_width": null,
      "object_fit": null,
      "object_position": null,
      "order": null,
      "overflow": null,
      "overflow_x": null,
      "overflow_y": null,
      "padding": null,
      "right": null,
      "top": null,
      "visibility": null,
      "width": null
     }
    },
    "7cd967b9619146f7a5e45f373e116c68": {
     "model_module": "@jupyter-widgets/controls",
     "model_module_version": "1.5.0",
     "model_name": "DescriptionStyleModel",
     "state": {
      "_model_module": "@jupyter-widgets/controls",
      "_model_module_version": "1.5.0",
      "_model_name": "DescriptionStyleModel",
      "_view_count": null,
      "_view_module": "@jupyter-widgets/base",
      "_view_module_version": "1.2.0",
      "_view_name": "StyleView",
      "description_width": ""
     }
    },
    "7df2ee82c1034df88e28e2b51f205ad0": {
     "model_module": "@jupyter-widgets/base",
     "model_module_version": "1.2.0",
     "model_name": "LayoutModel",
     "state": {
      "_model_module": "@jupyter-widgets/base",
      "_model_module_version": "1.2.0",
      "_model_name": "LayoutModel",
      "_view_count": null,
      "_view_module": "@jupyter-widgets/base",
      "_view_module_version": "1.2.0",
      "_view_name": "LayoutView",
      "align_content": null,
      "align_items": null,
      "align_self": null,
      "border": null,
      "bottom": null,
      "display": null,
      "flex": null,
      "flex_flow": null,
      "grid_area": null,
      "grid_auto_columns": null,
      "grid_auto_flow": null,
      "grid_auto_rows": null,
      "grid_column": null,
      "grid_gap": null,
      "grid_row": null,
      "grid_template_areas": null,
      "grid_template_columns": null,
      "grid_template_rows": null,
      "height": null,
      "justify_content": null,
      "justify_items": null,
      "left": null,
      "margin": null,
      "max_height": null,
      "max_width": null,
      "min_height": null,
      "min_width": null,
      "object_fit": null,
      "object_position": null,
      "order": null,
      "overflow": null,
      "overflow_x": null,
      "overflow_y": null,
      "padding": null,
      "right": null,
      "top": null,
      "visibility": null,
      "width": null
     }
    },
    "81159f662bdf42d0aae1e46b2cf26c78": {
     "model_module": "@jupyter-widgets/controls",
     "model_module_version": "1.5.0",
     "model_name": "HTMLModel",
     "state": {
      "_dom_classes": [],
      "_model_module": "@jupyter-widgets/controls",
      "_model_module_version": "1.5.0",
      "_model_name": "HTMLModel",
      "_view_count": null,
      "_view_module": "@jupyter-widgets/controls",
      "_view_module_version": "1.5.0",
      "_view_name": "HTMLView",
      "description": "",
      "description_tooltip": null,
      "layout": "IPY_MODEL_951276e0c9a34349a04d018237f13d78",
      "placeholder": "​",
      "style": "IPY_MODEL_d1feff0a052243a5b91580f4d40c1afa",
      "value": "100%"
     }
    },
    "8418dcde61734d988bb8261ac21ff70f": {
     "model_module": "@jupyter-widgets/controls",
     "model_module_version": "1.5.0",
     "model_name": "HBoxModel",
     "state": {
      "_dom_classes": [],
      "_model_module": "@jupyter-widgets/controls",
      "_model_module_version": "1.5.0",
      "_model_name": "HBoxModel",
      "_view_count": null,
      "_view_module": "@jupyter-widgets/controls",
      "_view_module_version": "1.5.0",
      "_view_name": "HBoxView",
      "box_style": "",
      "children": [
       "IPY_MODEL_da3943d9aa6b4a4f9501a9b1d7135535",
       "IPY_MODEL_a9900e40a4a64d348fc789c49cfec6c3",
       "IPY_MODEL_cd464c28602c4f5f805885fc4b4e8438"
      ],
      "layout": "IPY_MODEL_a095b0b1d39a44c4b1d6dfcded207f1b"
     }
    },
    "869640beb7134bf2b3cccb1a6cef4ed1": {
     "model_module": "@jupyter-widgets/controls",
     "model_module_version": "1.5.0",
     "model_name": "HTMLModel",
     "state": {
      "_dom_classes": [],
      "_model_module": "@jupyter-widgets/controls",
      "_model_module_version": "1.5.0",
      "_model_name": "HTMLModel",
      "_view_count": null,
      "_view_module": "@jupyter-widgets/controls",
      "_view_module_version": "1.5.0",
      "_view_name": "HTMLView",
      "description": "",
      "description_tooltip": null,
      "layout": "IPY_MODEL_1968c263f8cd46ac903fe0136e598d8a",
      "placeholder": "​",
      "style": "IPY_MODEL_1b52cc236ed44e6c821b23c2814f4643",
      "value": " 12/12 [00:35&lt;00:00,  2.75s/it]"
     }
    },
    "87dda290a33e47dd832ca98669d6a69d": {
     "model_module": "@jupyter-widgets/base",
     "model_module_version": "1.2.0",
     "model_name": "LayoutModel",
     "state": {
      "_model_module": "@jupyter-widgets/base",
      "_model_module_version": "1.2.0",
      "_model_name": "LayoutModel",
      "_view_count": null,
      "_view_module": "@jupyter-widgets/base",
      "_view_module_version": "1.2.0",
      "_view_name": "LayoutView",
      "align_content": null,
      "align_items": null,
      "align_self": null,
      "border": null,
      "bottom": null,
      "display": null,
      "flex": null,
      "flex_flow": null,
      "grid_area": null,
      "grid_auto_columns": null,
      "grid_auto_flow": null,
      "grid_auto_rows": null,
      "grid_column": null,
      "grid_gap": null,
      "grid_row": null,
      "grid_template_areas": null,
      "grid_template_columns": null,
      "grid_template_rows": null,
      "height": null,
      "justify_content": null,
      "justify_items": null,
      "left": null,
      "margin": null,
      "max_height": null,
      "max_width": null,
      "min_height": null,
      "min_width": null,
      "object_fit": null,
      "object_position": null,
      "order": null,
      "overflow": null,
      "overflow_x": null,
      "overflow_y": null,
      "padding": null,
      "right": null,
      "top": null,
      "visibility": null,
      "width": null
     }
    },
    "87fd885a39494c10b47ec52f06701973": {
     "model_module": "@jupyter-widgets/controls",
     "model_module_version": "1.5.0",
     "model_name": "HTMLModel",
     "state": {
      "_dom_classes": [],
      "_model_module": "@jupyter-widgets/controls",
      "_model_module_version": "1.5.0",
      "_model_name": "HTMLModel",
      "_view_count": null,
      "_view_module": "@jupyter-widgets/controls",
      "_view_module_version": "1.5.0",
      "_view_name": "HTMLView",
      "description": "",
      "description_tooltip": null,
      "layout": "IPY_MODEL_97f4fa4c796c4f2e83fcffa90d0d7e87",
      "placeholder": "​",
      "style": "IPY_MODEL_ebfd5fbe6720453ab0cfea024bdde8f5",
      "value": " 12/12 [00:35&lt;00:00,  2.68s/it]"
     }
    },
    "88b2c449a9bc44bd991d0c60e1283f90": {
     "model_module": "@jupyter-widgets/controls",
     "model_module_version": "1.5.0",
     "model_name": "FloatProgressModel",
     "state": {
      "_dom_classes": [],
      "_model_module": "@jupyter-widgets/controls",
      "_model_module_version": "1.5.0",
      "_model_name": "FloatProgressModel",
      "_view_count": null,
      "_view_module": "@jupyter-widgets/controls",
      "_view_module_version": "1.5.0",
      "_view_name": "ProgressView",
      "bar_style": "success",
      "description": "",
      "description_tooltip": null,
      "layout": "IPY_MODEL_57fa12892b2e4600b06d624795257b4f",
      "max": 12,
      "min": 0,
      "orientation": "horizontal",
      "style": "IPY_MODEL_3b4ed27585aa4e199d32cac88e67c367",
      "value": 12
     }
    },
    "8954bfba30e04d71ab5800d7714cb70b": {
     "model_module": "@jupyter-widgets/controls",
     "model_module_version": "1.5.0",
     "model_name": "DescriptionStyleModel",
     "state": {
      "_model_module": "@jupyter-widgets/controls",
      "_model_module_version": "1.5.0",
      "_model_name": "DescriptionStyleModel",
      "_view_count": null,
      "_view_module": "@jupyter-widgets/base",
      "_view_module_version": "1.2.0",
      "_view_name": "StyleView",
      "description_width": ""
     }
    },
    "8a2469d26a2c42e6bacf6531f0a07ed5": {
     "model_module": "@jupyter-widgets/controls",
     "model_module_version": "1.5.0",
     "model_name": "FloatProgressModel",
     "state": {
      "_dom_classes": [],
      "_model_module": "@jupyter-widgets/controls",
      "_model_module_version": "1.5.0",
      "_model_name": "FloatProgressModel",
      "_view_count": null,
      "_view_module": "@jupyter-widgets/controls",
      "_view_module_version": "1.5.0",
      "_view_name": "ProgressView",
      "bar_style": "success",
      "description": "",
      "description_tooltip": null,
      "layout": "IPY_MODEL_8ec7833c2c954e70bbe33b5374bfcd56",
      "max": 12,
      "min": 0,
      "orientation": "horizontal",
      "style": "IPY_MODEL_ced974e2973e4af39a0c9f8b0cca0c8e",
      "value": 12
     }
    },
    "8b21865108a04005a4fcc50e1d9fe0ad": {
     "model_module": "@jupyter-widgets/controls",
     "model_module_version": "1.5.0",
     "model_name": "ProgressStyleModel",
     "state": {
      "_model_module": "@jupyter-widgets/controls",
      "_model_module_version": "1.5.0",
      "_model_name": "ProgressStyleModel",
      "_view_count": null,
      "_view_module": "@jupyter-widgets/base",
      "_view_module_version": "1.2.0",
      "_view_name": "StyleView",
      "bar_color": null,
      "description_width": ""
     }
    },
    "8d6c78f96cef4384a28e88bf3e195fb2": {
     "model_module": "@jupyter-widgets/controls",
     "model_module_version": "1.5.0",
     "model_name": "DescriptionStyleModel",
     "state": {
      "_model_module": "@jupyter-widgets/controls",
      "_model_module_version": "1.5.0",
      "_model_name": "DescriptionStyleModel",
      "_view_count": null,
      "_view_module": "@jupyter-widgets/base",
      "_view_module_version": "1.2.0",
      "_view_name": "StyleView",
      "description_width": ""
     }
    },
    "8ec7833c2c954e70bbe33b5374bfcd56": {
     "model_module": "@jupyter-widgets/base",
     "model_module_version": "1.2.0",
     "model_name": "LayoutModel",
     "state": {
      "_model_module": "@jupyter-widgets/base",
      "_model_module_version": "1.2.0",
      "_model_name": "LayoutModel",
      "_view_count": null,
      "_view_module": "@jupyter-widgets/base",
      "_view_module_version": "1.2.0",
      "_view_name": "LayoutView",
      "align_content": null,
      "align_items": null,
      "align_self": null,
      "border": null,
      "bottom": null,
      "display": null,
      "flex": null,
      "flex_flow": null,
      "grid_area": null,
      "grid_auto_columns": null,
      "grid_auto_flow": null,
      "grid_auto_rows": null,
      "grid_column": null,
      "grid_gap": null,
      "grid_row": null,
      "grid_template_areas": null,
      "grid_template_columns": null,
      "grid_template_rows": null,
      "height": null,
      "justify_content": null,
      "justify_items": null,
      "left": null,
      "margin": null,
      "max_height": null,
      "max_width": null,
      "min_height": null,
      "min_width": null,
      "object_fit": null,
      "object_position": null,
      "order": null,
      "overflow": null,
      "overflow_x": null,
      "overflow_y": null,
      "padding": null,
      "right": null,
      "top": null,
      "visibility": null,
      "width": null
     }
    },
    "8f2d3d36b1764bbe9e725bc78a9928e0": {
     "model_module": "@jupyter-widgets/base",
     "model_module_version": "1.2.0",
     "model_name": "LayoutModel",
     "state": {
      "_model_module": "@jupyter-widgets/base",
      "_model_module_version": "1.2.0",
      "_model_name": "LayoutModel",
      "_view_count": null,
      "_view_module": "@jupyter-widgets/base",
      "_view_module_version": "1.2.0",
      "_view_name": "LayoutView",
      "align_content": null,
      "align_items": null,
      "align_self": null,
      "border": null,
      "bottom": null,
      "display": null,
      "flex": null,
      "flex_flow": null,
      "grid_area": null,
      "grid_auto_columns": null,
      "grid_auto_flow": null,
      "grid_auto_rows": null,
      "grid_column": null,
      "grid_gap": null,
      "grid_row": null,
      "grid_template_areas": null,
      "grid_template_columns": null,
      "grid_template_rows": null,
      "height": null,
      "justify_content": null,
      "justify_items": null,
      "left": null,
      "margin": null,
      "max_height": null,
      "max_width": null,
      "min_height": null,
      "min_width": null,
      "object_fit": null,
      "object_position": null,
      "order": null,
      "overflow": null,
      "overflow_x": null,
      "overflow_y": null,
      "padding": null,
      "right": null,
      "top": null,
      "visibility": null,
      "width": null
     }
    },
    "951276e0c9a34349a04d018237f13d78": {
     "model_module": "@jupyter-widgets/base",
     "model_module_version": "1.2.0",
     "model_name": "LayoutModel",
     "state": {
      "_model_module": "@jupyter-widgets/base",
      "_model_module_version": "1.2.0",
      "_model_name": "LayoutModel",
      "_view_count": null,
      "_view_module": "@jupyter-widgets/base",
      "_view_module_version": "1.2.0",
      "_view_name": "LayoutView",
      "align_content": null,
      "align_items": null,
      "align_self": null,
      "border": null,
      "bottom": null,
      "display": null,
      "flex": null,
      "flex_flow": null,
      "grid_area": null,
      "grid_auto_columns": null,
      "grid_auto_flow": null,
      "grid_auto_rows": null,
      "grid_column": null,
      "grid_gap": null,
      "grid_row": null,
      "grid_template_areas": null,
      "grid_template_columns": null,
      "grid_template_rows": null,
      "height": null,
      "justify_content": null,
      "justify_items": null,
      "left": null,
      "margin": null,
      "max_height": null,
      "max_width": null,
      "min_height": null,
      "min_width": null,
      "object_fit": null,
      "object_position": null,
      "order": null,
      "overflow": null,
      "overflow_x": null,
      "overflow_y": null,
      "padding": null,
      "right": null,
      "top": null,
      "visibility": null,
      "width": null
     }
    },
    "95eafac40d3747f08c9330cd382a3e0d": {
     "model_module": "@jupyter-widgets/base",
     "model_module_version": "1.2.0",
     "model_name": "LayoutModel",
     "state": {
      "_model_module": "@jupyter-widgets/base",
      "_model_module_version": "1.2.0",
      "_model_name": "LayoutModel",
      "_view_count": null,
      "_view_module": "@jupyter-widgets/base",
      "_view_module_version": "1.2.0",
      "_view_name": "LayoutView",
      "align_content": null,
      "align_items": null,
      "align_self": null,
      "border": null,
      "bottom": null,
      "display": null,
      "flex": null,
      "flex_flow": null,
      "grid_area": null,
      "grid_auto_columns": null,
      "grid_auto_flow": null,
      "grid_auto_rows": null,
      "grid_column": null,
      "grid_gap": null,
      "grid_row": null,
      "grid_template_areas": null,
      "grid_template_columns": null,
      "grid_template_rows": null,
      "height": null,
      "justify_content": null,
      "justify_items": null,
      "left": null,
      "margin": null,
      "max_height": null,
      "max_width": null,
      "min_height": null,
      "min_width": null,
      "object_fit": null,
      "object_position": null,
      "order": null,
      "overflow": null,
      "overflow_x": null,
      "overflow_y": null,
      "padding": null,
      "right": null,
      "top": null,
      "visibility": null,
      "width": null
     }
    },
    "96ff42c589a84b8ab299f022b0e248ac": {
     "model_module": "@jupyter-widgets/base",
     "model_module_version": "1.2.0",
     "model_name": "LayoutModel",
     "state": {
      "_model_module": "@jupyter-widgets/base",
      "_model_module_version": "1.2.0",
      "_model_name": "LayoutModel",
      "_view_count": null,
      "_view_module": "@jupyter-widgets/base",
      "_view_module_version": "1.2.0",
      "_view_name": "LayoutView",
      "align_content": null,
      "align_items": null,
      "align_self": null,
      "border": null,
      "bottom": null,
      "display": null,
      "flex": null,
      "flex_flow": null,
      "grid_area": null,
      "grid_auto_columns": null,
      "grid_auto_flow": null,
      "grid_auto_rows": null,
      "grid_column": null,
      "grid_gap": null,
      "grid_row": null,
      "grid_template_areas": null,
      "grid_template_columns": null,
      "grid_template_rows": null,
      "height": null,
      "justify_content": null,
      "justify_items": null,
      "left": null,
      "margin": null,
      "max_height": null,
      "max_width": null,
      "min_height": null,
      "min_width": null,
      "object_fit": null,
      "object_position": null,
      "order": null,
      "overflow": null,
      "overflow_x": null,
      "overflow_y": null,
      "padding": null,
      "right": null,
      "top": null,
      "visibility": null,
      "width": null
     }
    },
    "97f4fa4c796c4f2e83fcffa90d0d7e87": {
     "model_module": "@jupyter-widgets/base",
     "model_module_version": "1.2.0",
     "model_name": "LayoutModel",
     "state": {
      "_model_module": "@jupyter-widgets/base",
      "_model_module_version": "1.2.0",
      "_model_name": "LayoutModel",
      "_view_count": null,
      "_view_module": "@jupyter-widgets/base",
      "_view_module_version": "1.2.0",
      "_view_name": "LayoutView",
      "align_content": null,
      "align_items": null,
      "align_self": null,
      "border": null,
      "bottom": null,
      "display": null,
      "flex": null,
      "flex_flow": null,
      "grid_area": null,
      "grid_auto_columns": null,
      "grid_auto_flow": null,
      "grid_auto_rows": null,
      "grid_column": null,
      "grid_gap": null,
      "grid_row": null,
      "grid_template_areas": null,
      "grid_template_columns": null,
      "grid_template_rows": null,
      "height": null,
      "justify_content": null,
      "justify_items": null,
      "left": null,
      "margin": null,
      "max_height": null,
      "max_width": null,
      "min_height": null,
      "min_width": null,
      "object_fit": null,
      "object_position": null,
      "order": null,
      "overflow": null,
      "overflow_x": null,
      "overflow_y": null,
      "padding": null,
      "right": null,
      "top": null,
      "visibility": null,
      "width": null
     }
    },
    "9b8090e8866a495e8aed1b4a16ae8e5a": {
     "model_module": "@jupyter-widgets/controls",
     "model_module_version": "1.5.0",
     "model_name": "HTMLModel",
     "state": {
      "_dom_classes": [],
      "_model_module": "@jupyter-widgets/controls",
      "_model_module_version": "1.5.0",
      "_model_name": "HTMLModel",
      "_view_count": null,
      "_view_module": "@jupyter-widgets/controls",
      "_view_module_version": "1.5.0",
      "_view_name": "HTMLView",
      "description": "",
      "description_tooltip": null,
      "layout": "IPY_MODEL_3c0352e46c09476ea2ef43abd351d6f4",
      "placeholder": "​",
      "style": "IPY_MODEL_8954bfba30e04d71ab5800d7714cb70b",
      "value": " 12/12 [00:35&lt;00:00,  2.92s/it]"
     }
    },
    "9cc6787d7e984b14afd62c3b141b0f3e": {
     "model_module": "@jupyter-widgets/controls",
     "model_module_version": "1.5.0",
     "model_name": "HTMLModel",
     "state": {
      "_dom_classes": [],
      "_model_module": "@jupyter-widgets/controls",
      "_model_module_version": "1.5.0",
      "_model_name": "HTMLModel",
      "_view_count": null,
      "_view_module": "@jupyter-widgets/controls",
      "_view_module_version": "1.5.0",
      "_view_name": "HTMLView",
      "description": "",
      "description_tooltip": null,
      "layout": "IPY_MODEL_13c47825355144a0a79761af637a8dee",
      "placeholder": "​",
      "style": "IPY_MODEL_70a5931d9f274b1abf25b22baca4956d",
      "value": "100%"
     }
    },
    "9d69bd25ad6b4b6b9c3affe2e36561e5": {
     "model_module": "@jupyter-widgets/controls",
     "model_module_version": "1.5.0",
     "model_name": "DescriptionStyleModel",
     "state": {
      "_model_module": "@jupyter-widgets/controls",
      "_model_module_version": "1.5.0",
      "_model_name": "DescriptionStyleModel",
      "_view_count": null,
      "_view_module": "@jupyter-widgets/base",
      "_view_module_version": "1.2.0",
      "_view_name": "StyleView",
      "description_width": ""
     }
    },
    "a095b0b1d39a44c4b1d6dfcded207f1b": {
     "model_module": "@jupyter-widgets/base",
     "model_module_version": "1.2.0",
     "model_name": "LayoutModel",
     "state": {
      "_model_module": "@jupyter-widgets/base",
      "_model_module_version": "1.2.0",
      "_model_name": "LayoutModel",
      "_view_count": null,
      "_view_module": "@jupyter-widgets/base",
      "_view_module_version": "1.2.0",
      "_view_name": "LayoutView",
      "align_content": null,
      "align_items": null,
      "align_self": null,
      "border": null,
      "bottom": null,
      "display": null,
      "flex": null,
      "flex_flow": null,
      "grid_area": null,
      "grid_auto_columns": null,
      "grid_auto_flow": null,
      "grid_auto_rows": null,
      "grid_column": null,
      "grid_gap": null,
      "grid_row": null,
      "grid_template_areas": null,
      "grid_template_columns": null,
      "grid_template_rows": null,
      "height": null,
      "justify_content": null,
      "justify_items": null,
      "left": null,
      "margin": null,
      "max_height": null,
      "max_width": null,
      "min_height": null,
      "min_width": null,
      "object_fit": null,
      "object_position": null,
      "order": null,
      "overflow": null,
      "overflow_x": null,
      "overflow_y": null,
      "padding": null,
      "right": null,
      "top": null,
      "visibility": null,
      "width": null
     }
    },
    "a3c0c4217f544b6aadef90c773e0fe73": {
     "model_module": "@jupyter-widgets/controls",
     "model_module_version": "1.5.0",
     "model_name": "HTMLModel",
     "state": {
      "_dom_classes": [],
      "_model_module": "@jupyter-widgets/controls",
      "_model_module_version": "1.5.0",
      "_model_name": "HTMLModel",
      "_view_count": null,
      "_view_module": "@jupyter-widgets/controls",
      "_view_module_version": "1.5.0",
      "_view_name": "HTMLView",
      "description": "",
      "description_tooltip": null,
      "layout": "IPY_MODEL_7bc7e04e7b574a2baa8fbc86e223c253",
      "placeholder": "​",
      "style": "IPY_MODEL_f301e5cba1284e4cbef99d8b2f7d8d63",
      "value": "100%"
     }
    },
    "a405e82dff8b43ca92c14822ced262f5": {
     "model_module": "@jupyter-widgets/controls",
     "model_module_version": "1.5.0",
     "model_name": "FloatProgressModel",
     "state": {
      "_dom_classes": [],
      "_model_module": "@jupyter-widgets/controls",
      "_model_module_version": "1.5.0",
      "_model_name": "FloatProgressModel",
      "_view_count": null,
      "_view_module": "@jupyter-widgets/controls",
      "_view_module_version": "1.5.0",
      "_view_name": "ProgressView",
      "bar_style": "success",
      "description": "",
      "description_tooltip": null,
      "layout": "IPY_MODEL_0a88faab02794746add2d2d527bde6b0",
      "max": 12,
      "min": 0,
      "orientation": "horizontal",
      "style": "IPY_MODEL_f7af3510e384496cb1b900ebbbd5c686",
      "value": 12
     }
    },
    "a541375f22814d2798541b2f2cf3d0b3": {
     "model_module": "@jupyter-widgets/controls",
     "model_module_version": "1.5.0",
     "model_name": "DescriptionStyleModel",
     "state": {
      "_model_module": "@jupyter-widgets/controls",
      "_model_module_version": "1.5.0",
      "_model_name": "DescriptionStyleModel",
      "_view_count": null,
      "_view_module": "@jupyter-widgets/base",
      "_view_module_version": "1.2.0",
      "_view_name": "StyleView",
      "description_width": ""
     }
    },
    "a62fa227255f47b492c8b11a97d7a00b": {
     "model_module": "@jupyter-widgets/controls",
     "model_module_version": "1.5.0",
     "model_name": "FloatProgressModel",
     "state": {
      "_dom_classes": [],
      "_model_module": "@jupyter-widgets/controls",
      "_model_module_version": "1.5.0",
      "_model_name": "FloatProgressModel",
      "_view_count": null,
      "_view_module": "@jupyter-widgets/controls",
      "_view_module_version": "1.5.0",
      "_view_name": "ProgressView",
      "bar_style": "success",
      "description": "",
      "description_tooltip": null,
      "layout": "IPY_MODEL_5d8cb1b832ea4309a3a1028d6f1fc737",
      "max": 12,
      "min": 0,
      "orientation": "horizontal",
      "style": "IPY_MODEL_8b21865108a04005a4fcc50e1d9fe0ad",
      "value": 12
     }
    },
    "a9422f0b076c4f3a82f01ffb1d1f2ed2": {
     "model_module": "@jupyter-widgets/controls",
     "model_module_version": "1.5.0",
     "model_name": "HTMLModel",
     "state": {
      "_dom_classes": [],
      "_model_module": "@jupyter-widgets/controls",
      "_model_module_version": "1.5.0",
      "_model_name": "HTMLModel",
      "_view_count": null,
      "_view_module": "@jupyter-widgets/controls",
      "_view_module_version": "1.5.0",
      "_view_name": "HTMLView",
      "description": "",
      "description_tooltip": null,
      "layout": "IPY_MODEL_6e8a0d9aab0644639554c67c253dde1d",
      "placeholder": "​",
      "style": "IPY_MODEL_8d6c78f96cef4384a28e88bf3e195fb2",
      "value": " 12/12 [00:33&lt;00:00,  2.81s/it]"
     }
    },
    "a9900e40a4a64d348fc789c49cfec6c3": {
     "model_module": "@jupyter-widgets/controls",
     "model_module_version": "1.5.0",
     "model_name": "FloatProgressModel",
     "state": {
      "_dom_classes": [],
      "_model_module": "@jupyter-widgets/controls",
      "_model_module_version": "1.5.0",
      "_model_name": "FloatProgressModel",
      "_view_count": null,
      "_view_module": "@jupyter-widgets/controls",
      "_view_module_version": "1.5.0",
      "_view_name": "ProgressView",
      "bar_style": "success",
      "description": "",
      "description_tooltip": null,
      "layout": "IPY_MODEL_95eafac40d3747f08c9330cd382a3e0d",
      "max": 12,
      "min": 0,
      "orientation": "horizontal",
      "style": "IPY_MODEL_c6e074e27ac948bf88626112880a7994",
      "value": 12
     }
    },
    "ab04ad441f994684baaf14d6a926ac40": {
     "model_module": "@jupyter-widgets/controls",
     "model_module_version": "1.5.0",
     "model_name": "HBoxModel",
     "state": {
      "_dom_classes": [],
      "_model_module": "@jupyter-widgets/controls",
      "_model_module_version": "1.5.0",
      "_model_name": "HBoxModel",
      "_view_count": null,
      "_view_module": "@jupyter-widgets/controls",
      "_view_module_version": "1.5.0",
      "_view_name": "HBoxView",
      "box_style": "",
      "children": [
       "IPY_MODEL_a3c0c4217f544b6aadef90c773e0fe73",
       "IPY_MODEL_e600e82c11c344499dbea2de900b862d",
       "IPY_MODEL_87fd885a39494c10b47ec52f06701973"
      ],
      "layout": "IPY_MODEL_3bb7e410f6184ef0baccc665867e6d63"
     }
    },
    "ac86f8497bee4ad48fb07e4accc29b49": {
     "model_module": "@jupyter-widgets/base",
     "model_module_version": "1.2.0",
     "model_name": "LayoutModel",
     "state": {
      "_model_module": "@jupyter-widgets/base",
      "_model_module_version": "1.2.0",
      "_model_name": "LayoutModel",
      "_view_count": null,
      "_view_module": "@jupyter-widgets/base",
      "_view_module_version": "1.2.0",
      "_view_name": "LayoutView",
      "align_content": null,
      "align_items": null,
      "align_self": null,
      "border": null,
      "bottom": null,
      "display": null,
      "flex": null,
      "flex_flow": null,
      "grid_area": null,
      "grid_auto_columns": null,
      "grid_auto_flow": null,
      "grid_auto_rows": null,
      "grid_column": null,
      "grid_gap": null,
      "grid_row": null,
      "grid_template_areas": null,
      "grid_template_columns": null,
      "grid_template_rows": null,
      "height": null,
      "justify_content": null,
      "justify_items": null,
      "left": null,
      "margin": null,
      "max_height": null,
      "max_width": null,
      "min_height": null,
      "min_width": null,
      "object_fit": null,
      "object_position": null,
      "order": null,
      "overflow": null,
      "overflow_x": null,
      "overflow_y": null,
      "padding": null,
      "right": null,
      "top": null,
      "visibility": null,
      "width": null
     }
    },
    "ad9b12bb2b7843e6b3ce59d6ad9f5d3e": {
     "model_module": "@jupyter-widgets/controls",
     "model_module_version": "1.5.0",
     "model_name": "HTMLModel",
     "state": {
      "_dom_classes": [],
      "_model_module": "@jupyter-widgets/controls",
      "_model_module_version": "1.5.0",
      "_model_name": "HTMLModel",
      "_view_count": null,
      "_view_module": "@jupyter-widgets/controls",
      "_view_module_version": "1.5.0",
      "_view_name": "HTMLView",
      "description": "",
      "description_tooltip": null,
      "layout": "IPY_MODEL_7df2ee82c1034df88e28e2b51f205ad0",
      "placeholder": "​",
      "style": "IPY_MODEL_bf4f368435424de381abb0b847fab903",
      "value": "100%"
     }
    },
    "b17bfbeca63441f89afc536d900bb817": {
     "model_module": "@jupyter-widgets/controls",
     "model_module_version": "1.5.0",
     "model_name": "HBoxModel",
     "state": {
      "_dom_classes": [],
      "_model_module": "@jupyter-widgets/controls",
      "_model_module_version": "1.5.0",
      "_model_name": "HBoxModel",
      "_view_count": null,
      "_view_module": "@jupyter-widgets/controls",
      "_view_module_version": "1.5.0",
      "_view_name": "HBoxView",
      "box_style": "",
      "children": [
       "IPY_MODEL_9cc6787d7e984b14afd62c3b141b0f3e",
       "IPY_MODEL_8a2469d26a2c42e6bacf6531f0a07ed5",
       "IPY_MODEL_1bdbdf7ebb5442cb8bd2f9622f9a2832"
      ],
      "layout": "IPY_MODEL_7302dd953ea241ad87a689308a0cc198"
     }
    },
    "b3453622b9074a3bbe68192c5ef78e88": {
     "model_module": "@jupyter-widgets/controls",
     "model_module_version": "1.5.0",
     "model_name": "DescriptionStyleModel",
     "state": {
      "_model_module": "@jupyter-widgets/controls",
      "_model_module_version": "1.5.0",
      "_model_name": "DescriptionStyleModel",
      "_view_count": null,
      "_view_module": "@jupyter-widgets/base",
      "_view_module_version": "1.2.0",
      "_view_name": "StyleView",
      "description_width": ""
     }
    },
    "b88e2785b82f48618a71d7c60b40b4d8": {
     "model_module": "@jupyter-widgets/base",
     "model_module_version": "1.2.0",
     "model_name": "LayoutModel",
     "state": {
      "_model_module": "@jupyter-widgets/base",
      "_model_module_version": "1.2.0",
      "_model_name": "LayoutModel",
      "_view_count": null,
      "_view_module": "@jupyter-widgets/base",
      "_view_module_version": "1.2.0",
      "_view_name": "LayoutView",
      "align_content": null,
      "align_items": null,
      "align_self": null,
      "border": null,
      "bottom": null,
      "display": null,
      "flex": null,
      "flex_flow": null,
      "grid_area": null,
      "grid_auto_columns": null,
      "grid_auto_flow": null,
      "grid_auto_rows": null,
      "grid_column": null,
      "grid_gap": null,
      "grid_row": null,
      "grid_template_areas": null,
      "grid_template_columns": null,
      "grid_template_rows": null,
      "height": null,
      "justify_content": null,
      "justify_items": null,
      "left": null,
      "margin": null,
      "max_height": null,
      "max_width": null,
      "min_height": null,
      "min_width": null,
      "object_fit": null,
      "object_position": null,
      "order": null,
      "overflow": null,
      "overflow_x": null,
      "overflow_y": null,
      "padding": null,
      "right": null,
      "top": null,
      "visibility": null,
      "width": null
     }
    },
    "ba7dc668d95a44d68b98864f5d9e1a4a": {
     "model_module": "@jupyter-widgets/controls",
     "model_module_version": "1.5.0",
     "model_name": "HTMLModel",
     "state": {
      "_dom_classes": [],
      "_model_module": "@jupyter-widgets/controls",
      "_model_module_version": "1.5.0",
      "_model_name": "HTMLModel",
      "_view_count": null,
      "_view_module": "@jupyter-widgets/controls",
      "_view_module_version": "1.5.0",
      "_view_name": "HTMLView",
      "description": "",
      "description_tooltip": null,
      "layout": "IPY_MODEL_c5b1c7e9100444f4946069f49604f815",
      "placeholder": "​",
      "style": "IPY_MODEL_d094da26297549de840ca24ea06f19c5",
      "value": "100%"
     }
    },
    "bbafaf42f0e946389f76c0e7fa301a1b": {
     "model_module": "@jupyter-widgets/controls",
     "model_module_version": "1.5.0",
     "model_name": "HBoxModel",
     "state": {
      "_dom_classes": [],
      "_model_module": "@jupyter-widgets/controls",
      "_model_module_version": "1.5.0",
      "_model_name": "HBoxModel",
      "_view_count": null,
      "_view_module": "@jupyter-widgets/controls",
      "_view_module_version": "1.5.0",
      "_view_name": "HBoxView",
      "box_style": "",
      "children": [
       "IPY_MODEL_81159f662bdf42d0aae1e46b2cf26c78",
       "IPY_MODEL_a405e82dff8b43ca92c14822ced262f5",
       "IPY_MODEL_869640beb7134bf2b3cccb1a6cef4ed1"
      ],
      "layout": "IPY_MODEL_0f33cdb1b35e4acfae4612550815b870"
     }
    },
    "bbe3b50fc1f64e918afeecf8ca3299ea": {
     "model_module": "@jupyter-widgets/controls",
     "model_module_version": "1.5.0",
     "model_name": "HTMLModel",
     "state": {
      "_dom_classes": [],
      "_model_module": "@jupyter-widgets/controls",
      "_model_module_version": "1.5.0",
      "_model_name": "HTMLModel",
      "_view_count": null,
      "_view_module": "@jupyter-widgets/controls",
      "_view_module_version": "1.5.0",
      "_view_name": "HTMLView",
      "description": "",
      "description_tooltip": null,
      "layout": "IPY_MODEL_d7ec47e673294bf488c53d48f84a4b80",
      "placeholder": "​",
      "style": "IPY_MODEL_b3453622b9074a3bbe68192c5ef78e88",
      "value": "100%"
     }
    },
    "bf4f368435424de381abb0b847fab903": {
     "model_module": "@jupyter-widgets/controls",
     "model_module_version": "1.5.0",
     "model_name": "DescriptionStyleModel",
     "state": {
      "_model_module": "@jupyter-widgets/controls",
      "_model_module_version": "1.5.0",
      "_model_name": "DescriptionStyleModel",
      "_view_count": null,
      "_view_module": "@jupyter-widgets/base",
      "_view_module_version": "1.2.0",
      "_view_name": "StyleView",
      "description_width": ""
     }
    },
    "c401627b3e544490a3c0c6cb16da1d70": {
     "model_module": "@jupyter-widgets/controls",
     "model_module_version": "1.5.0",
     "model_name": "DescriptionStyleModel",
     "state": {
      "_model_module": "@jupyter-widgets/controls",
      "_model_module_version": "1.5.0",
      "_model_name": "DescriptionStyleModel",
      "_view_count": null,
      "_view_module": "@jupyter-widgets/base",
      "_view_module_version": "1.2.0",
      "_view_name": "StyleView",
      "description_width": ""
     }
    },
    "c4a57da515484015af3eb7c664f8896c": {
     "model_module": "@jupyter-widgets/controls",
     "model_module_version": "1.5.0",
     "model_name": "ProgressStyleModel",
     "state": {
      "_model_module": "@jupyter-widgets/controls",
      "_model_module_version": "1.5.0",
      "_model_name": "ProgressStyleModel",
      "_view_count": null,
      "_view_module": "@jupyter-widgets/base",
      "_view_module_version": "1.2.0",
      "_view_name": "StyleView",
      "bar_color": null,
      "description_width": ""
     }
    },
    "c5b1c7e9100444f4946069f49604f815": {
     "model_module": "@jupyter-widgets/base",
     "model_module_version": "1.2.0",
     "model_name": "LayoutModel",
     "state": {
      "_model_module": "@jupyter-widgets/base",
      "_model_module_version": "1.2.0",
      "_model_name": "LayoutModel",
      "_view_count": null,
      "_view_module": "@jupyter-widgets/base",
      "_view_module_version": "1.2.0",
      "_view_name": "LayoutView",
      "align_content": null,
      "align_items": null,
      "align_self": null,
      "border": null,
      "bottom": null,
      "display": null,
      "flex": null,
      "flex_flow": null,
      "grid_area": null,
      "grid_auto_columns": null,
      "grid_auto_flow": null,
      "grid_auto_rows": null,
      "grid_column": null,
      "grid_gap": null,
      "grid_row": null,
      "grid_template_areas": null,
      "grid_template_columns": null,
      "grid_template_rows": null,
      "height": null,
      "justify_content": null,
      "justify_items": null,
      "left": null,
      "margin": null,
      "max_height": null,
      "max_width": null,
      "min_height": null,
      "min_width": null,
      "object_fit": null,
      "object_position": null,
      "order": null,
      "overflow": null,
      "overflow_x": null,
      "overflow_y": null,
      "padding": null,
      "right": null,
      "top": null,
      "visibility": null,
      "width": null
     }
    },
    "c6ce626bbd584096bd3ddf87555c7f93": {
     "model_module": "@jupyter-widgets/controls",
     "model_module_version": "1.5.0",
     "model_name": "FloatProgressModel",
     "state": {
      "_dom_classes": [],
      "_model_module": "@jupyter-widgets/controls",
      "_model_module_version": "1.5.0",
      "_model_name": "FloatProgressModel",
      "_view_count": null,
      "_view_module": "@jupyter-widgets/controls",
      "_view_module_version": "1.5.0",
      "_view_name": "ProgressView",
      "bar_style": "success",
      "description": "",
      "description_tooltip": null,
      "layout": "IPY_MODEL_df29dbfa1c8d493484a79d9e1d07324d",
      "max": 12,
      "min": 0,
      "orientation": "horizontal",
      "style": "IPY_MODEL_65a6235ae29c41a59002080fd0d6f103",
      "value": 12
     }
    },
    "c6e074e27ac948bf88626112880a7994": {
     "model_module": "@jupyter-widgets/controls",
     "model_module_version": "1.5.0",
     "model_name": "ProgressStyleModel",
     "state": {
      "_model_module": "@jupyter-widgets/controls",
      "_model_module_version": "1.5.0",
      "_model_name": "ProgressStyleModel",
      "_view_count": null,
      "_view_module": "@jupyter-widgets/base",
      "_view_module_version": "1.2.0",
      "_view_name": "StyleView",
      "bar_color": null,
      "description_width": ""
     }
    },
    "c7e509d2cfb64ae1afedafe7b3d04873": {
     "model_module": "@jupyter-widgets/controls",
     "model_module_version": "1.5.0",
     "model_name": "DescriptionStyleModel",
     "state": {
      "_model_module": "@jupyter-widgets/controls",
      "_model_module_version": "1.5.0",
      "_model_name": "DescriptionStyleModel",
      "_view_count": null,
      "_view_module": "@jupyter-widgets/base",
      "_view_module_version": "1.2.0",
      "_view_name": "StyleView",
      "description_width": ""
     }
    },
    "cc16dffb5c2d4bb6a4652721f382a94c": {
     "model_module": "@jupyter-widgets/controls",
     "model_module_version": "1.5.0",
     "model_name": "HBoxModel",
     "state": {
      "_dom_classes": [],
      "_model_module": "@jupyter-widgets/controls",
      "_model_module_version": "1.5.0",
      "_model_name": "HBoxModel",
      "_view_count": null,
      "_view_module": "@jupyter-widgets/controls",
      "_view_module_version": "1.5.0",
      "_view_name": "HBoxView",
      "box_style": "",
      "children": [
       "IPY_MODEL_bbe3b50fc1f64e918afeecf8ca3299ea",
       "IPY_MODEL_c6ce626bbd584096bd3ddf87555c7f93",
       "IPY_MODEL_9b8090e8866a495e8aed1b4a16ae8e5a"
      ],
      "layout": "IPY_MODEL_96ff42c589a84b8ab299f022b0e248ac"
     }
    },
    "cd464c28602c4f5f805885fc4b4e8438": {
     "model_module": "@jupyter-widgets/controls",
     "model_module_version": "1.5.0",
     "model_name": "HTMLModel",
     "state": {
      "_dom_classes": [],
      "_model_module": "@jupyter-widgets/controls",
      "_model_module_version": "1.5.0",
      "_model_name": "HTMLModel",
      "_view_count": null,
      "_view_module": "@jupyter-widgets/controls",
      "_view_module_version": "1.5.0",
      "_view_name": "HTMLView",
      "description": "",
      "description_tooltip": null,
      "layout": "IPY_MODEL_1cbd52f23dd246b7bfbbb4564a4dc699",
      "placeholder": "​",
      "style": "IPY_MODEL_a541375f22814d2798541b2f2cf3d0b3",
      "value": " 12/12 [00:35&lt;00:00,  2.74s/it]"
     }
    },
    "ced974e2973e4af39a0c9f8b0cca0c8e": {
     "model_module": "@jupyter-widgets/controls",
     "model_module_version": "1.5.0",
     "model_name": "ProgressStyleModel",
     "state": {
      "_model_module": "@jupyter-widgets/controls",
      "_model_module_version": "1.5.0",
      "_model_name": "ProgressStyleModel",
      "_view_count": null,
      "_view_module": "@jupyter-widgets/base",
      "_view_module_version": "1.2.0",
      "_view_name": "StyleView",
      "bar_color": null,
      "description_width": ""
     }
    },
    "d094da26297549de840ca24ea06f19c5": {
     "model_module": "@jupyter-widgets/controls",
     "model_module_version": "1.5.0",
     "model_name": "DescriptionStyleModel",
     "state": {
      "_model_module": "@jupyter-widgets/controls",
      "_model_module_version": "1.5.0",
      "_model_name": "DescriptionStyleModel",
      "_view_count": null,
      "_view_module": "@jupyter-widgets/base",
      "_view_module_version": "1.2.0",
      "_view_name": "StyleView",
      "description_width": ""
     }
    },
    "d1feff0a052243a5b91580f4d40c1afa": {
     "model_module": "@jupyter-widgets/controls",
     "model_module_version": "1.5.0",
     "model_name": "DescriptionStyleModel",
     "state": {
      "_model_module": "@jupyter-widgets/controls",
      "_model_module_version": "1.5.0",
      "_model_name": "DescriptionStyleModel",
      "_view_count": null,
      "_view_module": "@jupyter-widgets/base",
      "_view_module_version": "1.2.0",
      "_view_name": "StyleView",
      "description_width": ""
     }
    },
    "d7ec47e673294bf488c53d48f84a4b80": {
     "model_module": "@jupyter-widgets/base",
     "model_module_version": "1.2.0",
     "model_name": "LayoutModel",
     "state": {
      "_model_module": "@jupyter-widgets/base",
      "_model_module_version": "1.2.0",
      "_model_name": "LayoutModel",
      "_view_count": null,
      "_view_module": "@jupyter-widgets/base",
      "_view_module_version": "1.2.0",
      "_view_name": "LayoutView",
      "align_content": null,
      "align_items": null,
      "align_self": null,
      "border": null,
      "bottom": null,
      "display": null,
      "flex": null,
      "flex_flow": null,
      "grid_area": null,
      "grid_auto_columns": null,
      "grid_auto_flow": null,
      "grid_auto_rows": null,
      "grid_column": null,
      "grid_gap": null,
      "grid_row": null,
      "grid_template_areas": null,
      "grid_template_columns": null,
      "grid_template_rows": null,
      "height": null,
      "justify_content": null,
      "justify_items": null,
      "left": null,
      "margin": null,
      "max_height": null,
      "max_width": null,
      "min_height": null,
      "min_width": null,
      "object_fit": null,
      "object_position": null,
      "order": null,
      "overflow": null,
      "overflow_x": null,
      "overflow_y": null,
      "padding": null,
      "right": null,
      "top": null,
      "visibility": null,
      "width": null
     }
    },
    "da3943d9aa6b4a4f9501a9b1d7135535": {
     "model_module": "@jupyter-widgets/controls",
     "model_module_version": "1.5.0",
     "model_name": "HTMLModel",
     "state": {
      "_dom_classes": [],
      "_model_module": "@jupyter-widgets/controls",
      "_model_module_version": "1.5.0",
      "_model_name": "HTMLModel",
      "_view_count": null,
      "_view_module": "@jupyter-widgets/controls",
      "_view_module_version": "1.5.0",
      "_view_name": "HTMLView",
      "description": "",
      "description_tooltip": null,
      "layout": "IPY_MODEL_181003ea8bde48c79dd36fd64ac6a01c",
      "placeholder": "​",
      "style": "IPY_MODEL_06e67f66e88441c288db9e8ea07158e6",
      "value": "100%"
     }
    },
    "df29dbfa1c8d493484a79d9e1d07324d": {
     "model_module": "@jupyter-widgets/base",
     "model_module_version": "1.2.0",
     "model_name": "LayoutModel",
     "state": {
      "_model_module": "@jupyter-widgets/base",
      "_model_module_version": "1.2.0",
      "_model_name": "LayoutModel",
      "_view_count": null,
      "_view_module": "@jupyter-widgets/base",
      "_view_module_version": "1.2.0",
      "_view_name": "LayoutView",
      "align_content": null,
      "align_items": null,
      "align_self": null,
      "border": null,
      "bottom": null,
      "display": null,
      "flex": null,
      "flex_flow": null,
      "grid_area": null,
      "grid_auto_columns": null,
      "grid_auto_flow": null,
      "grid_auto_rows": null,
      "grid_column": null,
      "grid_gap": null,
      "grid_row": null,
      "grid_template_areas": null,
      "grid_template_columns": null,
      "grid_template_rows": null,
      "height": null,
      "justify_content": null,
      "justify_items": null,
      "left": null,
      "margin": null,
      "max_height": null,
      "max_width": null,
      "min_height": null,
      "min_width": null,
      "object_fit": null,
      "object_position": null,
      "order": null,
      "overflow": null,
      "overflow_x": null,
      "overflow_y": null,
      "padding": null,
      "right": null,
      "top": null,
      "visibility": null,
      "width": null
     }
    },
    "e15b6e20d21343d9b6d3807ff876d2c4": {
     "model_module": "@jupyter-widgets/controls",
     "model_module_version": "1.5.0",
     "model_name": "FloatProgressModel",
     "state": {
      "_dom_classes": [],
      "_model_module": "@jupyter-widgets/controls",
      "_model_module_version": "1.5.0",
      "_model_name": "FloatProgressModel",
      "_view_count": null,
      "_view_module": "@jupyter-widgets/controls",
      "_view_module_version": "1.5.0",
      "_view_name": "ProgressView",
      "bar_style": "success",
      "description": "",
      "description_tooltip": null,
      "layout": "IPY_MODEL_22c5bea4a556498392341990f1bddf50",
      "max": 12,
      "min": 0,
      "orientation": "horizontal",
      "style": "IPY_MODEL_6486d55dbcc04f0ca52fee1968bc1a17",
      "value": 12
     }
    },
    "e600e82c11c344499dbea2de900b862d": {
     "model_module": "@jupyter-widgets/controls",
     "model_module_version": "1.5.0",
     "model_name": "FloatProgressModel",
     "state": {
      "_dom_classes": [],
      "_model_module": "@jupyter-widgets/controls",
      "_model_module_version": "1.5.0",
      "_model_name": "FloatProgressModel",
      "_view_count": null,
      "_view_module": "@jupyter-widgets/controls",
      "_view_module_version": "1.5.0",
      "_view_name": "ProgressView",
      "bar_style": "success",
      "description": "",
      "description_tooltip": null,
      "layout": "IPY_MODEL_6be05c8105b242c5a49d04fba80f6eb9",
      "max": 12,
      "min": 0,
      "orientation": "horizontal",
      "style": "IPY_MODEL_0f7387026d784031a330e96401ee5938",
      "value": 12
     }
    },
    "e8f4f34f96bf454fa4dec169014c5aa3": {
     "model_module": "@jupyter-widgets/controls",
     "model_module_version": "1.5.0",
     "model_name": "FloatProgressModel",
     "state": {
      "_dom_classes": [],
      "_model_module": "@jupyter-widgets/controls",
      "_model_module_version": "1.5.0",
      "_model_name": "FloatProgressModel",
      "_view_count": null,
      "_view_module": "@jupyter-widgets/controls",
      "_view_module_version": "1.5.0",
      "_view_name": "ProgressView",
      "bar_style": "success",
      "description": "",
      "description_tooltip": null,
      "layout": "IPY_MODEL_63f5898d03eb4c3b8d51d581acf2ffe4",
      "max": 12,
      "min": 0,
      "orientation": "horizontal",
      "style": "IPY_MODEL_c4a57da515484015af3eb7c664f8896c",
      "value": 12
     }
    },
    "e9b2837b6696462184005106cdc7f07f": {
     "model_module": "@jupyter-widgets/base",
     "model_module_version": "1.2.0",
     "model_name": "LayoutModel",
     "state": {
      "_model_module": "@jupyter-widgets/base",
      "_model_module_version": "1.2.0",
      "_model_name": "LayoutModel",
      "_view_count": null,
      "_view_module": "@jupyter-widgets/base",
      "_view_module_version": "1.2.0",
      "_view_name": "LayoutView",
      "align_content": null,
      "align_items": null,
      "align_self": null,
      "border": null,
      "bottom": null,
      "display": null,
      "flex": null,
      "flex_flow": null,
      "grid_area": null,
      "grid_auto_columns": null,
      "grid_auto_flow": null,
      "grid_auto_rows": null,
      "grid_column": null,
      "grid_gap": null,
      "grid_row": null,
      "grid_template_areas": null,
      "grid_template_columns": null,
      "grid_template_rows": null,
      "height": null,
      "justify_content": null,
      "justify_items": null,
      "left": null,
      "margin": null,
      "max_height": null,
      "max_width": null,
      "min_height": null,
      "min_width": null,
      "object_fit": null,
      "object_position": null,
      "order": null,
      "overflow": null,
      "overflow_x": null,
      "overflow_y": null,
      "padding": null,
      "right": null,
      "top": null,
      "visibility": null,
      "width": null
     }
    },
    "ebfd5fbe6720453ab0cfea024bdde8f5": {
     "model_module": "@jupyter-widgets/controls",
     "model_module_version": "1.5.0",
     "model_name": "DescriptionStyleModel",
     "state": {
      "_model_module": "@jupyter-widgets/controls",
      "_model_module_version": "1.5.0",
      "_model_name": "DescriptionStyleModel",
      "_view_count": null,
      "_view_module": "@jupyter-widgets/base",
      "_view_module_version": "1.2.0",
      "_view_name": "StyleView",
      "description_width": ""
     }
    },
    "ee046689e0024738b0f5560adcfb0f9f": {
     "model_module": "@jupyter-widgets/base",
     "model_module_version": "1.2.0",
     "model_name": "LayoutModel",
     "state": {
      "_model_module": "@jupyter-widgets/base",
      "_model_module_version": "1.2.0",
      "_model_name": "LayoutModel",
      "_view_count": null,
      "_view_module": "@jupyter-widgets/base",
      "_view_module_version": "1.2.0",
      "_view_name": "LayoutView",
      "align_content": null,
      "align_items": null,
      "align_self": null,
      "border": null,
      "bottom": null,
      "display": null,
      "flex": null,
      "flex_flow": null,
      "grid_area": null,
      "grid_auto_columns": null,
      "grid_auto_flow": null,
      "grid_auto_rows": null,
      "grid_column": null,
      "grid_gap": null,
      "grid_row": null,
      "grid_template_areas": null,
      "grid_template_columns": null,
      "grid_template_rows": null,
      "height": null,
      "justify_content": null,
      "justify_items": null,
      "left": null,
      "margin": null,
      "max_height": null,
      "max_width": null,
      "min_height": null,
      "min_width": null,
      "object_fit": null,
      "object_position": null,
      "order": null,
      "overflow": null,
      "overflow_x": null,
      "overflow_y": null,
      "padding": null,
      "right": null,
      "top": null,
      "visibility": null,
      "width": null
     }
    },
    "f29b64433b0741d7bda1176701effc2f": {
     "model_module": "@jupyter-widgets/controls",
     "model_module_version": "1.5.0",
     "model_name": "HTMLModel",
     "state": {
      "_dom_classes": [],
      "_model_module": "@jupyter-widgets/controls",
      "_model_module_version": "1.5.0",
      "_model_name": "HTMLModel",
      "_view_count": null,
      "_view_module": "@jupyter-widgets/controls",
      "_view_module_version": "1.5.0",
      "_view_name": "HTMLView",
      "description": "",
      "description_tooltip": null,
      "layout": "IPY_MODEL_5e19e8d1c548498d956703eb97f0880c",
      "placeholder": "​",
      "style": "IPY_MODEL_c401627b3e544490a3c0c6cb16da1d70",
      "value": " 12/12 [00:33&lt;00:00,  2.69s/it]"
     }
    },
    "f301e5cba1284e4cbef99d8b2f7d8d63": {
     "model_module": "@jupyter-widgets/controls",
     "model_module_version": "1.5.0",
     "model_name": "DescriptionStyleModel",
     "state": {
      "_model_module": "@jupyter-widgets/controls",
      "_model_module_version": "1.5.0",
      "_model_name": "DescriptionStyleModel",
      "_view_count": null,
      "_view_module": "@jupyter-widgets/base",
      "_view_module_version": "1.2.0",
      "_view_name": "StyleView",
      "description_width": ""
     }
    },
    "f4756de34c544da4a4c9ae031135989d": {
     "model_module": "@jupyter-widgets/controls",
     "model_module_version": "1.5.0",
     "model_name": "HTMLModel",
     "state": {
      "_dom_classes": [],
      "_model_module": "@jupyter-widgets/controls",
      "_model_module_version": "1.5.0",
      "_model_name": "HTMLModel",
      "_view_count": null,
      "_view_module": "@jupyter-widgets/controls",
      "_view_module_version": "1.5.0",
      "_view_name": "HTMLView",
      "description": "",
      "description_tooltip": null,
      "layout": "IPY_MODEL_8f2d3d36b1764bbe9e725bc78a9928e0",
      "placeholder": "​",
      "style": "IPY_MODEL_0283c207edfb4443bb207e5c4ef8ad7f",
      "value": "100%"
     }
    },
    "f7af3510e384496cb1b900ebbbd5c686": {
     "model_module": "@jupyter-widgets/controls",
     "model_module_version": "1.5.0",
     "model_name": "ProgressStyleModel",
     "state": {
      "_model_module": "@jupyter-widgets/controls",
      "_model_module_version": "1.5.0",
      "_model_name": "ProgressStyleModel",
      "_view_count": null,
      "_view_module": "@jupyter-widgets/base",
      "_view_module_version": "1.2.0",
      "_view_name": "StyleView",
      "bar_color": null,
      "description_width": ""
     }
    },
    "f8a76a205c594c8aba61d37273e11a55": {
     "model_module": "@jupyter-widgets/base",
     "model_module_version": "1.2.0",
     "model_name": "LayoutModel",
     "state": {
      "_model_module": "@jupyter-widgets/base",
      "_model_module_version": "1.2.0",
      "_model_name": "LayoutModel",
      "_view_count": null,
      "_view_module": "@jupyter-widgets/base",
      "_view_module_version": "1.2.0",
      "_view_name": "LayoutView",
      "align_content": null,
      "align_items": null,
      "align_self": null,
      "border": null,
      "bottom": null,
      "display": null,
      "flex": null,
      "flex_flow": null,
      "grid_area": null,
      "grid_auto_columns": null,
      "grid_auto_flow": null,
      "grid_auto_rows": null,
      "grid_column": null,
      "grid_gap": null,
      "grid_row": null,
      "grid_template_areas": null,
      "grid_template_columns": null,
      "grid_template_rows": null,
      "height": null,
      "justify_content": null,
      "justify_items": null,
      "left": null,
      "margin": null,
      "max_height": null,
      "max_width": null,
      "min_height": null,
      "min_width": null,
      "object_fit": null,
      "object_position": null,
      "order": null,
      "overflow": null,
      "overflow_x": null,
      "overflow_y": null,
      "padding": null,
      "right": null,
      "top": null,
      "visibility": null,
      "width": null
     }
    },
    "f900bbdd386f48adbbcf787b8f562fe7": {
     "model_module": "@jupyter-widgets/controls",
     "model_module_version": "1.5.0",
     "model_name": "HTMLModel",
     "state": {
      "_dom_classes": [],
      "_model_module": "@jupyter-widgets/controls",
      "_model_module_version": "1.5.0",
      "_model_name": "HTMLModel",
      "_view_count": null,
      "_view_module": "@jupyter-widgets/controls",
      "_view_module_version": "1.5.0",
      "_view_name": "HTMLView",
      "description": "",
      "description_tooltip": null,
      "layout": "IPY_MODEL_ee046689e0024738b0f5560adcfb0f9f",
      "placeholder": "​",
      "style": "IPY_MODEL_151ca9ab31a34dae89113590dc509d47",
      "value": " 12/12 [00:35&lt;00:00,  2.87s/it]"
     }
    },
    "fd899b82682c42c1ac38ed690e9b2cd1": {
     "model_module": "@jupyter-widgets/controls",
     "model_module_version": "1.5.0",
     "model_name": "DescriptionStyleModel",
     "state": {
      "_model_module": "@jupyter-widgets/controls",
      "_model_module_version": "1.5.0",
      "_model_name": "DescriptionStyleModel",
      "_view_count": null,
      "_view_module": "@jupyter-widgets/base",
      "_view_module_version": "1.2.0",
      "_view_name": "StyleView",
      "description_width": ""
     }
    }
   }
  }
 },
 "nbformat": 4,
 "nbformat_minor": 1
}
