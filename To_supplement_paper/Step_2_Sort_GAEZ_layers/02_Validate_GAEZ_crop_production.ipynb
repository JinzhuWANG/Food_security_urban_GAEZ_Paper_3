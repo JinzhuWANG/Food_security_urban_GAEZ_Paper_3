{
 "cells": [
  {
   "cell_type": "code",
   "execution_count": null,
   "metadata": {
    "id": "TGZ0EEaDVzNN"
   },
   "outputs": [],
   "source": []
  },
  {
   "cell_type": "code",
   "execution_count": 1,
   "metadata": {},
   "outputs": [],
   "source": [
    "import os\n",
    "os.environ['http_proxy'] = '127.0.0.1:7890'\n",
    "os.environ['https_proxy'] = '127.0.0.1:7890'"
   ]
  },
  {
   "cell_type": "code",
   "execution_count": null,
   "metadata": {},
   "outputs": [],
   "source": []
  },
  {
   "cell_type": "code",
   "execution_count": 2,
   "metadata": {
    "id": "RR_JtB_68agN"
   },
   "outputs": [],
   "source": [
    "import ee\n",
    "import pandas as pd\n",
    "import numpy as np\n",
    "import matplotlib.pyplot as plt\n",
    "import seaborn as sns\n",
    "\n",
    "import plotnine\n",
    "from plotnine import *\n",
    "\n",
    "import itertools\n",
    "import difflib\n",
    "import sys\n",
    "import os\n",
    "\n",
    "from tqdm.auto import tqdm\n",
    "from pprint import pprint\n",
    "\n",
    "from dfply import *\n",
    "\n",
    "# ! pip install geemap\n",
    "# import geemap"
   ]
  },
  {
   "cell_type": "code",
   "execution_count": 1,
   "metadata": {
    "executionInfo": {
     "elapsed": 404,
     "status": "ok",
     "timestamp": 1662961000731,
     "user": {
      "displayName": "王金柱",
      "userId": "07873343920934819946"
     },
     "user_tz": -480
    },
    "id": "c45wG1411dh5"
   },
   "outputs": [],
   "source": []
  },
  {
   "cell_type": "code",
   "execution_count": 3,
   "metadata": {
    "colab": {
     "base_uri": "https://localhost:8080/"
    },
    "executionInfo": {
     "elapsed": 18338,
     "status": "ok",
     "timestamp": 1662961019476,
     "user": {
      "displayName": "王金柱",
      "userId": "07873343920934819946"
     },
     "user_tz": -480
    },
    "id": "bgVBkU4fwPPW",
    "outputId": "4205d419-0706-4215-8448-82c01c672996"
   },
   "outputs": [],
   "source": [
    "# authenticate earthengine api\n",
    "ee.Initialize()"
   ]
  },
  {
   "cell_type": "code",
   "execution_count": null,
   "metadata": {
    "executionInfo": {
     "elapsed": 380,
     "status": "ok",
     "timestamp": 1662961022074,
     "user": {
      "displayName": "王金柱",
      "userId": "07873343920934819946"
     },
     "user_tz": -480
    },
    "id": "zsQVzazoC262"
   },
   "outputs": [],
   "source": []
  },
  {
   "cell_type": "code",
   "execution_count": 4,
   "metadata": {
    "executionInfo": {
     "elapsed": 2149,
     "status": "ok",
     "timestamp": 1662961048144,
     "user": {
      "displayName": "王金柱",
      "userId": "07873343920934819946"
     },
     "user_tz": -480
    },
    "id": "tImUgJgNG0Wm"
   },
   "outputs": [],
   "source": [
    "from Modules.Modules import get_img_df,filter_exclude, stats_GAEZ_Yearbook\n",
    "# might need reload modules as the code progrocessing\n",
    "%load_ext autoreload\n",
    "%autoreload 2"
   ]
  },
  {
   "cell_type": "code",
   "execution_count": null,
   "metadata": {
    "executionInfo": {
     "elapsed": 402,
     "status": "ok",
     "timestamp": 1662961050568,
     "user": {
      "displayName": "王金柱",
      "userId": "07873343920934819946"
     },
     "user_tz": -480
    },
    "id": "yVQd7KN2E0Wp"
   },
   "outputs": [],
   "source": []
  },
  {
   "cell_type": "code",
   "execution_count": 5,
   "metadata": {
    "executionInfo": {
     "elapsed": 6693,
     "status": "ok",
     "timestamp": 1662961057697,
     "user": {
      "displayName": "王金柱",
      "userId": "07873343920934819946"
     },
     "user_tz": -480
    },
    "id": "dCy39n848gC5"
   },
   "outputs": [],
   "source": [
    "# import GAEZ data from ee_asset\n",
    "GAEZ_list = ! earthengine ls users/wangjinzhulala/Paper_3/03_GAEZ"
   ]
  },
  {
   "cell_type": "code",
   "execution_count": null,
   "metadata": {
    "executionInfo": {
     "elapsed": 4,
     "status": "ok",
     "timestamp": 1662961057697,
     "user": {
      "displayName": "王金柱",
      "userId": "07873343920934819946"
     },
     "user_tz": -480
    },
    "id": "20JWyz7N68N5"
   },
   "outputs": [],
   "source": []
  },
  {
   "cell_type": "markdown",
   "metadata": {
    "id": "xS_XnQw4GKvh"
   },
   "source": [
    "### Validata the GAEZ data against Yearbook data"
   ]
  },
  {
   "cell_type": "code",
   "execution_count": null,
   "metadata": {
    "executionInfo": {
     "elapsed": 5,
     "status": "ok",
     "timestamp": 1662961057698,
     "user": {
      "displayName": "王金柱",
      "userId": "07873343920934819946"
     },
     "user_tz": -480
    },
    "id": "nil4jVxBEoxi"
   },
   "outputs": [],
   "source": []
  },
  {
   "cell_type": "code",
   "execution_count": null,
   "metadata": {},
   "outputs": [],
   "source": []
  },
  {
   "cell_type": "code",
   "execution_count": 9,
   "metadata": {},
   "outputs": [
    {
     "data": {
      "text/plain": [
       "['Anhui_crop_livestock_Production.xls',\n",
       " 'Beijing_crop_livestock_Production.xls',\n",
       " 'Hebei_crop_livestock_Production.xls',\n",
       " 'Henan_crop_livestock_Production.xls',\n",
       " 'Shandong_crop_livestock_Production.xls',\n",
       " 'Tianjin_crop_livestock_Production.xls']"
      ]
     },
     "execution_count": 9,
     "metadata": {},
     "output_type": "execute_result"
    }
   ],
   "source": [
    "yearbook_xls"
   ]
  },
  {
   "cell_type": "code",
   "execution_count": 13,
   "metadata": {
    "executionInfo": {
     "elapsed": 1733,
     "status": "ok",
     "timestamp": 1662961059427,
     "user": {
      "displayName": "王金柱",
      "userId": "07873343920934819946"
     },
     "user_tz": -480
    },
    "id": "EbIueFKhD4YV"
   },
   "outputs": [],
   "source": [
    "# import the admin boundary\n",
    "China_cities = ee.FeatureCollection(\"users/wangjinzhulala/China_Boundary/1_China_Cities_cn\")\n",
    "\n",
    "\n",
    "# import the yearbook as reference data\n",
    "yearbook_xls = os.listdir(\"../Data/06_Yearbook/Agricultural_production\")\n",
    "yearbook_xls = [i for i in yearbook_xls if '.xls' in i]\n",
    "\n",
    "# remove some incomplete records\n",
    "remove_recordes = ['Jiangsu']\n",
    "yearbook_xls = [i for i in yearbook_xls for j in remove_recordes if j not in i]\n",
    "\n",
    "# read as df\n",
    "yearbook_dfs = [pd.read_excel(f'../Data/06_Yearbook/Agricultural_production/{i}') for i in yearbook_xls]\n",
    "yearbook_df = pd.concat([i for i in yearbook_dfs],ignore_index=True)"
   ]
  },
  {
   "cell_type": "code",
   "execution_count": null,
   "metadata": {},
   "outputs": [],
   "source": []
  },
  {
   "cell_type": "code",
   "execution_count": null,
   "metadata": {
    "executionInfo": {
     "elapsed": 2,
     "status": "ok",
     "timestamp": 1662961061409,
     "user": {
      "displayName": "王金柱",
      "userId": "07873343920934819946"
     },
     "user_tz": -480
    },
    "id": "A5OB-1AaetAp"
   },
   "outputs": [],
   "source": []
  },
  {
   "cell_type": "markdown",
   "metadata": {
    "id": "v_CHdkz_rSHv"
   },
   "source": [
    "Validata the Actual crop production"
   ]
  },
  {
   "cell_type": "code",
   "execution_count": 14,
   "metadata": {
    "colab": {
     "base_uri": "https://localhost:8080/",
     "height": 238
    },
    "executionInfo": {
     "elapsed": 12,
     "status": "ok",
     "timestamp": 1662961061983,
     "user": {
      "displayName": "王金柱",
      "userId": "07873343920934819946"
     },
     "user_tz": -480
    },
    "id": "3n2ycDA6OIfV",
    "outputId": "06b46841-c667-47ee-fd52-01499539d3c8"
   },
   "outputs": [
    {
     "data": {
      "text/html": [
       "<div>\n",
       "<style scoped>\n",
       "    .dataframe tbody tr th:only-of-type {\n",
       "        vertical-align: middle;\n",
       "    }\n",
       "\n",
       "    .dataframe tbody tr th {\n",
       "        vertical-align: top;\n",
       "    }\n",
       "\n",
       "    .dataframe thead th {\n",
       "        text-align: right;\n",
       "    }\n",
       "</style>\n",
       "<table border=\"1\" class=\"dataframe\">\n",
       "  <thead>\n",
       "    <tr style=\"text-align: right;\">\n",
       "      <th></th>\n",
       "      <th>theme</th>\n",
       "      <th>variable</th>\n",
       "      <th>time</th>\n",
       "      <th>crop</th>\n",
       "      <th>water</th>\n",
       "      <th>GEE_path</th>\n",
       "    </tr>\n",
       "  </thead>\n",
       "  <tbody>\n",
       "    <tr>\n",
       "      <th>0</th>\n",
       "      <td>GAEZ_5</td>\n",
       "      <td>Production</td>\n",
       "      <td>2010</td>\n",
       "      <td>Maize</td>\n",
       "      <td>Total</td>\n",
       "      <td>projects/earthengine-legacy/assets/users/wangj...</td>\n",
       "    </tr>\n",
       "    <tr>\n",
       "      <th>1</th>\n",
       "      <td>GAEZ_5</td>\n",
       "      <td>Production</td>\n",
       "      <td>2010</td>\n",
       "      <td>Wetland_rice</td>\n",
       "      <td>Total</td>\n",
       "      <td>projects/earthengine-legacy/assets/users/wangj...</td>\n",
       "    </tr>\n",
       "    <tr>\n",
       "      <th>2</th>\n",
       "      <td>GAEZ_5</td>\n",
       "      <td>Production</td>\n",
       "      <td>2010</td>\n",
       "      <td>Wheat</td>\n",
       "      <td>Total</td>\n",
       "      <td>projects/earthengine-legacy/assets/users/wangj...</td>\n",
       "    </tr>\n",
       "    <tr>\n",
       "      <th>3</th>\n",
       "      <td>GAEZ_5</td>\n",
       "      <td>Production</td>\n",
       "      <td>2010</td>\n",
       "      <td>Soybean</td>\n",
       "      <td>Total</td>\n",
       "      <td>projects/earthengine-legacy/assets/users/wangj...</td>\n",
       "    </tr>\n",
       "    <tr>\n",
       "      <th>4</th>\n",
       "      <td>GAEZ_5</td>\n",
       "      <td>Production</td>\n",
       "      <td>2010</td>\n",
       "      <td>Potato</td>\n",
       "      <td>Total</td>\n",
       "      <td>projects/earthengine-legacy/assets/users/wangj...</td>\n",
       "    </tr>\n",
       "    <tr>\n",
       "      <th>5</th>\n",
       "      <td>GAEZ_5</td>\n",
       "      <td>Production</td>\n",
       "      <td>2010</td>\n",
       "      <td>Rapeseed</td>\n",
       "      <td>Total</td>\n",
       "      <td>projects/earthengine-legacy/assets/users/wangj...</td>\n",
       "    </tr>\n",
       "  </tbody>\n",
       "</table>\n",
       "</div>"
      ],
      "text/plain": [
       "    theme    variable  time          crop  water  \\\n",
       "0  GAEZ_5  Production  2010         Maize  Total   \n",
       "1  GAEZ_5  Production  2010  Wetland_rice  Total   \n",
       "2  GAEZ_5  Production  2010         Wheat  Total   \n",
       "3  GAEZ_5  Production  2010       Soybean  Total   \n",
       "4  GAEZ_5  Production  2010        Potato  Total   \n",
       "5  GAEZ_5  Production  2010      Rapeseed  Total   \n",
       "\n",
       "                                            GEE_path  \n",
       "0  projects/earthengine-legacy/assets/users/wangj...  \n",
       "1  projects/earthengine-legacy/assets/users/wangj...  \n",
       "2  projects/earthengine-legacy/assets/users/wangj...  \n",
       "3  projects/earthengine-legacy/assets/users/wangj...  \n",
       "4  projects/earthengine-legacy/assets/users/wangj...  \n",
       "5  projects/earthengine-legacy/assets/users/wangj...  "
      ]
     },
     "execution_count": 14,
     "metadata": {},
     "output_type": "execute_result"
    }
   ],
   "source": [
    "# filter the necessary img\n",
    "actual_production = get_img_df(img_path = GAEZ_list,\n",
    "                theme = 'GAEZ_5',\n",
    "                variable = 'Production',\n",
    "                time = '2010',\n",
    "                crop = ['Maize','Wetland_rice','Wheat','Soybean','Potato','Rapeseed'],\n",
    "                water = ['Total'])\n",
    "\n",
    "actual_production"
   ]
  },
  {
   "cell_type": "code",
   "execution_count": null,
   "metadata": {
    "id": "yCDiBSt9T01r"
   },
   "outputs": [],
   "source": []
  },
  {
   "cell_type": "markdown",
   "metadata": {
    "id": "Ep9KxXjoHikM"
   },
   "source": [
    "#### Plot the comparision"
   ]
  },
  {
   "cell_type": "code",
   "execution_count": 15,
   "metadata": {
    "colab": {
     "base_uri": "https://localhost:8080/",
     "height": 67,
     "referenced_widgets": [
      "0d080553d2334b90adc2349e5b936092",
      "31c4df5c077e4bc7b8d83db4c09250cd",
      "6644bca67abd4b2085b0734f7643f6c7",
      "31424e04dd0042828ee4f3b0bdcc9611",
      "93c83283be3e4cc0a82ac5b1c2fb6be0",
      "bb5437391d8940448890c3891765be91",
      "96fd32322f1242c98b3fdb11ad6b58a9",
      "0019cde401604130bd8c0053da260c96",
      "071e2517ca15413488421efb2d8f5a7d",
      "3ebb3bf1b4324a949d8273891c82162e",
      "03ab883b29164962989adfb647d142dd"
     ]
    },
    "executionInfo": {
     "elapsed": 53177,
     "status": "ok",
     "timestamp": 1659148098572,
     "user": {
      "displayName": "王金柱",
      "userId": "07873343920934819946"
     },
     "user_tz": -480
    },
    "id": "pEDD3UEbFzaV",
    "outputId": "0c8985aa-a9bb-4c4c-9bf6-d5740b42681e"
   },
   "outputs": [
    {
     "name": "stdout",
     "output_type": "stream",
     "text": [
      "The GEE_SHP has 64 coresponding records given 75 total yearbook records.\n"
     ]
    },
    {
     "data": {
      "application/vnd.jupyter.widget-view+json": {
       "model_id": "920d4cf0ed24487eb9f557252b7dedd5",
       "version_major": 2,
       "version_minor": 0
      },
      "text/plain": [
       "  0%|          | 0/6 [00:00<?, ?it/s]"
      ]
     },
     "metadata": {},
     "output_type": "display_data"
    }
   ],
   "source": [
    "# combine GAEZ_zonal stats with yearbook stats\n",
    "img_df_exp = stats_GAEZ_Yearbook(actual_production,yearbook_df,China_cities,1000)"
   ]
  },
  {
   "cell_type": "code",
   "execution_count": null,
   "metadata": {
    "id": "qVAYnR8qUPrS"
   },
   "outputs": [],
   "source": []
  },
  {
   "cell_type": "code",
   "execution_count": 16,
   "metadata": {
    "executionInfo": {
     "elapsed": 397,
     "status": "ok",
     "timestamp": 1662961066545,
     "user": {
      "displayName": "王金柱",
      "userId": "07873343920934819946"
     },
     "user_tz": -480
    },
    "id": "1lfcTSX3XIYU"
   },
   "outputs": [],
   "source": [
    "# # save df to disk\n",
    "# img_df_exp.to_csv('./result_csv/Validata_GAEZ_yearbook.csv',index=False)\n",
    "\n",
    "# read the df\n",
    "img_df_exp = pd.read_csv('./result_csv/Validata_GAEZ_yearbook.csv')\n",
    "# change the category order, which is used in the plot\n",
    "img_df_exp['crop'] = img_df_exp['crop'].astype('category')\\\n",
    "                      .cat.reorder_categories(['Maize', 'Wetland_rice', 'Wheat', 'Soybean', 'Potato', 'Rapeseed'])"
   ]
  },
  {
   "cell_type": "code",
   "execution_count": 8,
   "metadata": {
    "executionInfo": {
     "elapsed": 1,
     "status": "ok",
     "timestamp": 1662961068092,
     "user": {
      "displayName": "王金柱",
      "userId": "07873343920934819946"
     },
     "user_tz": -480
    },
    "id": "cciNXKHEXITa"
   },
   "outputs": [],
   "source": []
  },
  {
   "cell_type": "code",
   "execution_count": 17,
   "metadata": {
    "colab": {
     "base_uri": "https://localhost:8080/",
     "height": 700
    },
    "executionInfo": {
     "elapsed": 1473,
     "status": "ok",
     "timestamp": 1662961070004,
     "user": {
      "displayName": "王金柱",
      "userId": "07873343920934819946"
     },
     "user_tz": -480
    },
    "id": "GhbkgYpoF83a",
    "outputId": "ef0cc25c-a4e6-4134-93a2-2fe7eadeea11"
   },
   "outputs": [
    {
     "name": "stderr",
     "output_type": "stream",
     "text": [
      "C:\\ProgramData\\Miniconda3\\envs\\gis\\lib\\site-packages\\plotnine\\layer.py:364: PlotnineWarning: geom_point : Removed 38 rows containing missing values.\n"
     ]
    },
    {
     "data": {
      "image/png": "[encoded data removed]",
      "text/plain": [
       "<Figure size 1300x700 with 6 Axes>"
      ]
     },
     "metadata": {
      "image/png": {
       "height": 700,
       "width": 1300
      }
     },
     "output_type": "display_data"
    },
    {
     "data": {
      "text/plain": [
       "<Figure Size: (1300 x 700)>"
      ]
     },
     "execution_count": 17,
     "metadata": {},
     "output_type": "execute_result"
    }
   ],
   "source": [
    "plotnine.options.figure_size = (13,7)\n",
    "plotnine.options.dip = 200\n",
    "\n",
    "(ggplot(img_df_exp) +\n",
    " geom_point(aes('GAEZ','Yearbook'),alpha=0.6) +\n",
    " facet_wrap('~crop',nrow=2) +\n",
    " theme_bw() +\n",
    " theme(axis_text_x=element_text(rotation=30)))"
   ]
  },
  {
   "cell_type": "code",
   "execution_count": null,
   "metadata": {
    "id": "nGAWV5l19Z_T"
   },
   "outputs": [],
   "source": []
  },
  {
   "cell_type": "code",
   "execution_count": null,
   "metadata": {
    "id": "ok7LkI-p9Z9g"
   },
   "outputs": [],
   "source": []
  },
  {
   "cell_type": "code",
   "execution_count": null,
   "metadata": {
    "id": "S_FIF4jl9Z74"
   },
   "outputs": [],
   "source": []
  },
  {
   "cell_type": "code",
   "execution_count": null,
   "metadata": {
    "id": "IA3D6wWI9Z5V"
   },
   "outputs": [],
   "source": []
  },
  {
   "cell_type": "code",
   "execution_count": null,
   "metadata": {
    "id": "TjLk03I19Z3A"
   },
   "outputs": [],
   "source": []
  },
  {
   "cell_type": "code",
   "execution_count": null,
   "metadata": {
    "id": "dFMgaxht9Z0-"
   },
   "outputs": [],
   "source": []
  },
  {
   "cell_type": "code",
   "execution_count": null,
   "metadata": {
    "id": "ayvbNuVJ9Zyx"
   },
   "outputs": [],
   "source": []
  },
  {
   "cell_type": "code",
   "execution_count": null,
   "metadata": {
    "id": "nf1-HWem9ZxA"
   },
   "outputs": [],
   "source": []
  },
  {
   "cell_type": "code",
   "execution_count": null,
   "metadata": {
    "id": "34079ayp9Zu0"
   },
   "outputs": [],
   "source": []
  },
  {
   "cell_type": "code",
   "execution_count": null,
   "metadata": {
    "id": "aBJZIY4Y9Zsy"
   },
   "outputs": [],
   "source": []
  },
  {
   "cell_type": "code",
   "execution_count": null,
   "metadata": {
    "id": "i-HSE88o9Zq6"
   },
   "outputs": [],
   "source": []
  },
  {
   "cell_type": "code",
   "execution_count": null,
   "metadata": {
    "id": "tDJJsMN99Zow"
   },
   "outputs": [],
   "source": []
  },
  {
   "cell_type": "code",
   "execution_count": null,
   "metadata": {
    "id": "V8ArU_UP9Zmw"
   },
   "outputs": [],
   "source": []
  },
  {
   "cell_type": "code",
   "execution_count": null,
   "metadata": {
    "id": "6-I8OgVk9Zkg"
   },
   "outputs": [],
   "source": []
  },
  {
   "cell_type": "code",
   "execution_count": null,
   "metadata": {
    "id": "wq1VF2Gt9Zik"
   },
   "outputs": [],
   "source": []
  },
  {
   "cell_type": "code",
   "execution_count": null,
   "metadata": {
    "id": "yfwnkFL69Zgf"
   },
   "outputs": [],
   "source": []
  },
  {
   "cell_type": "code",
   "execution_count": null,
   "metadata": {
    "id": "D508O19f9Zed"
   },
   "outputs": [],
   "source": []
  },
  {
   "cell_type": "code",
   "execution_count": null,
   "metadata": {
    "id": "rxenttar9ZcZ"
   },
   "outputs": [],
   "source": []
  },
  {
   "cell_type": "code",
   "execution_count": null,
   "metadata": {
    "id": "_HXxUnH59Zae"
   },
   "outputs": [],
   "source": []
  },
  {
   "cell_type": "code",
   "execution_count": null,
   "metadata": {
    "id": "ImK4clfA9ZY8"
   },
   "outputs": [],
   "source": []
  },
  {
   "cell_type": "code",
   "execution_count": null,
   "metadata": {
    "id": "B-JJN-T69ZW6"
   },
   "outputs": [],
   "source": []
  },
  {
   "cell_type": "code",
   "execution_count": null,
   "metadata": {
    "id": "p-us_QfA9ZUq"
   },
   "outputs": [],
   "source": []
  },
  {
   "cell_type": "code",
   "execution_count": null,
   "metadata": {
    "id": "qNRZP_-B9ZS_"
   },
   "outputs": [],
   "source": []
  },
  {
   "cell_type": "code",
   "execution_count": null,
   "metadata": {
    "id": "Bfb2MnAF9ZQy"
   },
   "outputs": [],
   "source": []
  },
  {
   "cell_type": "code",
   "execution_count": null,
   "metadata": {
    "id": "L_73FcBI9ZOc"
   },
   "outputs": [],
   "source": []
  },
  {
   "cell_type": "code",
   "execution_count": null,
   "metadata": {
    "id": "3A6C0kpo9ZMK"
   },
   "outputs": [],
   "source": []
  },
  {
   "cell_type": "code",
   "execution_count": null,
   "metadata": {
    "id": "b6QTNwr5wLOo"
   },
   "outputs": [],
   "source": []
  },
  {
   "cell_type": "code",
   "execution_count": null,
   "metadata": {
    "id": "VJjUzEX18fgh"
   },
   "outputs": [],
   "source": []
  },
  {
   "cell_type": "code",
   "execution_count": null,
   "metadata": {
    "id": "-tA-4Doq8feS"
   },
   "outputs": [],
   "source": []
  }
 ],
 "metadata": {
  "colab": {
   "authorship_tag": "ABX9TyOdhcHg5nk+O5RZaniyVPy9",
   "collapsed_sections": [],
   "provenance": [],
   "toc_visible": true
  },
  "kernelspec": {
   "display_name": "Python 3 (ipykernel)",
   "language": "python",
   "name": "python3"
  },
  "language_info": {
   "codemirror_mode": {
    "name": "ipython",
    "version": 3
   },
   "file_extension": ".py",
   "mimetype": "text/x-python",
   "name": "python",
   "nbconvert_exporter": "python",
   "pygments_lexer": "ipython3",
   "version": "3.10.9"
  },
  "widgets": {
   "application/vnd.jupyter.widget-state+json": {
    "0019cde401604130bd8c0053da260c96": {
     "model_module": "@jupyter-widgets/base",
     "model_module_version": "1.2.0",
     "model_name": "LayoutModel",
     "state": {
      "_model_module": "@jupyter-widgets/base",
      "_model_module_version": "1.2.0",
      "_model_name": "LayoutModel",
      "_view_count": null,
      "_view_module": "@jupyter-widgets/base",
      "_view_module_version": "1.2.0",
      "_view_name": "LayoutView",
      "align_content": null,
      "align_items": null,
      "align_self": null,
      "border": null,
      "bottom": null,
      "display": null,
      "flex": null,
      "flex_flow": null,
      "grid_area": null,
      "grid_auto_columns": null,
      "grid_auto_flow": null,
      "grid_auto_rows": null,
      "grid_column": null,
      "grid_gap": null,
      "grid_row": null,
      "grid_template_areas": null,
      "grid_template_columns": null,
      "grid_template_rows": null,
      "height": null,
      "justify_content": null,
      "justify_items": null,
      "left": null,
      "margin": null,
      "max_height": null,
      "max_width": null,
      "min_height": null,
      "min_width": null,
      "object_fit": null,
      "object_position": null,
      "order": null,
      "overflow": null,
      "overflow_x": null,
      "overflow_y": null,
      "padding": null,
      "right": null,
      "top": null,
      "visibility": null,
      "width": null
     }
    },
    "03ab883b29164962989adfb647d142dd": {
     "model_module": "@jupyter-widgets/controls",
     "model_module_version": "1.5.0",
     "model_name": "DescriptionStyleModel",
     "state": {
      "_model_module": "@jupyter-widgets/controls",
      "_model_module_version": "1.5.0",
      "_model_name": "DescriptionStyleModel",
      "_view_count": null,
      "_view_module": "@jupyter-widgets/base",
      "_view_module_version": "1.2.0",
      "_view_name": "StyleView",
      "description_width": ""
     }
    },
    "071e2517ca15413488421efb2d8f5a7d": {
     "model_module": "@jupyter-widgets/controls",
     "model_module_version": "1.5.0",
     "model_name": "ProgressStyleModel",
     "state": {
      "_model_module": "@jupyter-widgets/controls",
      "_model_module_version": "1.5.0",
      "_model_name": "ProgressStyleModel",
      "_view_count": null,
      "_view_module": "@jupyter-widgets/base",
      "_view_module_version": "1.2.0",
      "_view_name": "StyleView",
      "bar_color": null,
      "description_width": ""
     }
    },
    "0d080553d2334b90adc2349e5b936092": {
     "model_module": "@jupyter-widgets/controls",
     "model_module_version": "1.5.0",
     "model_name": "HBoxModel",
     "state": {
      "_dom_classes": [],
      "_model_module": "@jupyter-widgets/controls",
      "_model_module_version": "1.5.0",
      "_model_name": "HBoxModel",
      "_view_count": null,
      "_view_module": "@jupyter-widgets/controls",
      "_view_module_version": "1.5.0",
      "_view_name": "HBoxView",
      "box_style": "",
      "children": [
       "IPY_MODEL_31c4df5c077e4bc7b8d83db4c09250cd",
       "IPY_MODEL_6644bca67abd4b2085b0734f7643f6c7",
       "IPY_MODEL_31424e04dd0042828ee4f3b0bdcc9611"
      ],
      "layout": "IPY_MODEL_93c83283be3e4cc0a82ac5b1c2fb6be0"
     }
    },
    "31424e04dd0042828ee4f3b0bdcc9611": {
     "model_module": "@jupyter-widgets/controls",
     "model_module_version": "1.5.0",
     "model_name": "HTMLModel",
     "state": {
      "_dom_classes": [],
      "_model_module": "@jupyter-widgets/controls",
      "_model_module_version": "1.5.0",
      "_model_name": "HTMLModel",
      "_view_count": null,
      "_view_module": "@jupyter-widgets/controls",
      "_view_module_version": "1.5.0",
      "_view_name": "HTMLView",
      "description": "",
      "description_tooltip": null,
      "layout": "IPY_MODEL_3ebb3bf1b4324a949d8273891c82162e",
      "placeholder": "​",
      "style": "IPY_MODEL_03ab883b29164962989adfb647d142dd",
      "value": " 6/6 [00:49&lt;00:00,  8.29s/it]"
     }
    },
    "31c4df5c077e4bc7b8d83db4c09250cd": {
     "model_module": "@jupyter-widgets/controls",
     "model_module_version": "1.5.0",
     "model_name": "HTMLModel",
     "state": {
      "_dom_classes": [],
      "_model_module": "@jupyter-widgets/controls",
      "_model_module_version": "1.5.0",
      "_model_name": "HTMLModel",
      "_view_count": null,
      "_view_module": "@jupyter-widgets/controls",
      "_view_module_version": "1.5.0",
      "_view_name": "HTMLView",
      "description": "",
      "description_tooltip": null,
      "layout": "IPY_MODEL_bb5437391d8940448890c3891765be91",
      "placeholder": "​",
      "style": "IPY_MODEL_96fd32322f1242c98b3fdb11ad6b58a9",
      "value": "100%"
     }
    },
    "3ebb3bf1b4324a949d8273891c82162e": {
     "model_module": "@jupyter-widgets/base",
     "model_module_version": "1.2.0",
     "model_name": "LayoutModel",
     "state": {
      "_model_module": "@jupyter-widgets/base",
      "_model_module_version": "1.2.0",
      "_model_name": "LayoutModel",
      "_view_count": null,
      "_view_module": "@jupyter-widgets/base",
      "_view_module_version": "1.2.0",
      "_view_name": "LayoutView",
      "align_content": null,
      "align_items": null,
      "align_self": null,
      "border": null,
      "bottom": null,
      "display": null,
      "flex": null,
      "flex_flow": null,
      "grid_area": null,
      "grid_auto_columns": null,
      "grid_auto_flow": null,
      "grid_auto_rows": null,
      "grid_column": null,
      "grid_gap": null,
      "grid_row": null,
      "grid_template_areas": null,
      "grid_template_columns": null,
      "grid_template_rows": null,
      "height": null,
      "justify_content": null,
      "justify_items": null,
      "left": null,
      "margin": null,
      "max_height": null,
      "max_width": null,
      "min_height": null,
      "min_width": null,
      "object_fit": null,
      "object_position": null,
      "order": null,
      "overflow": null,
      "overflow_x": null,
      "overflow_y": null,
      "padding": null,
      "right": null,
      "top": null,
      "visibility": null,
      "width": null
     }
    },
    "6644bca67abd4b2085b0734f7643f6c7": {
     "model_module": "@jupyter-widgets/controls",
     "model_module_version": "1.5.0",
     "model_name": "FloatProgressModel",
     "state": {
      "_dom_classes": [],
      "_model_module": "@jupyter-widgets/controls",
      "_model_module_version": "1.5.0",
      "_model_name": "FloatProgressModel",
      "_view_count": null,
      "_view_module": "@jupyter-widgets/controls",
      "_view_module_version": "1.5.0",
      "_view_name": "ProgressView",
      "bar_style": "success",
      "description": "",
      "description_tooltip": null,
      "layout": "IPY_MODEL_0019cde401604130bd8c0053da260c96",
      "max": 6,
      "min": 0,
      "orientation": "horizontal",
      "style": "IPY_MODEL_071e2517ca15413488421efb2d8f5a7d",
      "value": 6
     }
    },
    "93c83283be3e4cc0a82ac5b1c2fb6be0": {
     "model_module": "@jupyter-widgets/base",
     "model_module_version": "1.2.0",
     "model_name": "LayoutModel",
     "state": {
      "_model_module": "@jupyter-widgets/base",
      "_model_module_version": "1.2.0",
      "_model_name": "LayoutModel",
      "_view_count": null,
      "_view_module": "@jupyter-widgets/base",
      "_view_module_version": "1.2.0",
      "_view_name": "LayoutView",
      "align_content": null,
      "align_items": null,
      "align_self": null,
      "border": null,
      "bottom": null,
      "display": null,
      "flex": null,
      "flex_flow": null,
      "grid_area": null,
      "grid_auto_columns": null,
      "grid_auto_flow": null,
      "grid_auto_rows": null,
      "grid_column": null,
      "grid_gap": null,
      "grid_row": null,
      "grid_template_areas": null,
      "grid_template_columns": null,
      "grid_template_rows": null,
      "height": null,
      "justify_content": null,
      "justify_items": null,
      "left": null,
      "margin": null,
      "max_height": null,
      "max_width": null,
      "min_height": null,
      "min_width": null,
      "object_fit": null,
      "object_position": null,
      "order": null,
      "overflow": null,
      "overflow_x": null,
      "overflow_y": null,
      "padding": null,
      "right": null,
      "top": null,
      "visibility": null,
      "width": null
     }
    },
    "96fd32322f1242c98b3fdb11ad6b58a9": {
     "model_module": "@jupyter-widgets/controls",
     "model_module_version": "1.5.0",
     "model_name": "DescriptionStyleModel",
     "state": {
      "_model_module": "@jupyter-widgets/controls",
      "_model_module_version": "1.5.0",
      "_model_name": "DescriptionStyleModel",
      "_view_count": null,
      "_view_module": "@jupyter-widgets/base",
      "_view_module_version": "1.2.0",
      "_view_name": "StyleView",
      "description_width": ""
     }
    },
    "bb5437391d8940448890c3891765be91": {
     "model_module": "@jupyter-widgets/base",
     "model_module_version": "1.2.0",
     "model_name": "LayoutModel",
     "state": {
      "_model_module": "@jupyter-widgets/base",
      "_model_module_version": "1.2.0",
      "_model_name": "LayoutModel",
      "_view_count": null,
      "_view_module": "@jupyter-widgets/base",
      "_view_module_version": "1.2.0",
      "_view_name": "LayoutView",
      "align_content": null,
      "align_items": null,
      "align_self": null,
      "border": null,
      "bottom": null,
      "display": null,
      "flex": null,
      "flex_flow": null,
      "grid_area": null,
      "grid_auto_columns": null,
      "grid_auto_flow": null,
      "grid_auto_rows": null,
      "grid_column": null,
      "grid_gap": null,
      "grid_row": null,
      "grid_template_areas": null,
      "grid_template_columns": null,
      "grid_template_rows": null,
      "height": null,
      "justify_content": null,
      "justify_items": null,
      "left": null,
      "margin": null,
      "max_height": null,
      "max_width": null,
      "min_height": null,
      "min_width": null,
      "object_fit": null,
      "object_position": null,
      "order": null,
      "overflow": null,
      "overflow_x": null,
      "overflow_y": null,
      "padding": null,
      "right": null,
      "top": null,
      "visibility": null,
      "width": null
     }
    }
   }
  }
 },
 "nbformat": 4,
 "nbformat_minor": 1
}
