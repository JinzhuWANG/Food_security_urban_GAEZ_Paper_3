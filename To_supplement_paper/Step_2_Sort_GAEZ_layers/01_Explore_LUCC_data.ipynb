{
 "cells": [
  {
   "cell_type": "code",
   "execution_count": null,
   "id": "52ef552b",
   "metadata": {},
   "outputs": [],
   "source": []
  },
  {
   "cell_type": "code",
   "execution_count": 2,
   "id": "7986ce13",
   "metadata": {},
   "outputs": [],
   "source": [
    "import os\n",
    "os.environ['http_proxy'] = '127.0.0.1:7890'\n",
    "os.environ['https_proxy'] = '127.0.0.1:7890'"
   ]
  },
  {
   "cell_type": "code",
   "execution_count": null,
   "id": "2bec1c38",
   "metadata": {},
   "outputs": [],
   "source": []
  },
  {
   "cell_type": "code",
   "execution_count": null,
   "id": "e6b7c60a",
   "metadata": {},
   "outputs": [],
   "source": []
  },
  {
   "cell_type": "code",
   "execution_count": 7,
   "id": "26eab442",
   "metadata": {
    "executionInfo": {
     "elapsed": 3844,
     "status": "ok",
     "timestamp": 1668649756632,
     "user": {
      "displayName": "王金柱",
      "userId": "07873343920934819946"
     },
     "user_tz": -480
    },
    "id": "26eab442"
   },
   "outputs": [],
   "source": [
    "import ee\n",
    "import pandas as pd\n",
    "import numpy as np\n",
    "\n",
    "import sklearn\n",
    "from sklearn.metrics import confusion_matrix,accuracy_score\n",
    "\n",
    "import matplotlib.pyplot as plt\n",
    "import seaborn as sns\n",
    "\n",
    "import plotnine\n",
    "from plotnine import *\n",
    "\n",
    "from tqdm.auto import tqdm\n",
    "import os\n",
    "\n",
    "\n",
    "import geemap"
   ]
  },
  {
   "cell_type": "code",
   "execution_count": null,
   "id": "v2aJXSz-74El",
   "metadata": {
    "executionInfo": {
     "elapsed": 5,
     "status": "ok",
     "timestamp": 1668649765742,
     "user": {
      "displayName": "王金柱",
      "userId": "07873343920934819946"
     },
     "user_tz": -480
    },
    "id": "v2aJXSz-74El"
   },
   "outputs": [],
   "source": []
  },
  {
   "cell_type": "code",
   "execution_count": 4,
   "id": "5nHtTY6o73_I",
   "metadata": {
    "colab": {
     "base_uri": "https://localhost:8080/"
    },
    "executionInfo": {
     "elapsed": 35224,
     "status": "ok",
     "timestamp": 1668649800962,
     "user": {
      "displayName": "王金柱",
      "userId": "07873343920934819946"
     },
     "user_tz": -480
    },
    "id": "5nHtTY6o73_I",
    "outputId": "3d617e73-4c0e-42d9-9061-add6bb842d97"
   },
   "outputs": [],
   "source": [
    "# authenticate earthengine api\n",
    "ee.Initialize()"
   ]
  },
  {
   "cell_type": "code",
   "execution_count": null,
   "id": "AIm8g00qBPEE",
   "metadata": {
    "executionInfo": {
     "elapsed": 11,
     "status": "ok",
     "timestamp": 1668649800963,
     "user": {
      "displayName": "王金柱",
      "userId": "07873343920934819946"
     },
     "user_tz": -480
    },
    "id": "AIm8g00qBPEE"
   },
   "outputs": [],
   "source": []
  },
  {
   "cell_type": "code",
   "execution_count": null,
   "id": "0e0da183",
   "metadata": {
    "executionInfo": {
     "elapsed": 10,
     "status": "ok",
     "timestamp": 1668649800964,
     "user": {
      "displayName": "王金柱",
      "userId": "07873343920934819946"
     },
     "user_tz": -480
    },
    "id": "0e0da183"
   },
   "outputs": [],
   "source": []
  },
  {
   "cell_type": "code",
   "execution_count": 5,
   "id": "6fbf6f0f",
   "metadata": {
    "executionInfo": {
     "elapsed": 3,
     "status": "ok",
     "timestamp": 1668649802173,
     "user": {
      "displayName": "王金柱",
      "userId": "07873343920934819946"
     },
     "user_tz": -480
    },
    "id": "6fbf6f0f"
   },
   "outputs": [],
   "source": [
    "# import data from ee_asset\n",
    "\n",
    "# the mask of the research region, which make image process faster than a vector boundary\n",
    "region_mask = ee.Image(\"users/wangjinzhulala/North_China_Plain_Python/classification_img/Control_1990_1992/Control_1990_1992_0\").gte(0)\n",
    "\n",
    "# the LUCC of China, import as a dictionary\n",
    "LUCC_China = {f'lucc_{year}':ee.Image(f\"users/wangjinzhulala/Paper_3/01_LUCC_1990_2019_china/CLCD_v01_{year}\") for year in range(1990,2020)}\n",
    "\n",
    "# my built_up data\n",
    "built_up_NCP = ee.Image(\"users/wangjinzhulala/North_China_Plain_Python/classificatioin_temporal_checked/Mosaic_only_forward\")\n",
    "\n",
    "# my built_up data from the whole China region\n",
    "built_up_china = ee.Image(\"users/wangjinzhulala/China_built_up/06_temporal_corrected_classification/Mosaic_only_forward_China_huadong_sample_ensemble\").rename('b1')\n",
    "\n",
    "# the cropland_China data\n",
    "cropland_China = {f'crop_{year}':ee.Image(f\"users/wangjinzhulala/Paper_3/02_cropland_5km_China/Cropland_5km_{year}\") for year in range(1990,2017)}"
   ]
  },
  {
   "cell_type": "code",
   "execution_count": null,
   "id": "VVjcRXj9SY9l",
   "metadata": {
    "id": "VVjcRXj9SY9l"
   },
   "outputs": [],
   "source": []
  },
  {
   "cell_type": "code",
   "execution_count": 10,
   "id": "n25lHRb_QSEZ",
   "metadata": {
    "id": "n25lHRb_QSEZ"
   },
   "outputs": [
    {
     "ename": "TraitError",
     "evalue": "The 'east' trait of a Map instance expected a float, not the NoneType None.",
     "output_type": "error",
     "traceback": [
      "\u001b[1;31m---------------------------------------------------------------------------\u001b[0m",
      "\u001b[1;31mTraitError\u001b[0m                                Traceback (most recent call last)",
      "File \u001b[1;32mC:\\ProgramData\\Miniconda3\\envs\\gis\\lib\\site-packages\\ipywidgets\\widgets\\widget.py:676\u001b[0m, in \u001b[0;36mWidget._handle_msg\u001b[1;34m(self, msg)\u001b[0m\n\u001b[0;32m    674\u001b[0m         \u001b[38;5;28;01mif\u001b[39;00m \u001b[38;5;124m'\u001b[39m\u001b[38;5;124mbuffer_paths\u001b[39m\u001b[38;5;124m'\u001b[39m \u001b[38;5;129;01min\u001b[39;00m data:\n\u001b[0;32m    675\u001b[0m             _put_buffers(state, data[\u001b[38;5;124m'\u001b[39m\u001b[38;5;124mbuffer_paths\u001b[39m\u001b[38;5;124m'\u001b[39m], msg[\u001b[38;5;124m'\u001b[39m\u001b[38;5;124mbuffers\u001b[39m\u001b[38;5;124m'\u001b[39m])\n\u001b[1;32m--> 676\u001b[0m         \u001b[38;5;28;43mself\u001b[39;49m\u001b[38;5;241;43m.\u001b[39;49m\u001b[43mset_state\u001b[49m\u001b[43m(\u001b[49m\u001b[43mstate\u001b[49m\u001b[43m)\u001b[49m\n\u001b[0;32m    678\u001b[0m \u001b[38;5;66;03m# Handle a state request.\u001b[39;00m\n\u001b[0;32m    679\u001b[0m \u001b[38;5;28;01melif\u001b[39;00m method \u001b[38;5;241m==\u001b[39m \u001b[38;5;124m'\u001b[39m\u001b[38;5;124mrequest_state\u001b[39m\u001b[38;5;124m'\u001b[39m:\n",
      "File \u001b[1;32mC:\\ProgramData\\Miniconda3\\envs\\gis\\lib\\site-packages\\ipywidgets\\widgets\\widget.py:545\u001b[0m, in \u001b[0;36mWidget.set_state\u001b[1;34m(self, sync_data)\u001b[0m\n\u001b[0;32m    542\u001b[0m \u001b[38;5;28;01mif\u001b[39;00m name \u001b[38;5;129;01min\u001b[39;00m \u001b[38;5;28mself\u001b[39m\u001b[38;5;241m.\u001b[39mkeys:\n\u001b[0;32m    543\u001b[0m     from_json \u001b[38;5;241m=\u001b[39m \u001b[38;5;28mself\u001b[39m\u001b[38;5;241m.\u001b[39mtrait_metadata(name, \u001b[38;5;124m'\u001b[39m\u001b[38;5;124mfrom_json\u001b[39m\u001b[38;5;124m'\u001b[39m,\n\u001b[0;32m    544\u001b[0m                                     \u001b[38;5;28mself\u001b[39m\u001b[38;5;241m.\u001b[39m_trait_from_json)\n\u001b[1;32m--> 545\u001b[0m     \u001b[38;5;28;43mself\u001b[39;49m\u001b[38;5;241;43m.\u001b[39;49m\u001b[43mset_trait\u001b[49m\u001b[43m(\u001b[49m\u001b[43mname\u001b[49m\u001b[43m,\u001b[49m\u001b[43m \u001b[49m\u001b[43mfrom_json\u001b[49m\u001b[43m(\u001b[49m\u001b[43msync_data\u001b[49m\u001b[43m[\u001b[49m\u001b[43mname\u001b[49m\u001b[43m]\u001b[49m\u001b[43m,\u001b[49m\u001b[43m \u001b[49m\u001b[38;5;28;43mself\u001b[39;49m\u001b[43m)\u001b[49m\u001b[43m)\u001b[49m\n",
      "File \u001b[1;32mC:\\ProgramData\\Miniconda3\\envs\\gis\\lib\\site-packages\\traitlets\\traitlets.py:1738\u001b[0m, in \u001b[0;36mHasTraits.set_trait\u001b[1;34m(self, name, value)\u001b[0m\n\u001b[0;32m   1736\u001b[0m     \u001b[38;5;28;01mraise\u001b[39;00m TraitError(\u001b[38;5;124mf\u001b[39m\u001b[38;5;124m\"\u001b[39m\u001b[38;5;124mClass \u001b[39m\u001b[38;5;132;01m{\u001b[39;00m\u001b[38;5;28mcls\u001b[39m\u001b[38;5;241m.\u001b[39m\u001b[38;5;18m__name__\u001b[39m\u001b[38;5;132;01m}\u001b[39;00m\u001b[38;5;124m does not have a trait named \u001b[39m\u001b[38;5;132;01m{\u001b[39;00mname\u001b[38;5;132;01m}\u001b[39;00m\u001b[38;5;124m\"\u001b[39m)\n\u001b[0;32m   1737\u001b[0m \u001b[38;5;28;01melse\u001b[39;00m:\n\u001b[1;32m-> 1738\u001b[0m     \u001b[38;5;28;43mgetattr\u001b[39;49m\u001b[43m(\u001b[49m\u001b[38;5;28;43mcls\u001b[39;49m\u001b[43m,\u001b[49m\u001b[43m \u001b[49m\u001b[43mname\u001b[49m\u001b[43m)\u001b[49m\u001b[38;5;241;43m.\u001b[39;49m\u001b[43mset\u001b[49m\u001b[43m(\u001b[49m\u001b[38;5;28;43mself\u001b[39;49m\u001b[43m,\u001b[49m\u001b[43m \u001b[49m\u001b[43mvalue\u001b[49m\u001b[43m)\u001b[49m\n",
      "File \u001b[1;32mC:\\ProgramData\\Miniconda3\\envs\\gis\\lib\\site-packages\\traitlets\\traitlets.py:703\u001b[0m, in \u001b[0;36mTraitType.set\u001b[1;34m(self, obj, value)\u001b[0m\n\u001b[0;32m    702\u001b[0m \u001b[38;5;28;01mdef\u001b[39;00m \u001b[38;5;21mset\u001b[39m(\u001b[38;5;28mself\u001b[39m, obj, value):\n\u001b[1;32m--> 703\u001b[0m     new_value \u001b[38;5;241m=\u001b[39m \u001b[38;5;28;43mself\u001b[39;49m\u001b[38;5;241;43m.\u001b[39;49m\u001b[43m_validate\u001b[49m\u001b[43m(\u001b[49m\u001b[43mobj\u001b[49m\u001b[43m,\u001b[49m\u001b[43m \u001b[49m\u001b[43mvalue\u001b[49m\u001b[43m)\u001b[49m\n\u001b[0;32m    704\u001b[0m     \u001b[38;5;28;01mtry\u001b[39;00m:\n\u001b[0;32m    705\u001b[0m         old_value \u001b[38;5;241m=\u001b[39m obj\u001b[38;5;241m.\u001b[39m_trait_values[\u001b[38;5;28mself\u001b[39m\u001b[38;5;241m.\u001b[39mname]\n",
      "File \u001b[1;32mC:\\ProgramData\\Miniconda3\\envs\\gis\\lib\\site-packages\\traitlets\\traitlets.py:735\u001b[0m, in \u001b[0;36mTraitType._validate\u001b[1;34m(self, obj, value)\u001b[0m\n\u001b[0;32m    733\u001b[0m     \u001b[38;5;28;01mreturn\u001b[39;00m value\n\u001b[0;32m    734\u001b[0m \u001b[38;5;28;01mif\u001b[39;00m \u001b[38;5;28mhasattr\u001b[39m(\u001b[38;5;28mself\u001b[39m, \u001b[38;5;124m\"\u001b[39m\u001b[38;5;124mvalidate\u001b[39m\u001b[38;5;124m\"\u001b[39m):\n\u001b[1;32m--> 735\u001b[0m     value \u001b[38;5;241m=\u001b[39m \u001b[38;5;28;43mself\u001b[39;49m\u001b[38;5;241;43m.\u001b[39;49m\u001b[43mvalidate\u001b[49m\u001b[43m(\u001b[49m\u001b[43mobj\u001b[49m\u001b[43m,\u001b[49m\u001b[43m \u001b[49m\u001b[43mvalue\u001b[49m\u001b[43m)\u001b[49m\n\u001b[0;32m    736\u001b[0m \u001b[38;5;28;01mif\u001b[39;00m obj\u001b[38;5;241m.\u001b[39m_cross_validation_lock \u001b[38;5;129;01mis\u001b[39;00m \u001b[38;5;28;01mFalse\u001b[39;00m:\n\u001b[0;32m    737\u001b[0m     value \u001b[38;5;241m=\u001b[39m \u001b[38;5;28mself\u001b[39m\u001b[38;5;241m.\u001b[39m_cross_validate(obj, value)\n",
      "File \u001b[1;32mC:\\ProgramData\\Miniconda3\\envs\\gis\\lib\\site-packages\\traitlets\\traitlets.py:2417\u001b[0m, in \u001b[0;36mFloat.validate\u001b[1;34m(self, obj, value)\u001b[0m\n\u001b[0;32m   2415\u001b[0m     value \u001b[38;5;241m=\u001b[39m \u001b[38;5;28mfloat\u001b[39m(value)\n\u001b[0;32m   2416\u001b[0m \u001b[38;5;28;01mif\u001b[39;00m \u001b[38;5;129;01mnot\u001b[39;00m \u001b[38;5;28misinstance\u001b[39m(value, \u001b[38;5;28mfloat\u001b[39m):\n\u001b[1;32m-> 2417\u001b[0m     \u001b[38;5;28;43mself\u001b[39;49m\u001b[38;5;241;43m.\u001b[39;49m\u001b[43merror\u001b[49m\u001b[43m(\u001b[49m\u001b[43mobj\u001b[49m\u001b[43m,\u001b[49m\u001b[43m \u001b[49m\u001b[43mvalue\u001b[49m\u001b[43m)\u001b[49m\n\u001b[0;32m   2418\u001b[0m \u001b[38;5;28;01mreturn\u001b[39;00m _validate_bounds(\u001b[38;5;28mself\u001b[39m, obj, value)\n",
      "File \u001b[1;32mC:\\ProgramData\\Miniconda3\\envs\\gis\\lib\\site-packages\\traitlets\\traitlets.py:841\u001b[0m, in \u001b[0;36mTraitType.error\u001b[1;34m(self, obj, value, error, info)\u001b[0m\n\u001b[0;32m    835\u001b[0m \u001b[38;5;28;01melse\u001b[39;00m:\n\u001b[0;32m    836\u001b[0m     e \u001b[38;5;241m=\u001b[39m \u001b[38;5;124m\"\u001b[39m\u001b[38;5;124mThe \u001b[39m\u001b[38;5;124m'\u001b[39m\u001b[38;5;132;01m{}\u001b[39;00m\u001b[38;5;124m'\u001b[39m\u001b[38;5;124m trait expected \u001b[39m\u001b[38;5;132;01m{}\u001b[39;00m\u001b[38;5;124m, not \u001b[39m\u001b[38;5;132;01m{}\u001b[39;00m\u001b[38;5;124m.\u001b[39m\u001b[38;5;124m\"\u001b[39m\u001b[38;5;241m.\u001b[39mformat(\n\u001b[0;32m    837\u001b[0m         \u001b[38;5;28mself\u001b[39m\u001b[38;5;241m.\u001b[39mname,\n\u001b[0;32m    838\u001b[0m         \u001b[38;5;28mself\u001b[39m\u001b[38;5;241m.\u001b[39minfo(),\n\u001b[0;32m    839\u001b[0m         describe(\u001b[38;5;124m\"\u001b[39m\u001b[38;5;124mthe\u001b[39m\u001b[38;5;124m\"\u001b[39m, value),\n\u001b[0;32m    840\u001b[0m     )\n\u001b[1;32m--> 841\u001b[0m \u001b[38;5;28;01mraise\u001b[39;00m TraitError(e)\n",
      "\u001b[1;31mTraitError\u001b[0m: The 'east' trait of a Map instance expected a float, not the NoneType None."
     ]
    }
   ],
   "source": [
    "# Map = geemap.Map()\n",
    "# Map.addLayer(built_up_china,{'min':0,'max':10})\n",
    "# Map"
   ]
  },
  {
   "cell_type": "code",
   "execution_count": null,
   "id": "e1ebd174",
   "metadata": {},
   "outputs": [],
   "source": []
  },
  {
   "cell_type": "code",
   "execution_count": null,
   "id": "1yGe5LRYQSCC",
   "metadata": {
    "id": "1yGe5LRYQSCC"
   },
   "outputs": [],
   "source": []
  },
  {
   "cell_type": "markdown",
   "id": "jO7QjLkRKeCA",
   "metadata": {
    "id": "jO7QjLkRKeCA"
   },
   "source": [
    "### Compare the area of the North China Plain and China_built_all"
   ]
  },
  {
   "cell_type": "code",
   "execution_count": null,
   "id": "ts73YQWXKeme",
   "metadata": {
    "id": "ts73YQWXKeme"
   },
   "outputs": [],
   "source": []
  },
  {
   "cell_type": "code",
   "execution_count": 11,
   "id": "8573f632",
   "metadata": {
    "id": "8573f632"
   },
   "outputs": [],
   "source": [
    "# compute the statistic of LUCC image in the reserach region\n",
    "\n",
    "def compute_stats(img):\n",
    "  # first updata the image with the region_mask\n",
    "  img = img.mask(region_mask)\n",
    "  # then compute stats\n",
    "  stats = img.reduceRegion(reducer = ee.Reducer.frequencyHistogram(), \n",
    "                geometry = region_mask.geometry().bounds(), \n",
    "                scale = 30, \n",
    "                maxPixels = int(1e13), \n",
    "                tileScale = 2).getInfo()['b1']\n",
    "                \n",
    "  # remove background stats ('0')              \n",
    "  if '0' in stats.keys():\n",
    "    stats.pop('0') \n",
    "  \n",
    "  # return stats\n",
    "  return stats"
   ]
  },
  {
   "cell_type": "code",
   "execution_count": null,
   "id": "3b4e8d09",
   "metadata": {
    "id": "3b4e8d09"
   },
   "outputs": [],
   "source": []
  },
  {
   "cell_type": "code",
   "execution_count": 12,
   "id": "iht2IPSj8gz3",
   "metadata": {
    "id": "iht2IPSj8gz3"
   },
   "outputs": [
    {
     "data": {
      "application/vnd.jupyter.widget-view+json": {
       "model_id": "7de550f526894050b0715ba1f36a2275",
       "version_major": 2,
       "version_minor": 0
      },
      "text/plain": [
       "  0%|          | 0/30 [00:00<?, ?it/s]"
      ]
     },
     "metadata": {},
     "output_type": "display_data"
    }
   ],
   "source": [
    "# get all stats from lucc_imgs\n",
    "lucc_stats = {int(k[5:]):compute_stats(LUCC_China[k]) for k in tqdm(LUCC_China.keys(),position=0, leave=True)}\n",
    "\n",
    "# transforme stats to df\n",
    "lucc_stats_df = pd.DataFrame(lucc_stats).T\n",
    "lucc_stats_df.index.name = 'year'\n",
    "lucc_stats_df.reset_index(inplace=True)\n",
    "\n",
    "# compute the stats in my research\n",
    "built_up_NCP_stats = pd.DataFrame({int(k):[v] for k,v in compute_stats(built_up_NCP).items()}).T\n",
    "built_up_NCP_stats['year'] = 2019 - (np.array(built_up_NCP_stats.index)-1) * 3\n",
    "built_up_NCP_stats = built_up_NCP_stats.sort_values('year')\n",
    "built_up_NCP_stats['count'] = built_up_NCP_stats[0].cumsum()\n",
    "\n",
    "# compute the stats in my research of China_built_all dataset\n",
    "built_up_NCP_China_stats = pd.DataFrame({int(k):[v] for k,v in compute_stats(built_up_china).items()}).T\n",
    "built_up_NCP_China_stats['year'] = 2019 - (np.array(built_up_NCP_China_stats.index)-1) * 3\n",
    "built_up_NCP_China_stats = built_up_NCP_China_stats.sort_values('year')\n",
    "built_up_NCP_China_stats['count'] = built_up_NCP_China_stats[0].cumsum()"
   ]
  },
  {
   "cell_type": "code",
   "execution_count": null,
   "id": "pGBgKIfO6P5J",
   "metadata": {
    "id": "pGBgKIfO6P5J"
   },
   "outputs": [],
   "source": []
  },
  {
   "cell_type": "code",
   "execution_count": null,
   "id": "fIeTEhxrpbwA",
   "metadata": {
    "id": "fIeTEhxrpbwA"
   },
   "outputs": [],
   "source": [
    "# save/read df to disk\n",
    "lucc_stats_df.to_csv('./result_csv/Pix_count_lucc_china.csv',index=False)\n",
    "built_up_NCP_stats.to_csv('./result_csv/Pix_count_built_up_NCP.csv',index=False)\n",
    "built_up_NCP_China_stats.to_csv('./result_csv/Pix_count_built_up_NCP_China_stats.csv',index=False)\n",
    "\n",
    "lucc_stats_df = pd.read_csv('./result_csv/Pix_count_lucc_china.csv')\n",
    "built_up_NCP_stats = pd.read_csv('./result_csv/Pix_count_built_up_NCP.csv')\n",
    "built_up_NCP_China_stats = pd.read_csv('./result_csv/Pix_count_built_up_NCP_China_stats.csv')"
   ]
  },
  {
   "cell_type": "code",
   "execution_count": null,
   "id": "uwn35YH2qQSl",
   "metadata": {
    "id": "uwn35YH2qQSl"
   },
   "outputs": [],
   "source": []
  },
  {
   "cell_type": "code",
   "execution_count": null,
   "id": "4uG2iypoS3QU",
   "metadata": {
    "id": "4uG2iypoS3QU"
   },
   "outputs": [],
   "source": []
  },
  {
   "cell_type": "code",
   "execution_count": null,
   "id": "2ezBaubsc2ZZ",
   "metadata": {
    "colab": {
     "base_uri": "https://localhost:8080/",
     "height": 594
    },
    "executionInfo": {
     "elapsed": 972,
     "status": "ok",
     "timestamp": 1649207898728,
     "user": {
      "displayName": "王金柱",
      "userId": "07873343920934819946"
     },
     "user_tz": -480
    },
    "id": "2ezBaubsc2ZZ",
    "outputId": "0cedc0dd-a085-4260-e771-a3558de90363"
   },
   "outputs": [
    {
     "name": "stderr",
     "output_type": "stream",
     "text": [
      "/usr/local/lib/python3.7/dist-packages/plotnine/utils.py:1246: FutureWarning: is_categorical is deprecated and will be removed in a future version.  Use is_categorical_dtype instead\n",
      "  if pdtypes.is_categorical(arr):\n"
     ]
    },
    {
     "data": {
      "image/png": "[encoded data removed]",
      "text/plain": [
       "<Figure size 1000x600 with 1 Axes>"
      ]
     },
     "metadata": {},
     "output_type": "display_data"
    },
    {
     "data": {
      "text/plain": [
       "<ggplot: (8772893541801)>"
      ]
     },
     "execution_count": 9,
     "metadata": {},
     "output_type": "execute_result"
    }
   ],
   "source": [
    "plotnine.options.figure_size = (10,6)\n",
    "plotnine.options.dip = 200\n",
    "\n",
    "(ggplot() +\n",
    " geom_line(built_up_NCP_stats,aes('year','count',color=['NCP'])) +\n",
    " geom_line(built_up_NCP_China_stats,aes('year','count',color=['NCP_China'])) +\n",
    " geom_line(lucc_stats_df,aes('year','8',color=['NCP_LUCC'])) +\n",
    " scale_y_log10() +\n",
    " theme_bw() +\n",
    " theme(legend_title=element_blank())\n",
    " )"
   ]
  },
  {
   "cell_type": "code",
   "execution_count": null,
   "id": "W00i4rP2ikQk",
   "metadata": {
    "id": "W00i4rP2ikQk"
   },
   "outputs": [],
   "source": []
  },
  {
   "cell_type": "markdown",
   "id": "-h4JEkWsjtNy",
   "metadata": {
    "id": "-h4JEkWsjtNy"
   },
   "source": [
    "### Project to the future"
   ]
  },
  {
   "cell_type": "code",
   "execution_count": null,
   "id": "cEZ0OeZtcLpS",
   "metadata": {
    "colab": {
     "base_uri": "https://localhost:8080/"
    },
    "executionInfo": {
     "elapsed": 343,
     "status": "ok",
     "timestamp": 1649207939108,
     "user": {
      "displayName": "王金柱",
      "userId": "07873343920934819946"
     },
     "user_tz": -480
    },
    "id": "cEZ0OeZtcLpS",
    "outputId": "8017e44a-bac4-4855-b65a-29e57dc6c2ee"
   },
   "outputs": [
    {
     "name": "stderr",
     "output_type": "stream",
     "text": [
      "/usr/local/lib/python3.7/dist-packages/ipykernel_launcher.py:10: RuntimeWarning: overflow encountered in exp\n",
      "  # Remove the CWD from sys.path while we load stuff.\n"
     ]
    }
   ],
   "source": [
    "from sklearn.linear_model import LinearRegression\n",
    "import scipy\n",
    "\n",
    "# 1) fit built_up_NCP_stats\n",
    "\n",
    "x = built_up_NCP_stats['year'].values\n",
    "y = built_up_NCP_stats['count'].values\n",
    "\n",
    "# fit the urban pixel count, note the p0 were created from additional Excel Trend Line\n",
    "coef,_ = scipy.optimize.curve_fit(lambda t,a,b: a*np.exp(b*t), x, y, p0=[1e-30,0.04])\n",
    "\n",
    "# get the coefficients\n",
    "fit_val   = coef[0]*np.exp(coef[1]*x)\n",
    "fit_val_ext = coef[0]*np.exp(coef[1]*np.arange(1990,2030))\n",
    "\n",
    "\n",
    "\n",
    "# 2) fit built_up_NCP_China_stats\n",
    "X = built_up_NCP_China_stats['year'].values.reshape(-1,1)\n",
    "Y = built_up_NCP_China_stats['count'].values.reshape(-1,1)\n",
    "\n",
    "reg = LinearRegression().fit(X, y)\n",
    "fit_NCP_China = reg.predict(np.arange(1990,2030).reshape(-1,1))"
   ]
  },
  {
   "cell_type": "code",
   "execution_count": null,
   "id": "ziz3rmg1i3zn",
   "metadata": {
    "id": "ziz3rmg1i3zn"
   },
   "outputs": [],
   "source": []
  },
  {
   "cell_type": "code",
   "execution_count": null,
   "id": "fFFd79epP-5X",
   "metadata": {
    "id": "fFFd79epP-5X"
   },
   "outputs": [],
   "source": []
  },
  {
   "cell_type": "code",
   "execution_count": null,
   "id": "Ar9TFeodi3pY",
   "metadata": {
    "colab": {
     "base_uri": "https://localhost:8080/",
     "height": 546
    },
    "executionInfo": {
     "elapsed": 1135,
     "status": "ok",
     "timestamp": 1649207944820,
     "user": {
      "displayName": "王金柱",
      "userId": "07873343920934819946"
     },
     "user_tz": -480
    },
    "id": "Ar9TFeodi3pY",
    "outputId": "0f13b008-07c0-4db2-ebe0-2b8c7ba3965d"
   },
   "outputs": [
    {
     "data": {
      "text/plain": [
       "<matplotlib.axes._subplots.AxesSubplot at 0x7fa992e177d0>"
      ]
     },
     "execution_count": 11,
     "metadata": {},
     "output_type": "execute_result"
    },
    {
     "data": {
      "image/png": "[encoded data removed]",
      "text/plain": [
       "<Figure size 1000x600 with 1 Axes>"
      ]
     },
     "metadata": {
      "needs_background": "light"
     },
     "output_type": "display_data"
    }
   ],
   "source": [
    "plt.figure(figsize=(10,6),dpi=100)\n",
    "\n",
    "sns.lineplot(x=np.arange(1990,2030),y=fit_val_ext,color='#2c7fb7',label='NCP')\n",
    "sns.scatterplot(x=x,y=y,color='#2c7fb7')\n",
    "\n",
    "sns.lineplot(x=np.arange(1990,2030),y=fit_NCP_China.reshape(-1),color='#ff871f',label='NCP_China')\n",
    "sns.scatterplot(x=X.reshape(-1),y=Y.reshape(-1),color='#ff871f')"
   ]
  },
  {
   "cell_type": "code",
   "execution_count": null,
   "id": "0_te1mPJQS6t",
   "metadata": {
    "id": "0_te1mPJQS6t"
   },
   "outputs": [],
   "source": []
  },
  {
   "cell_type": "code",
   "execution_count": null,
   "id": "Wwt-kNeCQS4H",
   "metadata": {
    "id": "Wwt-kNeCQS4H"
   },
   "outputs": [],
   "source": []
  },
  {
   "cell_type": "code",
   "execution_count": null,
   "id": "A__M7nrjqX1L",
   "metadata": {
    "id": "A__M7nrjqX1L"
   },
   "outputs": [],
   "source": []
  },
  {
   "cell_type": "markdown",
   "id": "KS9iI_d9dBSM",
   "metadata": {
    "id": "KS9iI_d9dBSM"
   },
   "source": [
    "### Compute the accuracy"
   ]
  },
  {
   "cell_type": "code",
   "execution_count": null,
   "id": "-Mm43M_ewYSs",
   "metadata": {
    "id": "-Mm43M_ewYSs"
   },
   "outputs": [],
   "source": [
    "# evaluate an img using control samples\n",
    "def eval_img(img,fe_col,eval_property = 'Built',img_property = 'b1'):\n",
    "  ext_val = ee.Image(img).sampleRegions(\n",
    "      collection = fe_col, \n",
    "      properties = [eval_property], \n",
    "      scale = 30,\n",
    "      geometries = False).getInfo()\n",
    "\n",
    "  eval_df = pd.DataFrame([i['properties'] for i in ext_val['features']])\n",
    "\n",
    "  error_mat = confusion_matrix(eval_df[eval_property],eval_df[img_property])\n",
    "  acc    = accuracy_score(eval_df[eval_property],eval_df[img_property]) * 100\n",
    "  hit    = error_mat[1,1]/(error_mat[1,1] + error_mat[1,0]) * 100\n",
    "\n",
    "  return acc,hit"
   ]
  },
  {
   "cell_type": "code",
   "execution_count": null,
   "id": "m4D3TQcFwY9V",
   "metadata": {
    "id": "m4D3TQcFwY9V"
   },
   "outputs": [],
   "source": []
  },
  {
   "cell_type": "code",
   "execution_count": null,
   "id": "QbFgfjbl8gdo",
   "metadata": {
    "id": "QbFgfjbl8gdo"
   },
   "outputs": [],
   "source": [
    "# get eval samples from ee_asset\n",
    "eval_samples = ! earthengine ls users/wangjinzhulala/China_built_up/04_sample_train_test_split\n",
    "eval_samples = [i for i in eval_samples if 'Grid' in i]"
   ]
  },
  {
   "cell_type": "code",
   "execution_count": null,
   "id": "6bhL1gnP1lX4",
   "metadata": {
    "id": "6bhL1gnP1lX4"
   },
   "outputs": [],
   "source": []
  },
  {
   "cell_type": "code",
   "execution_count": null,
   "id": "hLRSR6oN8gbt",
   "metadata": {
    "colab": {
     "base_uri": "https://localhost:8080/",
     "height": 49,
     "referenced_widgets": [
      "98a426bf4b0b4980aa93ff2a78d5da5a",
      "eddbd1d9ae6f4a3d8afb3074087b214a",
      "34442cc173a4408daf843bfff0ba0bfe",
      "5431dc3e6d92420da1b2d2713ce4ba57",
      "f605d9c55b5f437582a2d59223f0b413",
      "473acdbbd3bb4ba89eed3fecc2e7236a",
      "5b7063d40f3f42c3ba01aedcd8820036",
      "2b25171e7c8b4ddcab9e52dda6e33499",
      "b89ac787be714866869b7e99590449c5",
      "13d1a8e83498404f8f2679999d56008d",
      "f3ef91d3299147c995507c1163aa0d68"
     ]
    },
    "executionInfo": {
     "elapsed": 489567,
     "status": "ok",
     "timestamp": 1649208456293,
     "user": {
      "displayName": "王金柱",
      "userId": "07873343920934819946"
     },
     "user_tz": -480
    },
    "id": "hLRSR6oN8gbt",
    "outputId": "30586109-5c9f-4177-c68e-9e3e660f622d"
   },
   "outputs": [
    {
     "data": {
      "application/vnd.jupyter.widget-view+json": {
       "model_id": "98a426bf4b0b4980aa93ff2a78d5da5a",
       "version_major": 2,
       "version_minor": 0
      },
      "text/plain": [
       "  0%|          | 0/10 [00:00<?, ?it/s]"
      ]
     },
     "metadata": {},
     "output_type": "display_data"
    }
   ],
   "source": [
    "# merge all samples in the same year_range\n",
    "year_range = [f\"{i}_{i+2}\" for i in range(1990,2020,3)]\n",
    "metics = {}\n",
    "\n",
    "\n",
    "# loop through each year\n",
    "for idx,year in tqdm(enumerate(year_range),total=len(year_range)):\n",
    "\n",
    "  # get imgs\n",
    "  img_built_china = built_up_china.gte(10 - idx)\n",
    "  img_lucc_china = LUCC_China[f'lucc_{year[-4:]}'].eq(8)\n",
    "\n",
    "  # loop through each region\n",
    "  samples_year = [i for i in eval_samples if year in i]\n",
    "  fe_col = ee.FeatureCollection([])\n",
    "  for fe in samples_year:\n",
    "    fe_col = fe_col.merge(fe)\n",
    "\n",
    "  # evaluate the img quanliy using metrics\n",
    "  acc_built_china,hit_built_china = eval_img(img_built_china,fe_col)\n",
    "  acc_lucc_china,hit_lucc_china = eval_img(img_lucc_china,fe_col)\n",
    "\n",
    "  # report and store data\n",
    "  metics[(year,'Built_China')] = {'ACC':acc_built_china, 'Hit':hit_built_china}\n",
    "  metics[(year,'LUCC_China')] = {'ACC':acc_lucc_china, 'Hit':hit_lucc_china}"
   ]
  },
  {
   "cell_type": "code",
   "execution_count": null,
   "id": "W6Z8NNCd0jOW",
   "metadata": {
    "id": "W6Z8NNCd0jOW"
   },
   "outputs": [],
   "source": []
  },
  {
   "cell_type": "code",
   "execution_count": null,
   "id": "Wt1-jD3p0u2p",
   "metadata": {
    "id": "Wt1-jD3p0u2p"
   },
   "outputs": [],
   "source": [
    "# # reshape and save df\n",
    "# metrics_df = pd.DataFrame(metics).T.reset_index()\n",
    "# metrics_df.columns = ['year','type','ACC','Hit']\n",
    "\n",
    "# metrics_df_stack = metrics_df.set_index(['year','type']).stack().reset_index()\n",
    "# metrics_df_stack.columns = ['year','type','metric','val']\n",
    "# metrics_df_stack['year'] = metrics_df_stack['year'].astype('category')\n",
    "# metrics_df_stack['year_code'] =  metrics_df_stack['year'].cat.codes\n",
    "\n",
    "# # save df\n",
    "# metrics_df_stack.to_csv('./result_csv/Built_China_accuracy.csv',index=False)"
   ]
  },
  {
   "cell_type": "code",
   "execution_count": null,
   "id": "gpxtglQXUeiI",
   "metadata": {
    "id": "gpxtglQXUeiI"
   },
   "outputs": [],
   "source": []
  },
  {
   "cell_type": "code",
   "execution_count": 8,
   "id": "n2JD2bDER7u-",
   "metadata": {
    "colab": {
     "base_uri": "https://localhost:8080/",
     "height": 206
    },
    "executionInfo": {
     "elapsed": 11,
     "status": "ok",
     "timestamp": 1668649929791,
     "user": {
      "displayName": "王金柱",
      "userId": "07873343920934819946"
     },
     "user_tz": -480
    },
    "id": "n2JD2bDER7u-",
    "outputId": "b534e9f4-e846-4565-93d5-8443b10d271d"
   },
   "outputs": [
    {
     "data": {
      "text/html": [
       "\n",
       "  <div id=\"df-112615ca-1bfd-44f4-b58d-8e5b61541dbc\">\n",
       "    <div class=\"colab-df-container\">\n",
       "      <div>\n",
       "<style scoped>\n",
       "    .dataframe tbody tr th:only-of-type {\n",
       "        vertical-align: middle;\n",
       "    }\n",
       "\n",
       "    .dataframe tbody tr th {\n",
       "        vertical-align: top;\n",
       "    }\n",
       "\n",
       "    .dataframe thead th {\n",
       "        text-align: right;\n",
       "    }\n",
       "</style>\n",
       "<table border=\"1\" class=\"dataframe\">\n",
       "  <thead>\n",
       "    <tr style=\"text-align: right;\">\n",
       "      <th></th>\n",
       "      <th>year</th>\n",
       "      <th>type</th>\n",
       "      <th>metric</th>\n",
       "      <th>val</th>\n",
       "      <th>year_code</th>\n",
       "      <th>year_int</th>\n",
       "    </tr>\n",
       "  </thead>\n",
       "  <tbody>\n",
       "    <tr>\n",
       "      <th>0</th>\n",
       "      <td>1990_1992</td>\n",
       "      <td>Built_China</td>\n",
       "      <td>ACC</td>\n",
       "      <td>94.000945</td>\n",
       "      <td>0</td>\n",
       "      <td>1992</td>\n",
       "    </tr>\n",
       "    <tr>\n",
       "      <th>1</th>\n",
       "      <td>1990_1992</td>\n",
       "      <td>Built_China</td>\n",
       "      <td>Hit</td>\n",
       "      <td>88.096363</td>\n",
       "      <td>0</td>\n",
       "      <td>1992</td>\n",
       "    </tr>\n",
       "    <tr>\n",
       "      <th>2</th>\n",
       "      <td>1990_1992</td>\n",
       "      <td>LUCC_China</td>\n",
       "      <td>ACC</td>\n",
       "      <td>88.568729</td>\n",
       "      <td>0</td>\n",
       "      <td>1992</td>\n",
       "    </tr>\n",
       "    <tr>\n",
       "      <th>3</th>\n",
       "      <td>1990_1992</td>\n",
       "      <td>LUCC_China</td>\n",
       "      <td>Hit</td>\n",
       "      <td>78.129428</td>\n",
       "      <td>0</td>\n",
       "      <td>1992</td>\n",
       "    </tr>\n",
       "    <tr>\n",
       "      <th>4</th>\n",
       "      <td>1993_1995</td>\n",
       "      <td>Built_China</td>\n",
       "      <td>ACC</td>\n",
       "      <td>94.544166</td>\n",
       "      <td>1</td>\n",
       "      <td>1995</td>\n",
       "    </tr>\n",
       "  </tbody>\n",
       "</table>\n",
       "</div>\n",
       "      <button class=\"colab-df-convert\" onclick=\"convertToInteractive('df-112615ca-1bfd-44f4-b58d-8e5b61541dbc')\"\n",
       "              title=\"Convert this dataframe to an interactive table.\"\n",
       "              style=\"display:none;\">\n",
       "        \n",
       "  <svg xmlns=\"http://www.w3.org/2000/svg\" height=\"24px\"viewBox=\"0 0 24 24\"\n",
       "       width=\"24px\">\n",
       "    <path d=\"M0 0h24v24H0V0z\" fill=\"none\"/>\n",
       "    <path d=\"M18.56 5.44l.94 2.06.94-2.06 2.06-.94-2.06-.94-.94-2.06-.94 2.06-2.06.94zm-11 1L8.5 8.5l.94-2.06 2.06-.94-2.06-.94L8.5 2.5l-.94 2.06-2.06.94zm10 10l.94 2.06.94-2.06 2.06-.94-2.06-.94-.94-2.06-.94 2.06-2.06.94z\"/><path d=\"M17.41 7.96l-1.37-1.37c-.4-.4-.92-.59-1.43-.59-.52 0-1.04.2-1.43.59L10.3 9.45l-7.72 7.72c-.78.78-.78 2.05 0 2.83L4 21.41c.39.39.9.59 1.41.59.51 0 1.02-.2 1.41-.59l7.78-7.78 2.81-2.81c.8-.78.8-2.07 0-2.86zM5.41 20L4 18.59l7.72-7.72 1.47 1.35L5.41 20z\"/>\n",
       "  </svg>\n",
       "      </button>\n",
       "      \n",
       "  <style>\n",
       "    .colab-df-container {\n",
       "      display:flex;\n",
       "      flex-wrap:wrap;\n",
       "      gap: 12px;\n",
       "    }\n",
       "\n",
       "    .colab-df-convert {\n",
       "      background-color: #E8F0FE;\n",
       "      border: none;\n",
       "      border-radius: 50%;\n",
       "      cursor: pointer;\n",
       "      display: none;\n",
       "      fill: #1967D2;\n",
       "      height: 32px;\n",
       "      padding: 0 0 0 0;\n",
       "      width: 32px;\n",
       "    }\n",
       "\n",
       "    .colab-df-convert:hover {\n",
       "      background-color: #E2EBFA;\n",
       "      box-shadow: 0px 1px 2px rgba(60, 64, 67, 0.3), 0px 1px 3px 1px rgba(60, 64, 67, 0.15);\n",
       "      fill: #174EA6;\n",
       "    }\n",
       "\n",
       "    [theme=dark] .colab-df-convert {\n",
       "      background-color: #3B4455;\n",
       "      fill: #D2E3FC;\n",
       "    }\n",
       "\n",
       "    [theme=dark] .colab-df-convert:hover {\n",
       "      background-color: #434B5C;\n",
       "      box-shadow: 0px 1px 3px 1px rgba(0, 0, 0, 0.15);\n",
       "      filter: drop-shadow(0px 1px 2px rgba(0, 0, 0, 0.3));\n",
       "      fill: #FFFFFF;\n",
       "    }\n",
       "  </style>\n",
       "\n",
       "      <script>\n",
       "        const buttonEl =\n",
       "          document.querySelector('#df-112615ca-1bfd-44f4-b58d-8e5b61541dbc button.colab-df-convert');\n",
       "        buttonEl.style.display =\n",
       "          google.colab.kernel.accessAllowed ? 'block' : 'none';\n",
       "\n",
       "        async function convertToInteractive(key) {\n",
       "          const element = document.querySelector('#df-112615ca-1bfd-44f4-b58d-8e5b61541dbc');\n",
       "          const dataTable =\n",
       "            await google.colab.kernel.invokeFunction('convertToInteractive',\n",
       "                                                     [key], {});\n",
       "          if (!dataTable) return;\n",
       "\n",
       "          const docLinkHtml = 'Like what you see? Visit the ' +\n",
       "            '<a target=\"_blank\" href=https://colab.research.google.com/notebooks/data_table.ipynb>data table notebook</a>'\n",
       "            + ' to learn more about interactive tables.';\n",
       "          element.innerHTML = '';\n",
       "          dataTable['output_type'] = 'display_data';\n",
       "          await google.colab.output.renderOutput(dataTable, element);\n",
       "          const docLink = document.createElement('div');\n",
       "          docLink.innerHTML = docLinkHtml;\n",
       "          element.appendChild(docLink);\n",
       "        }\n",
       "      </script>\n",
       "    </div>\n",
       "  </div>\n",
       "  "
      ],
      "text/plain": [
       "        year         type metric        val  year_code  year_int\n",
       "0  1990_1992  Built_China    ACC  94.000945          0      1992\n",
       "1  1990_1992  Built_China    Hit  88.096363          0      1992\n",
       "2  1990_1992   LUCC_China    ACC  88.568729          0      1992\n",
       "3  1990_1992   LUCC_China    Hit  78.129428          0      1992\n",
       "4  1993_1995  Built_China    ACC  94.544166          1      1995"
      ]
     },
     "execution_count": 8,
     "metadata": {},
     "output_type": "execute_result"
    }
   ],
   "source": [
    "# read data\n",
    "metrics_df_stack = pd.read_csv('./result_csv/Built_China_accuracy.csv')\n",
    "metrics_df_stack['year_int'] = metrics_df_stack['year'].apply(lambda x:int(x[-4:]))\n",
    "metrics_df_stack.head()"
   ]
  },
  {
   "cell_type": "code",
   "execution_count": 5,
   "id": "v9NYpkkHUef3",
   "metadata": {
    "executionInfo": {
     "elapsed": 16,
     "status": "ok",
     "timestamp": 1668649837593,
     "user": {
      "displayName": "王金柱",
      "userId": "07873343920934819946"
     },
     "user_tz": -480
    },
    "id": "v9NYpkkHUef3"
   },
   "outputs": [],
   "source": []
  },
  {
   "cell_type": "code",
   "execution_count": null,
   "id": "h7BGvgNzhQqC",
   "metadata": {
    "id": "h7BGvgNzhQqC"
   },
   "outputs": [],
   "source": []
  },
  {
   "cell_type": "code",
   "execution_count": 35,
   "id": "1IAnPyvvRhAC",
   "metadata": {
    "colab": {
     "base_uri": "https://localhost:8080/",
     "height": 753
    },
    "executionInfo": {
     "elapsed": 1021,
     "status": "ok",
     "timestamp": 1668653883883,
     "user": {
      "displayName": "王金柱",
      "userId": "07873343920934819946"
     },
     "user_tz": -480
    },
    "id": "1IAnPyvvRhAC",
    "outputId": "0c97dabb-f2ea-40ac-cafe-67e49f9794c4"
   },
   "outputs": [
    {
     "data": {
      "image/png": "[encoded data removed]",
      "text/plain": [
       "<Figure size 500x800 with 2 Axes>"
      ]
     },
     "metadata": {},
     "output_type": "display_data"
    },
    {
     "data": {
      "text/plain": [
       "<ggplot: (8791370310661)>"
      ]
     },
     "execution_count": 35,
     "metadata": {},
     "output_type": "execute_result"
    }
   ],
   "source": [
    "plotnine.options.figure_size = (5,8)\n",
    "plotnine.options.dip = 300\n",
    "\n",
    "g = (ggplot(metrics_df_stack) +\n",
    " geom_line(aes(x='year_int',y='val',color='type')) +\n",
    " facet_wrap('metric',nrow=2,labeller = as_labeller({'ACC':'Overall Accuracy','Hit':'Hit rate'})) +\n",
    " scale_x_continuous(breaks=range(1990,2021,5)) +\n",
    " xlab('year') +\n",
    " ylab('Accueary (%)') +\n",
    " scale_color_discrete(labels = ['Our urban layers','Yang and Huang (2021)']) +\n",
    " theme_bw(base_size=12) +\n",
    " theme(axis_text_x=element_text(rotation=30),legend_title=element_blank())\n",
    " )\n",
    "\n",
    "g"
   ]
  },
  {
   "cell_type": "code",
   "execution_count": 35,
   "id": "FL5b5QxAfD_l",
   "metadata": {
    "executionInfo": {
     "elapsed": 567,
     "status": "ok",
     "timestamp": 1668653888395,
     "user": {
      "displayName": "王金柱",
      "userId": "07873343920934819946"
     },
     "user_tz": -480
    },
    "id": "FL5b5QxAfD_l"
   },
   "outputs": [],
   "source": []
  },
  {
   "cell_type": "code",
   "execution_count": 36,
   "id": "njnKyeFkUaL_",
   "metadata": {
    "colab": {
     "base_uri": "https://localhost:8080/"
    },
    "executionInfo": {
     "elapsed": 2,
     "status": "ok",
     "timestamp": 1668653889102,
     "user": {
      "displayName": "王金柱",
      "userId": "07873343920934819946"
     },
     "user_tz": -480
    },
    "id": "njnKyeFkUaL_",
    "outputId": "8c258d79-63b8-4f5c-aee7-fe6d0d053d7b"
   },
   "outputs": [
    {
     "name": "stderr",
     "output_type": "stream",
     "text": [
      "/usr/local/lib/python3.7/dist-packages/plotnine/ggplot.py:721: PlotnineWarning: Saving 5 x 8 in image.\n",
      "/usr/local/lib/python3.7/dist-packages/plotnine/ggplot.py:722: PlotnineWarning: Filename: /content/sup_6_urban_acc_compare.svg\n"
     ]
    }
   ],
   "source": [
    "g.save('/content/sup_6_urban_acc_compare.svg')"
   ]
  },
  {
   "cell_type": "code",
   "execution_count": null,
   "id": "dCxVgvicQ-Ej",
   "metadata": {
    "id": "dCxVgvicQ-Ej"
   },
   "outputs": [],
   "source": []
  },
  {
   "cell_type": "code",
   "execution_count": null,
   "id": "IpgvZs-vU-xC",
   "metadata": {
    "id": "IpgvZs-vU-xC"
   },
   "outputs": [],
   "source": []
  },
  {
   "cell_type": "code",
   "execution_count": null,
   "id": "obNLFCM8U-up",
   "metadata": {
    "id": "obNLFCM8U-up"
   },
   "outputs": [],
   "source": []
  },
  {
   "cell_type": "code",
   "execution_count": null,
   "id": "jSTPe1YrU-q5",
   "metadata": {
    "id": "jSTPe1YrU-q5"
   },
   "outputs": [],
   "source": []
  },
  {
   "cell_type": "code",
   "execution_count": null,
   "id": "63VasTh8U-o_",
   "metadata": {
    "id": "63VasTh8U-o_"
   },
   "outputs": [],
   "source": []
  },
  {
   "cell_type": "code",
   "execution_count": null,
   "id": "LqMLsVYFU-nE",
   "metadata": {
    "id": "LqMLsVYFU-nE"
   },
   "outputs": [],
   "source": []
  },
  {
   "cell_type": "code",
   "execution_count": null,
   "id": "pw65J0RqU-lC",
   "metadata": {
    "id": "pw65J0RqU-lC"
   },
   "outputs": [],
   "source": []
  },
  {
   "cell_type": "code",
   "execution_count": null,
   "id": "KN3fTvJXU-i_",
   "metadata": {
    "id": "KN3fTvJXU-i_"
   },
   "outputs": [],
   "source": []
  },
  {
   "cell_type": "code",
   "execution_count": null,
   "id": "2N-XFxHnU-g5",
   "metadata": {
    "id": "2N-XFxHnU-g5"
   },
   "outputs": [],
   "source": []
  },
  {
   "cell_type": "code",
   "execution_count": null,
   "id": "URKV6Lqlz4En",
   "metadata": {
    "id": "URKV6Lqlz4En"
   },
   "outputs": [],
   "source": []
  },
  {
   "cell_type": "code",
   "execution_count": null,
   "id": "365mwHTPz4Co",
   "metadata": {
    "id": "365mwHTPz4Co"
   },
   "outputs": [],
   "source": []
  },
  {
   "cell_type": "code",
   "execution_count": null,
   "id": "6qKUQVS_z4Ad",
   "metadata": {
    "id": "6qKUQVS_z4Ad"
   },
   "outputs": [],
   "source": []
  },
  {
   "cell_type": "code",
   "execution_count": null,
   "id": "-Cs_axZiz3-S",
   "metadata": {
    "id": "-Cs_axZiz3-S"
   },
   "outputs": [],
   "source": []
  },
  {
   "cell_type": "code",
   "execution_count": null,
   "id": "cbhXATlhz38B",
   "metadata": {
    "id": "cbhXATlhz38B"
   },
   "outputs": [],
   "source": []
  },
  {
   "cell_type": "code",
   "execution_count": null,
   "id": "yWoSvTp-mjqf",
   "metadata": {
    "id": "yWoSvTp-mjqf"
   },
   "outputs": [],
   "source": []
  },
  {
   "cell_type": "code",
   "execution_count": null,
   "id": "YsNc-MZ0mjoh",
   "metadata": {
    "id": "YsNc-MZ0mjoh"
   },
   "outputs": [],
   "source": []
  },
  {
   "cell_type": "code",
   "execution_count": null,
   "id": "Jplguevgmjmi",
   "metadata": {
    "id": "Jplguevgmjmi"
   },
   "outputs": [],
   "source": []
  },
  {
   "cell_type": "code",
   "execution_count": null,
   "id": "EcyLYVg0mjkT",
   "metadata": {
    "id": "EcyLYVg0mjkT"
   },
   "outputs": [],
   "source": []
  }
 ],
 "metadata": {
  "colab": {
   "machine_shape": "hm",
   "provenance": []
  },
  "kernelspec": {
   "display_name": "Python 3 (ipykernel)",
   "language": "python",
   "name": "python3"
  },
  "language_info": {
   "codemirror_mode": {
    "name": "ipython",
    "version": 3
   },
   "file_extension": ".py",
   "mimetype": "text/x-python",
   "name": "python",
   "nbconvert_exporter": "python",
   "pygments_lexer": "ipython3",
   "version": "3.10.9"
  },
  "widgets": {
   "application/vnd.jupyter.widget-state+json": {
    "13d1a8e83498404f8f2679999d56008d": {
     "model_module": "@jupyter-widgets/base",
     "model_module_version": "1.2.0",
     "model_name": "LayoutModel",
     "state": {
      "_model_module": "@jupyter-widgets/base",
      "_model_module_version": "1.2.0",
      "_model_name": "LayoutModel",
      "_view_count": null,
      "_view_module": "@jupyter-widgets/base",
      "_view_module_version": "1.2.0",
      "_view_name": "LayoutView",
      "align_content": null,
      "align_items": null,
      "align_self": null,
      "border": null,
      "bottom": null,
      "display": null,
      "flex": null,
      "flex_flow": null,
      "grid_area": null,
      "grid_auto_columns": null,
      "grid_auto_flow": null,
      "grid_auto_rows": null,
      "grid_column": null,
      "grid_gap": null,
      "grid_row": null,
      "grid_template_areas": null,
      "grid_template_columns": null,
      "grid_template_rows": null,
      "height": null,
      "justify_content": null,
      "justify_items": null,
      "left": null,
      "margin": null,
      "max_height": null,
      "max_width": null,
      "min_height": null,
      "min_width": null,
      "object_fit": null,
      "object_position": null,
      "order": null,
      "overflow": null,
      "overflow_x": null,
      "overflow_y": null,
      "padding": null,
      "right": null,
      "top": null,
      "visibility": null,
      "width": null
     }
    },
    "2b25171e7c8b4ddcab9e52dda6e33499": {
     "model_module": "@jupyter-widgets/base",
     "model_module_version": "1.2.0",
     "model_name": "LayoutModel",
     "state": {
      "_model_module": "@jupyter-widgets/base",
      "_model_module_version": "1.2.0",
      "_model_name": "LayoutModel",
      "_view_count": null,
      "_view_module": "@jupyter-widgets/base",
      "_view_module_version": "1.2.0",
      "_view_name": "LayoutView",
      "align_content": null,
      "align_items": null,
      "align_self": null,
      "border": null,
      "bottom": null,
      "display": null,
      "flex": null,
      "flex_flow": null,
      "grid_area": null,
      "grid_auto_columns": null,
      "grid_auto_flow": null,
      "grid_auto_rows": null,
      "grid_column": null,
      "grid_gap": null,
      "grid_row": null,
      "grid_template_areas": null,
      "grid_template_columns": null,
      "grid_template_rows": null,
      "height": null,
      "justify_content": null,
      "justify_items": null,
      "left": null,
      "margin": null,
      "max_height": null,
      "max_width": null,
      "min_height": null,
      "min_width": null,
      "object_fit": null,
      "object_position": null,
      "order": null,
      "overflow": null,
      "overflow_x": null,
      "overflow_y": null,
      "padding": null,
      "right": null,
      "top": null,
      "visibility": null,
      "width": null
     }
    },
    "34442cc173a4408daf843bfff0ba0bfe": {
     "model_module": "@jupyter-widgets/controls",
     "model_module_version": "1.5.0",
     "model_name": "FloatProgressModel",
     "state": {
      "_dom_classes": [],
      "_model_module": "@jupyter-widgets/controls",
      "_model_module_version": "1.5.0",
      "_model_name": "FloatProgressModel",
      "_view_count": null,
      "_view_module": "@jupyter-widgets/controls",
      "_view_module_version": "1.5.0",
      "_view_name": "ProgressView",
      "bar_style": "success",
      "description": "",
      "description_tooltip": null,
      "layout": "IPY_MODEL_2b25171e7c8b4ddcab9e52dda6e33499",
      "max": 10,
      "min": 0,
      "orientation": "horizontal",
      "style": "IPY_MODEL_b89ac787be714866869b7e99590449c5",
      "value": 10
     }
    },
    "473acdbbd3bb4ba89eed3fecc2e7236a": {
     "model_module": "@jupyter-widgets/base",
     "model_module_version": "1.2.0",
     "model_name": "LayoutModel",
     "state": {
      "_model_module": "@jupyter-widgets/base",
      "_model_module_version": "1.2.0",
      "_model_name": "LayoutModel",
      "_view_count": null,
      "_view_module": "@jupyter-widgets/base",
      "_view_module_version": "1.2.0",
      "_view_name": "LayoutView",
      "align_content": null,
      "align_items": null,
      "align_self": null,
      "border": null,
      "bottom": null,
      "display": null,
      "flex": null,
      "flex_flow": null,
      "grid_area": null,
      "grid_auto_columns": null,
      "grid_auto_flow": null,
      "grid_auto_rows": null,
      "grid_column": null,
      "grid_gap": null,
      "grid_row": null,
      "grid_template_areas": null,
      "grid_template_columns": null,
      "grid_template_rows": null,
      "height": null,
      "justify_content": null,
      "justify_items": null,
      "left": null,
      "margin": null,
      "max_height": null,
      "max_width": null,
      "min_height": null,
      "min_width": null,
      "object_fit": null,
      "object_position": null,
      "order": null,
      "overflow": null,
      "overflow_x": null,
      "overflow_y": null,
      "padding": null,
      "right": null,
      "top": null,
      "visibility": null,
      "width": null
     }
    },
    "5431dc3e6d92420da1b2d2713ce4ba57": {
     "model_module": "@jupyter-widgets/controls",
     "model_module_version": "1.5.0",
     "model_name": "HTMLModel",
     "state": {
      "_dom_classes": [],
      "_model_module": "@jupyter-widgets/controls",
      "_model_module_version": "1.5.0",
      "_model_name": "HTMLModel",
      "_view_count": null,
      "_view_module": "@jupyter-widgets/controls",
      "_view_module_version": "1.5.0",
      "_view_name": "HTMLView",
      "description": "",
      "description_tooltip": null,
      "layout": "IPY_MODEL_13d1a8e83498404f8f2679999d56008d",
      "placeholder": "​",
      "style": "IPY_MODEL_f3ef91d3299147c995507c1163aa0d68",
      "value": " 10/10 [08:09&lt;00:00, 49.87s/it]"
     }
    },
    "5b7063d40f3f42c3ba01aedcd8820036": {
     "model_module": "@jupyter-widgets/controls",
     "model_module_version": "1.5.0",
     "model_name": "DescriptionStyleModel",
     "state": {
      "_model_module": "@jupyter-widgets/controls",
      "_model_module_version": "1.5.0",
      "_model_name": "DescriptionStyleModel",
      "_view_count": null,
      "_view_module": "@jupyter-widgets/base",
      "_view_module_version": "1.2.0",
      "_view_name": "StyleView",
      "description_width": ""
     }
    },
    "98a426bf4b0b4980aa93ff2a78d5da5a": {
     "model_module": "@jupyter-widgets/controls",
     "model_module_version": "1.5.0",
     "model_name": "HBoxModel",
     "state": {
      "_dom_classes": [],
      "_model_module": "@jupyter-widgets/controls",
      "_model_module_version": "1.5.0",
      "_model_name": "HBoxModel",
      "_view_count": null,
      "_view_module": "@jupyter-widgets/controls",
      "_view_module_version": "1.5.0",
      "_view_name": "HBoxView",
      "box_style": "",
      "children": [
       "IPY_MODEL_eddbd1d9ae6f4a3d8afb3074087b214a",
       "IPY_MODEL_34442cc173a4408daf843bfff0ba0bfe",
       "IPY_MODEL_5431dc3e6d92420da1b2d2713ce4ba57"
      ],
      "layout": "IPY_MODEL_f605d9c55b5f437582a2d59223f0b413"
     }
    },
    "b89ac787be714866869b7e99590449c5": {
     "model_module": "@jupyter-widgets/controls",
     "model_module_version": "1.5.0",
     "model_name": "ProgressStyleModel",
     "state": {
      "_model_module": "@jupyter-widgets/controls",
      "_model_module_version": "1.5.0",
      "_model_name": "ProgressStyleModel",
      "_view_count": null,
      "_view_module": "@jupyter-widgets/base",
      "_view_module_version": "1.2.0",
      "_view_name": "StyleView",
      "bar_color": null,
      "description_width": ""
     }
    },
    "eddbd1d9ae6f4a3d8afb3074087b214a": {
     "model_module": "@jupyter-widgets/controls",
     "model_module_version": "1.5.0",
     "model_name": "HTMLModel",
     "state": {
      "_dom_classes": [],
      "_model_module": "@jupyter-widgets/controls",
      "_model_module_version": "1.5.0",
      "_model_name": "HTMLModel",
      "_view_count": null,
      "_view_module": "@jupyter-widgets/controls",
      "_view_module_version": "1.5.0",
      "_view_name": "HTMLView",
      "description": "",
      "description_tooltip": null,
      "layout": "IPY_MODEL_473acdbbd3bb4ba89eed3fecc2e7236a",
      "placeholder": "​",
      "style": "IPY_MODEL_5b7063d40f3f42c3ba01aedcd8820036",
      "value": "100%"
     }
    },
    "f3ef91d3299147c995507c1163aa0d68": {
     "model_module": "@jupyter-widgets/controls",
     "model_module_version": "1.5.0",
     "model_name": "DescriptionStyleModel",
     "state": {
      "_model_module": "@jupyter-widgets/controls",
      "_model_module_version": "1.5.0",
      "_model_name": "DescriptionStyleModel",
      "_view_count": null,
      "_view_module": "@jupyter-widgets/base",
      "_view_module_version": "1.2.0",
      "_view_name": "StyleView",
      "description_width": ""
     }
    },
    "f605d9c55b5f437582a2d59223f0b413": {
     "model_module": "@jupyter-widgets/base",
     "model_module_version": "1.2.0",
     "model_name": "LayoutModel",
     "state": {
      "_model_module": "@jupyter-widgets/base",
      "_model_module_version": "1.2.0",
      "_model_name": "LayoutModel",
      "_view_count": null,
      "_view_module": "@jupyter-widgets/base",
      "_view_module_version": "1.2.0",
      "_view_name": "LayoutView",
      "align_content": null,
      "align_items": null,
      "align_self": null,
      "border": null,
      "bottom": null,
      "display": null,
      "flex": null,
      "flex_flow": null,
      "grid_area": null,
      "grid_auto_columns": null,
      "grid_auto_flow": null,
      "grid_auto_rows": null,
      "grid_column": null,
      "grid_gap": null,
      "grid_row": null,
      "grid_template_areas": null,
      "grid_template_columns": null,
      "grid_template_rows": null,
      "height": null,
      "justify_content": null,
      "justify_items": null,
      "left": null,
      "margin": null,
      "max_height": null,
      "max_width": null,
      "min_height": null,
      "min_width": null,
      "object_fit": null,
      "object_position": null,
      "order": null,
      "overflow": null,
      "overflow_x": null,
      "overflow_y": null,
      "padding": null,
      "right": null,
      "top": null,
      "visibility": null,
      "width": null
     }
    }
   }
  }
 },
 "nbformat": 4,
 "nbformat_minor": 5
}
